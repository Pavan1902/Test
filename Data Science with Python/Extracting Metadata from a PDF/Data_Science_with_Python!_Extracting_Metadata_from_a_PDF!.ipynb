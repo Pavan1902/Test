{
  "cells": [
    {
      "cell_type": "markdown",
      "metadata": {
        "id": "view-in-github",
        "colab_type": "text"
      },
      "source": [
        "<a href=\"https://colab.research.google.com/github/ad17171717/YouTube-Tutorials/blob/main/Data%20Science%20with%20Python/Extracting%20Metadata%20from%20a%20PDF/Data_Science_with_Python!_Extracting_Metadata_from_a_PDF!.ipynb\" target=\"_parent\"><img src=\"https://colab.research.google.com/assets/colab-badge.svg\" alt=\"Open In Colab\"/></a>"
      ]
    },
    {
      "cell_type": "code",
      "execution_count": null,
      "id": "49a59982",
      "metadata": {
        "id": "49a59982"
      },
      "outputs": [],
      "source": [
        "!pip install PyPDF2"
      ]
    },
    {
      "cell_type": "code",
      "execution_count": null,
      "id": "c594d2e8",
      "metadata": {
        "id": "c594d2e8"
      },
      "outputs": [],
      "source": [
        "from PyPDF2 import PdfReader, PdfWriter\n",
        "import os"
      ]
    },
    {
      "cell_type": "markdown",
      "id": "6c7eb73f",
      "metadata": {
        "id": "6c7eb73f"
      },
      "source": [
        "**PyPDF2 is a free and open-source pure-python PDF library capable of splitting, merging, cropping, and transforming the pages of PDF files. It can also add custom data, viewing options, and passwords to PDF files. PyPDF2 can retrieve text and metadata from PDFs as well.**"
      ]
    },
    {
      "cell_type": "markdown",
      "id": "00e3583a",
      "metadata": {
        "id": "00e3583a"
      },
      "source": [
        "<sup>Source: [PyPDF2](https://github.com/py-pdf/PyPDF2) from GitHub.com<sup/>"
      ]
    },
    {
      "cell_type": "code",
      "execution_count": null,
      "id": "cbda59ac",
      "metadata": {
        "id": "cbda59ac"
      },
      "outputs": [],
      "source": [
        "#save files with a pdf extension into a list\n",
        "pdf_list = [pdf for pdf in os.listdir() if '.pdf' in pdf]\n",
        "print(pdf_list)\n",
        "\n",
        "#use indexing to save pdf file name into a variable\n",
        "pdf = pdf_list[0]"
      ]
    },
    {
      "cell_type": "markdown",
      "id": "23656113",
      "metadata": {
        "id": "23656113"
      },
      "source": [
        "# **Metadata**\n",
        "\n",
        "**Metadata is structured information that describes, explains, locates or otherwise makes it easier to retrieve, use, or manage an information resource. Metadata is often called data about data or information about information.**\n",
        "\n",
        "**For example, PDF metadata can include: the date the PDF was create, the author and website hyperlinks.**"
      ]
    },
    {
      "cell_type": "markdown",
      "id": "93989cbe",
      "metadata": {
        "id": "93989cbe"
      },
      "source": [
        "<sup>[Understanding Metadata](https://www.lter.uaf.edu/metadata_files/UnderstandingMetadata.pdf) by the National Information Standards Organization</sup>"
      ]
    },
    {
      "cell_type": "markdown",
      "id": "2491f954",
      "metadata": {
        "id": "2491f954"
      },
      "source": [
        "# **Extracting Metadata**"
      ]
    },
    {
      "cell_type": "code",
      "execution_count": null,
      "id": "f60fb7c0",
      "metadata": {
        "id": "f60fb7c0"
      },
      "outputs": [],
      "source": [
        "#read in the pdf file with the PdfReader object\n",
        "reader = PdfReader(pdf)\n",
        "meta = reader.metadata\n",
        "meta"
      ]
    },
    {
      "cell_type": "markdown",
      "id": "7581da31",
      "metadata": {
        "id": "7581da31"
      },
      "source": [
        "# **Writing Metadata to a PDF**"
      ]
    },
    {
      "cell_type": "code",
      "execution_count": null,
      "id": "d7ae2896",
      "metadata": {
        "id": "d7ae2896"
      },
      "outputs": [],
      "source": [
        "#write a new pdf copy containing additional metadata with the PdfWriter object\n",
        "writer = PdfWriter()\n",
        "pdf_output_file = pdf.replace('.pdf',' (with Metadata).pdf')\n",
        "print(pdf_output_file)"
      ]
    },
    {
      "cell_type": "code",
      "execution_count": null,
      "id": "731ac85a",
      "metadata": {
        "id": "731ac85a"
      },
      "outputs": [],
      "source": [
        "#add pages to the new pdf copy using a for loop\n",
        "for page in reader.pages:\n",
        "    writer.add_page(page)\n",
        "\n",
        "#when writing metadata add a forward slash \"/\" to the key\n",
        "writer.add_metadata({'/Author':'Adrian Dolinay','/Subject':'Data Science','/Date Written':'3/13/2023',\n",
        "                     '/Title':'Data Science with Python! Extracting Metadata from Images',\n",
        "                     '/Medium Article': 'https://adriandolinay.medium.com/data-science-with-python-extracting-metadata-from-images-9b8301f02fe2',\n",
        "                     '/YouTube Link':'https://www.youtube.com/watch?v=JYvhn3Vp0Tk&ab_channel=AdrianDolinay'})\n",
        "\n",
        "with open(pdf_output_file, 'wb') as pdf_file:\n",
        "    writer.write(pdf_file)"
      ]
    },
    {
      "cell_type": "code",
      "execution_count": null,
      "id": "1a96f408",
      "metadata": {
        "id": "1a96f408"
      },
      "outputs": [],
      "source": [
        "reader = PdfReader(pdf_output_file)\n",
        "meta = reader.metadata\n",
        "meta"
      ]
    },
    {
      "cell_type": "markdown",
      "id": "abb08dc8",
      "metadata": {
        "id": "abb08dc8"
      },
      "source": [
        "# **Removing Metadata**"
      ]
    },
    {
      "cell_type": "code",
      "execution_count": null,
      "id": "ee4e4d5c",
      "metadata": {
        "id": "ee4e4d5c"
      },
      "outputs": [],
      "source": [
        "writer = PdfWriter()\n",
        "pdf_no_meta = pdf.replace('.pdf',' (no Metadata).pdf')"
      ]
    },
    {
      "cell_type": "code",
      "execution_count": null,
      "id": "25bf85dc",
      "metadata": {
        "id": "25bf85dc"
      },
      "outputs": [],
      "source": [
        "reader = PdfReader(pdf_no_meta)\n",
        "no_meta = reader.metadata\n",
        "no_meta"
      ]
    },
    {
      "cell_type": "code",
      "execution_count": null,
      "id": "529c0280",
      "metadata": {
        "id": "529c0280"
      },
      "outputs": [],
      "source": [
        "for page in reader.pages:\n",
        "    writer.add_page(page)\n",
        "\n",
        "writer.add_metadata({'/Producer': ''})\n",
        "    \n",
        "with open(pdf_no_meta, 'wb') as pdf_file:\n",
        "    writer.write(pdf_file)"
      ]
    },
    {
      "cell_type": "code",
      "execution_count": null,
      "id": "a026cbc1",
      "metadata": {
        "id": "a026cbc1"
      },
      "outputs": [],
      "source": [
        "reader = PdfReader(pdf_no_meta)\n",
        "no_meta = reader.metadata\n",
        "no_meta"
      ]
    },
    {
      "cell_type": "markdown",
      "id": "cda845a4",
      "metadata": {
        "id": "cda845a4"
      },
      "source": [
        "# **References and Additional Learning**"
      ]
    },
    {
      "cell_type": "markdown",
      "id": "b9d77d33",
      "metadata": {
        "id": "b9d77d33"
      },
      "source": [
        "## **Module Documentation**\n",
        "\n",
        "- **[PyPDF2](https://github.com/py-pdf/PyPDF2) from GitHub.com**"
      ]
    },
    {
      "cell_type": "markdown",
      "id": "6ba765d2",
      "metadata": {
        "id": "6ba765d2"
      },
      "source": [
        "## **Video**\n",
        "\n",
        "- **[Encrypting and Decrypting PDFs with Python!](https://www.youtube.com/watch?v=_b96G79IahQ&ab_channel=AdrianDolinay) by Adrian Dolinay**\n",
        "\n",
        "- **[Merging PDFs with Python!](https://www.youtube.com/watch?v=CMEHOjQksUs) by Adrian Dolinay**"
      ]
    },
    {
      "cell_type": "markdown",
      "id": "c0f36c51",
      "metadata": {
        "id": "c0f36c51"
      },
      "source": [
        "## **Website**\n",
        "\n",
        "- **[Understanding Metadata](https://www.lter.uaf.edu/metadata_files/UnderstandingMetadata.pdf) by the National Information Standards Organization**"
      ]
    },
    {
      "cell_type": "markdown",
      "id": "b665845f",
      "metadata": {
        "id": "b665845f"
      },
      "source": [
        "# **Connect**\n",
        "- **Feel free to connect with Adrian on [YouTube](https://www.youtube.com/channel/UCPuDxI3xb_ryUUMfkm0jsRA), [LinkedIn](https://www.linkedin.com/in/adrian-dolinay-frm-96a289106/), [Twitter](https://twitter.com/DolinayG), [GitHub](https://github.com/ad17171717), [Medium](https://adriandolinay.medium.com/) and [Odysee](https://odysee.com/@adriandolinay:0). Happy coding!**"
      ]
    }
  ],
  "metadata": {
    "kernelspec": {
      "display_name": "Python 3 (ipykernel)",
      "language": "python",
      "name": "python3"
    },
    "language_info": {
      "codemirror_mode": {
        "name": "ipython",
        "version": 3
      },
      "file_extension": ".py",
      "mimetype": "text/x-python",
      "name": "python",
      "nbconvert_exporter": "python",
      "pygments_lexer": "ipython3",
      "version": "3.10.10"
    },
    "colab": {
      "provenance": [],
      "include_colab_link": true
    }
  },
  "nbformat": 4,
  "nbformat_minor": 5
}
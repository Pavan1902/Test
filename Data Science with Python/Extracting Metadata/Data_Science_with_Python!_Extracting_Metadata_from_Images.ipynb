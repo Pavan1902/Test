{
  "cells": [
    {
      "cell_type": "markdown",
      "metadata": {
        "id": "view-in-github",
        "colab_type": "text"
      },
      "source": [
        "<a href=\"https://colab.research.google.com/github/ad17171717/YouTube-Tutorials/blob/main/Data%20Science%20with%20Python/Extracting%20Metadata/Data_Science_with_Python!_Extracting_Metadata_from_Images.ipynb\" target=\"_parent\"><img src=\"https://colab.research.google.com/assets/colab-badge.svg\" alt=\"Open In Colab\"/></a>"
      ]
    },
    {
      "cell_type": "code",
      "source": [
        "#module to plot location on a map\n",
        "!pip install ipyleaflet"
      ],
      "metadata": {
        "id": "CY0dluq6e3HB"
      },
      "execution_count": null,
      "outputs": []
    },
    {
      "cell_type": "code",
      "source": [
        "from IPython import display\n",
        "from PIL import Image, ExifTags\n",
        "from ipyleaflet import Map, Marker"
      ],
      "metadata": {
        "id": "Oln0fihfe3xQ"
      },
      "execution_count": null,
      "outputs": []
    },
    {
      "cell_type": "markdown",
      "source": [
        "# **Metadata**\n",
        "\n",
        "**Metadata is structured information that describes, explains, locates or otherwise makes it easier to retrieve, use, or manage an information resource. Metadata is often called data about data or information about information.**\n",
        "\n",
        "**For example, the location where a photograph was taken, the type of camera used and the the time the photograph was taken is metadata about a digital photograph.**"
      ],
      "metadata": {
        "id": "ACHS6ZRkTklA"
      }
    },
    {
      "cell_type": "markdown",
      "source": [
        "<sup>[Understanding Metadata](https://www.lter.uaf.edu/metadata_files/UnderstandingMetadata.pdf) by the National Information Standards Organization</sup>"
      ],
      "metadata": {
        "id": "oJkTyISLWAR6"
      }
    },
    {
      "cell_type": "markdown",
      "source": [
        "# **Display Image**"
      ],
      "metadata": {
        "id": "PJkT8ygTdz3E"
      }
    },
    {
      "cell_type": "code",
      "source": [
        "display.Image('/content/climb_photo.jpg',width=504,height=672)"
      ],
      "metadata": {
        "id": "9TMT1UY7Yd9X"
      },
      "execution_count": null,
      "outputs": []
    },
    {
      "cell_type": "markdown",
      "source": [
        "# **EXIF Files**\n",
        "\n",
        "**An EXIF (Exchangeable Image File Format) file stores metadata for digital photographs. Many phones and cameras create these data files each time a picture is taken.**"
      ],
      "metadata": {
        "id": "vZmUTtaW3LcY"
      }
    },
    {
      "cell_type": "markdown",
      "source": [
        "<sup>Source: [EXIF files](https://www.adobe.com/creativecloud/file-types/image/raster/exif-file.html) from Adobe<sup/>"
      ],
      "metadata": {
        "id": "ATW2rGve3hoi"
      }
    },
    {
      "cell_type": "code",
      "execution_count": null,
      "metadata": {
        "id": "4V11HhAMA_vC"
      },
      "outputs": [],
      "source": [
        "def get_exif(filename):\n",
        "    exif_data = {}\n",
        "    image = Image.open(filename)\n",
        "    #save the metadata in the picture into a variable\n",
        "    info = image._getexif()\n",
        "    if info:\n",
        "      #match the numerical tags to the ExifTags dictionary\n",
        "      for tag, value in info.items():\n",
        "          decoded = ExifTags.TAGS.get(tag, tag)\n",
        "          #nested dictionary containing location data under 'GPSInfo'\n",
        "          if decoded == \"GPSInfo\":\n",
        "              gps_data = {}\n",
        "              for gps_tag in value:\n",
        "                  sub_decoded = ExifTags.GPSTAGS.get(gps_tag, gps_tag)\n",
        "                  gps_data[sub_decoded] = value[gps_tag]\n",
        "              exif_data[decoded] = gps_data\n",
        "          else:\n",
        "              exif_data[decoded] = value\n",
        "\n",
        "    return exif_data"
      ]
    },
    {
      "cell_type": "markdown",
      "source": [
        "<sup>Source: [Extract GPS data using python and PIL is failing](https://stackoverflow.com/questions/72530975/extract-gps-data-using-python-and-pil-is-failing) from answer on StackOverflow.com<sup/>"
      ],
      "metadata": {
        "id": "m6CPunu6CmFU"
      }
    },
    {
      "cell_type": "code",
      "execution_count": null,
      "metadata": {
        "id": "X9DoOW3GBAbU"
      },
      "outputs": [],
      "source": [
        "exif_data = get_exif('/content/climb_photo.jpg')"
      ]
    },
    {
      "cell_type": "code",
      "source": [
        "print(exif_data)"
      ],
      "metadata": {
        "id": "xGjVFpIzCahb"
      },
      "execution_count": null,
      "outputs": []
    },
    {
      "cell_type": "markdown",
      "source": [
        "# **Extracting the Date and Time a Picture was Taken**"
      ],
      "metadata": {
        "id": "nU_ARi7WrBuQ"
      }
    },
    {
      "cell_type": "code",
      "source": [
        "exif_data['DateTime']"
      ],
      "metadata": {
        "id": "f0Zjg46ArEq4"
      },
      "execution_count": null,
      "outputs": []
    },
    {
      "cell_type": "markdown",
      "source": [
        "# **Extracting Decimal Degree Format to Map Image**\n",
        "\n",
        "**Decimal degrees (DD) is a notation for expressing latitude and longitude geographic coordinates as decimal fractions of a degree. DD are used in many geographic information systems (GIS), web mapping applications such as OpenStreetMap, and GPS devices.**"
      ],
      "metadata": {
        "id": "HAJFF6gJVwIH"
      }
    },
    {
      "cell_type": "markdown",
      "source": [
        "<sup>Source: [Decimal degrees](https://en.wikipedia.org/wiki/Decimal_degrees) from Wikipedia.org<sup/>"
      ],
      "metadata": {
        "id": "XnA7_ur9R1PA"
      }
    },
    {
      "cell_type": "code",
      "source": [
        "def gps_extract(exif_dict):\n",
        "  gps_metadata = exif_dict['GPSInfo']\n",
        "\n",
        "  #latitudinal information\n",
        "  #positive latitudes are north of the equator, negative latitudes are south of the equator\n",
        "  lat_ref_num = 0\n",
        "  if gps_metadata['GPSLatitudeRef'] == 'N':\n",
        "    lat_ref_num += 1\n",
        "  if gps_metadata['GPSLatitudeRef'] == 'S':\n",
        "    lat_ref_num -= 1\n",
        "\n",
        "  lat_list = [float(num) for num in gps_metadata['GPSLatitude']]\n",
        "  lat_coordiante = (lat_list[0]+lat_list[1]/60+lat_list[2]/3600) * lat_ref_num\n",
        "\n",
        "  #longitudinal information\n",
        "  #positive longitudes are east of the prime meridian, negative longitudes are west of the prime meridian\n",
        "  long_ref_num = 0\n",
        "  if gps_metadata['GPSLongitudeRef'] == 'E':\n",
        "    long_ref_num += 1\n",
        "  if gps_metadata['GPSLongitudeRef'] == 'W':\n",
        "    long_ref_num -= 1\n",
        "\n",
        "  long_list = [float(num) for num in gps_metadata['GPSLongitude']]\n",
        "  long_coordiante = (long_list[0]+long_list[1]/60+long_list[2]/3600) * long_ref_num\n",
        "\n",
        "  \n",
        "  #return the latitude and longitude as a tuple\n",
        "  return (lat_coordiante,long_coordiante)"
      ],
      "metadata": {
        "id": "5P8COGqvVIRH"
      },
      "execution_count": null,
      "outputs": []
    },
    {
      "cell_type": "markdown",
      "source": [
        "# **Plotting the Location with `ipyleaflet`**"
      ],
      "metadata": {
        "id": "augEco-de8xv"
      }
    },
    {
      "cell_type": "code",
      "source": [
        "center = gps_extract(exif_data)\n",
        "\n",
        "#create a map using ipyleaflet's \"Map\" class \n",
        "m = Map(center=center, zoom=15)\n",
        "\n",
        "#set a marker on a map\n",
        "marker = Marker(location=center, draggable=False)\n",
        "m.add_layer(marker);\n",
        "\n",
        "m"
      ],
      "metadata": {
        "id": "XjyZCC8ReSF_"
      },
      "execution_count": null,
      "outputs": []
    },
    {
      "cell_type": "markdown",
      "source": [
        "# **Image Files Missing Metadata**"
      ],
      "metadata": {
        "id": "QfFVEb5gh0NO"
      }
    },
    {
      "cell_type": "code",
      "source": [
        "display.Image('/content/neymar.jpg',width=512,height=313)"
      ],
      "metadata": {
        "id": "HEWtGjk1h3Ll"
      },
      "execution_count": null,
      "outputs": []
    },
    {
      "cell_type": "code",
      "source": [
        "get_exif('/content/neymar.jpg')"
      ],
      "metadata": {
        "id": "yrgudIhGBdMC"
      },
      "execution_count": null,
      "outputs": []
    },
    {
      "cell_type": "markdown",
      "source": [
        "# **Removing Exif Data from Image**"
      ],
      "metadata": {
        "id": "b6no8Hf_Mno3"
      }
    },
    {
      "cell_type": "code",
      "source": [
        "#exif data can be removed by reading a picture to pillow's Image class\n",
        "#then a copy of the picture can be saved or the original can be overwritten\n",
        "#from the Image class\n",
        "\n",
        "img = Image.open('/content/climb_photo.jpg')\n",
        "img.save('climb_no_meta.jpg')\n",
        "get_exif('/content/climb_no_meta.jpg')"
      ],
      "metadata": {
        "id": "ehRwXHXbMuWW"
      },
      "execution_count": null,
      "outputs": []
    },
    {
      "cell_type": "code",
      "source": [
        "display.Image('/content/climb_no_meta.jpg',width=504,height=672)"
      ],
      "metadata": {
        "id": "w6dywnG1N1jO"
      },
      "execution_count": null,
      "outputs": []
    },
    {
      "cell_type": "markdown",
      "source": [
        "# **References and Additional Learning**"
      ],
      "metadata": {
        "id": "dd98hWRXiLuw"
      }
    },
    {
      "cell_type": "markdown",
      "source": [
        "## **Websites**\n",
        "\n",
        "- **[Decimal degrees](https://en.wikipedia.org/wiki/Decimal_degrees) from Wikipedia.org**\n",
        "\n",
        "- **[EXIF files](https://www.adobe.com/creativecloud/file-types/image/raster/exif-file.html) from Adobe**\n",
        "\n",
        "- **[ExifTags](https://pillow.readthedocs.io/en/stable/reference/ExifTags.html) from Pillow's Documentation Site**\n",
        "\n",
        "- **[Extract GPS data using python and PIL is failing](https://stackoverflow.com/questions/72530975/extract-gps-data-using-python-and-pil-is-failing) from StackOverflow.com**\n",
        "\n",
        "- **[ipyleaflet Documentation](https://ipyleaflet.readthedocs.io/en/latest/)**\n",
        "\n",
        "- **[Understanding Metadata](https://www.lter.uaf.edu/metadata_files/UnderstandingMetadata.pdf) by the National Information Standards Organization**"
      ],
      "metadata": {
        "id": "bUOepbzHiN8F"
      }
    },
    {
      "cell_type": "markdown",
      "source": [
        "# **Connect**\n",
        "**Feel free to connect with Adrian on [YouTube](https://www.youtube.com/channel/UCPuDxI3xb_ryUUMfkm0jsRA), [LinkedIn](https://www.linkedin.com/in/adrian-dolinay-frm-96a289106/), [Twitter](https://twitter.com/DolinayG), [GitHub](https://github.com/ad17171717) and [Odysee](https://odysee.com/@adriandolinay:0). Happy coding!**"
      ],
      "metadata": {
        "id": "IWdI836tiOau"
      }
    }
  ],
  "metadata": {
    "colab": {
      "provenance": [],
      "authorship_tag": "ABX9TyNvpl+B9/+1RV2cy5+VdwEl",
      "include_colab_link": true
    },
    "kernelspec": {
      "display_name": "Python 3",
      "name": "python3"
    },
    "language_info": {
      "name": "python"
    }
  },
  "nbformat": 4,
  "nbformat_minor": 0
}
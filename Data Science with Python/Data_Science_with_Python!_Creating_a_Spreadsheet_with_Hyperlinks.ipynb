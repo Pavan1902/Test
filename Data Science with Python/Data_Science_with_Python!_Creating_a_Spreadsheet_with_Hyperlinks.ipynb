{
  "cells": [
    {
      "cell_type": "markdown",
      "metadata": {
        "id": "view-in-github",
        "colab_type": "text"
      },
      "source": [
        "<a href=\"https://colab.research.google.com/github/ad17171717/YouTube-Tutorials/blob/main/Data%20Science%20with%20Python/Data_Science_with_Python!_Creating_a_Spreadsheet_with_Hyperlinks.ipynb\" target=\"_parent\"><img src=\"https://colab.research.google.com/assets/colab-badge.svg\" alt=\"Open In Colab\"/></a>"
      ]
    },
    {
      "cell_type": "code",
      "execution_count": null,
      "id": "5340e6b5",
      "metadata": {
        "id": "5340e6b5"
      },
      "outputs": [],
      "source": [
        "import pandas as pd"
      ]
    },
    {
      "cell_type": "markdown",
      "source": [
        "# **Hyperlinks**\n",
        "\n",
        "**A hyperlink is an electronic link providing direct access from one distinctively marked place in a hypertext or hypermedia document to another in the same or a different document.**\n",
        "\n",
        "**On the Internet hyperlinks are used to connect different webpages.**"
      ],
      "metadata": {
        "id": "E7bY38uhbNPP"
      },
      "id": "E7bY38uhbNPP"
    },
    {
      "cell_type": "markdown",
      "source": [
        "<sup>Source: [Hyperlink Definition](https://www.merriam-webster.com/dictionary/hyperlink) from Merriam-Webster<sup/>\n",
        "\n",
        "<sup>Source: [Understanding hyperlinks](https://edu.gcfglobal.org/en/internetbasics/understanding-hyperlinks/1/) from GCFGlobal<sup/>"
      ],
      "metadata": {
        "id": "2fZ1mJ1vbNpU"
      },
      "id": "2fZ1mJ1vbNpU"
    },
    {
      "cell_type": "code",
      "execution_count": null,
      "id": "4a40ce76",
      "metadata": {
        "id": "4a40ce76"
      },
      "outputs": [],
      "source": [
        "country_data = {'Country': ['Argentina','Belize','Bolivia','Brazil','Chile','Colombia'],\n",
        "               'Wikipedia Link': ['https://en.wikipedia.org/wiki/Argentina','https://en.wikipedia.org/wiki/Belize','https://en.wikipedia.org/wiki/Bolivia','https://en.wikipedia.org/wiki/Brazil','https://en.wikipedia.org/wiki/Chile','https://en.wikipedia.org/wiki/Colombia']}"
      ]
    },
    {
      "cell_type": "code",
      "execution_count": null,
      "id": "fa0d7cd6",
      "metadata": {
        "id": "fa0d7cd6"
      },
      "outputs": [],
      "source": [
        "hyperlinks = []\n",
        "\n",
        "for country, link in zip(country_data['Country'],country_data['Wikipedia Link']):\n",
        "    hyperlinks.append(f'=HYPERLINK(\"{link}\",\"{country} Wiki\")')\n",
        "    \n",
        "country_data['Hyperlink'] = hyperlinks"
      ]
    },
    {
      "cell_type": "code",
      "execution_count": null,
      "id": "1cb3298a",
      "metadata": {
        "id": "1cb3298a"
      },
      "outputs": [],
      "source": [
        "country_data.pop('Wikipedia Link',None)"
      ]
    },
    {
      "cell_type": "code",
      "execution_count": null,
      "id": "a30fa8f0",
      "metadata": {
        "id": "a30fa8f0"
      },
      "outputs": [],
      "source": [
        "df = pd.DataFrame(country_data)\n",
        "df"
      ]
    },
    {
      "cell_type": "code",
      "execution_count": null,
      "id": "7388457f",
      "metadata": {
        "id": "7388457f"
      },
      "outputs": [],
      "source": [
        "df.to_excel('country_data.xlsx',index=False)"
      ]
    },
    {
      "cell_type": "markdown",
      "id": "33564a6f",
      "metadata": {
        "id": "33564a6f"
      },
      "source": [
        "# **References and Additional Learning**"
      ]
    },
    {
      "cell_type": "markdown",
      "id": "325746dc",
      "metadata": {
        "id": "325746dc"
      },
      "source": [
        "## **Websites**\n",
        "\n",
        "- **[Hyperlink Definition](https://www.merriam-webster.com/dictionary/hyperlink) from Merriam-Webster**\n",
        "\n",
        "- **[Understanding hyperlinks](https://edu.gcfglobal.org/en/internetbasics/understanding-hyperlinks/1/) from GCFGlobal**"
      ]
    },
    {
      "cell_type": "markdown",
      "id": "788b0e9e",
      "metadata": {
        "id": "788b0e9e"
      },
      "source": [
        "# **Connect**\n",
        "**Feel free to connect with Adrian on [YouTube](https://www.youtube.com/channel/UCPuDxI3xb_ryUUMfkm0jsRA), [LinkedIn](https://www.linkedin.com/in/adrian-dolinay-frm-96a289106/), [Twitter](https://twitter.com/DolinayG), [GitHub](https://github.com/ad17171717) and [Odysee](https://odysee.com/@adriandolinay:0). Happy coding!**"
      ]
    }
  ],
  "metadata": {
    "hide_input": false,
    "kernelspec": {
      "display_name": "Python 3 (ipykernel)",
      "language": "python",
      "name": "python3"
    },
    "language_info": {
      "codemirror_mode": {
        "name": "ipython",
        "version": 3
      },
      "file_extension": ".py",
      "mimetype": "text/x-python",
      "name": "python",
      "nbconvert_exporter": "python",
      "pygments_lexer": "ipython3",
      "version": "3.10.7"
    },
    "colab": {
      "provenance": [],
      "include_colab_link": true
    }
  },
  "nbformat": 4,
  "nbformat_minor": 5
}
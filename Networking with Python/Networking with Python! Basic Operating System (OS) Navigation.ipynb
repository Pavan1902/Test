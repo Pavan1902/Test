{
 "cells": [
  {
   "cell_type": "code",
   "execution_count": 1,
   "id": "d8818c71",
   "metadata": {},
   "outputs": [],
   "source": [
    "import os"
   ]
  },
  {
   "cell_type": "markdown",
   "id": "7fb4ee59",
   "metadata": {
    "id": "7fb4ee59"
   },
   "source": [
    "# **The `os` Package**\n",
    "\n",
    "**The `os` module provides a portable way of using operating system dependent functionality.**"
   ]
  },
  {
   "cell_type": "markdown",
   "id": "6a91cca6",
   "metadata": {
    "id": "6a91cca6"
   },
   "source": [
    "<sup>Source: os Package Documentation from [python.org](https://docs.python.org/3/library/os.html)</sup>"
   ]
  },
  {
   "cell_type": "markdown",
   "id": "60c88c82",
   "metadata": {
    "id": "60c88c82"
   },
   "source": [
    "## **`os.getcwd` Function**\n",
    "\n",
    "**The `os.getcwd` returns the current working directory.**"
   ]
  },
  {
   "cell_type": "code",
   "execution_count": 2,
   "id": "bb7f1470",
   "metadata": {},
   "outputs": [
    {
     "data": {
      "text/plain": [
       "'C:\\\\Users\\\\Adrian\\\\Downloads\\\\OS Nav'"
      ]
     },
     "execution_count": 2,
     "metadata": {},
     "output_type": "execute_result"
    }
   ],
   "source": [
    "os.getcwd()"
   ]
  },
  {
   "cell_type": "markdown",
   "id": "cd32bbfd",
   "metadata": {
    "id": "cd32bbfd"
   },
   "source": [
    "## **`os.listdir` Function**\n",
    "\n",
    "**The `os.listdir` function return a list containing the names of the entries in the directory given by path.**"
   ]
  },
  {
   "cell_type": "code",
   "execution_count": 3,
   "id": "14e7696f",
   "metadata": {},
   "outputs": [
    {
     "data": {
      "text/plain": [
       "['.ipynb_checkpoints',\n",
       " 'nasa.csv',\n",
       " 'Networking with Python! Basic Operating System (OS) Navigation.ipynb']"
      ]
     },
     "execution_count": 3,
     "metadata": {},
     "output_type": "execute_result"
    }
   ],
   "source": [
    "os.listdir()"
   ]
  },
  {
   "cell_type": "markdown",
   "id": "0765f7fd",
   "metadata": {
    "id": "0765f7fd"
   },
   "source": [
    "## **`os.walk` Function**\n",
    "\n",
    "**To return the full path of a folder or file, we can use the `os.walk` function. `os.walk` is a generator function that returns a tuple containing: the current path, sub-diretories and filenames.**"
   ]
  },
  {
   "cell_type": "markdown",
   "id": "48e85bb6",
   "metadata": {
    "id": "48e85bb6"
   },
   "source": [
    "<sup>Source: [Mastering Python for Networking and Security](https://www.packtpub.com/product/mastering-python-for-networking-and-security/9781788992510) by José Manuel Ortega</sup>"
   ]
  },
  {
   "cell_type": "code",
   "execution_count": 5,
   "id": "6be6399d",
   "metadata": {},
   "outputs": [
    {
     "name": "stdout",
     "output_type": "stream",
     "text": [
      "C:\\Users\\Adrian\\Downloads\\OS Nav\\.ipynb_checkpoints\n",
      "C:\\Users\\Adrian\\Downloads\\OS Nav\\nasa.csv\n",
      "C:\\Users\\Adrian\\Downloads\\OS Nav\\Networking with Python! Basic Operating System (OS) Navigation.ipynb\n",
      "C:\\Users\\Adrian\\Downloads\\OS Nav\\.ipynb_checkpoints\\Networking with Python! Basic Operating System (OS) Navigation-checkpoint.ipynb\n"
     ]
    }
   ],
   "source": [
    "for root, dirs, files in os.walk(os.getcwd()):\n",
    "    for directory in dirs:\n",
    "        print(os.path.join(root,directory))\n",
    "    for file in files:\n",
    "        print(os.path.join(root,file))"
   ]
  },
  {
   "cell_type": "markdown",
   "id": "4d2862a5",
   "metadata": {},
   "source": [
    "## **Creating a Folder with the `os.mkdir` Function**"
   ]
  },
  {
   "cell_type": "code",
   "execution_count": 7,
   "id": "878fa53e",
   "metadata": {},
   "outputs": [
    {
     "name": "stdout",
     "output_type": "stream",
     "text": [
      "The directory already exists\n"
     ]
    }
   ],
   "source": [
    "if os.path.exists('Asteroid_Data') == False:\n",
    "    os.mkdir('Asteroid_Data')\n",
    "else:\n",
    "    print('The directory already exists')"
   ]
  },
  {
   "cell_type": "markdown",
   "id": "faf5ef0e",
   "metadata": {
    "id": "faf5ef0e"
   },
   "source": [
    "## **`os.chdir` Function**\n",
    "\n",
    "**The `os.chdir` function changes the directory the user is working in.**"
   ]
  },
  {
   "cell_type": "code",
   "execution_count": 9,
   "id": "1eb1d880",
   "metadata": {},
   "outputs": [],
   "source": [
    "os.chdir(r'C:\\Users\\Adrian\\Downloads\\OS Nav\\Asteroid_Data')"
   ]
  },
  {
   "cell_type": "code",
   "execution_count": 10,
   "id": "0e3e1d10",
   "metadata": {},
   "outputs": [
    {
     "data": {
      "text/plain": [
       "'C:\\\\Users\\\\Adrian\\\\Downloads\\\\OS Nav\\\\Asteroid_Data'"
      ]
     },
     "execution_count": 10,
     "metadata": {},
     "output_type": "execute_result"
    }
   ],
   "source": [
    "os.getcwd()"
   ]
  },
  {
   "cell_type": "markdown",
   "id": "7d835c19",
   "metadata": {
    "id": "7d835c19"
   },
   "source": [
    "## **`os.rename` Function**\n",
    "\n",
    "**We can use the `os.rename` function to move a file between directories.**"
   ]
  },
  {
   "cell_type": "code",
   "execution_count": 11,
   "id": "2c35e923",
   "metadata": {},
   "outputs": [],
   "source": [
    "os.rename(r'C:\\Users\\Adrian\\Downloads\\OS Nav\\nasa.csv',\n",
    "          r'C:\\Users\\Adrian\\Downloads\\OS Nav\\Asteroid_Data\\nasa.csv')"
   ]
  },
  {
   "cell_type": "code",
   "execution_count": null,
   "id": "e095a95f",
   "metadata": {},
   "outputs": [],
   "source": []
  },
  {
   "cell_type": "markdown",
   "id": "2f6c4e51",
   "metadata": {
    "id": "2f6c4e51"
   },
   "source": [
    "## **`os.system` Function**"
   ]
  },
  {
   "cell_type": "code",
   "execution_count": 12,
   "id": "41bbd941",
   "metadata": {},
   "outputs": [
    {
     "data": {
      "text/plain": [
       "1"
      ]
     },
     "execution_count": 12,
     "metadata": {},
     "output_type": "execute_result"
    }
   ],
   "source": [
    "os.system('start EXCEL.EXE nasa.csv')"
   ]
  },
  {
   "cell_type": "code",
   "execution_count": null,
   "id": "db983759",
   "metadata": {},
   "outputs": [],
   "source": []
  },
  {
   "cell_type": "markdown",
   "id": "d8e94614",
   "metadata": {
    "id": "22358c25"
   },
   "source": [
    "# **References and Additional Learning**"
   ]
  },
  {
   "cell_type": "markdown",
   "id": "ed2132a2",
   "metadata": {},
   "source": [
    "## **Website**\n",
    "\n",
    "- **os Package Documentation from [python.org](https://docs.python.org/3/library/os.html)**"
   ]
  },
  {
   "cell_type": "markdown",
   "id": "d1d9d142",
   "metadata": {},
   "source": [
    "## **Textbook**\n",
    "\n",
    "- **[Mastering Python for Networking and Security](https://www.packtpub.com/product/mastering-python-for-networking-and-security/9781788992510) by José Manuel Ortega**"
   ]
  },
  {
   "cell_type": "markdown",
   "id": "02a344e0",
   "metadata": {
    "id": "5b54adbc"
   },
   "source": [
    "# **Connect**\n",
    "- **Feel free to connect with Adrian on [YouTube](https://www.youtube.com/channel/UCPuDxI3xb_ryUUMfkm0jsRA), [LinkedIn](https://www.linkedin.com/in/adrian-dolinay-frm-96a289106/), [Twitter](https://twitter.com/DolinayG) and [GitHub](https://github.com/ad17171717). Happy coding!**"
   ]
  }
 ],
 "metadata": {
  "colab": {
   "name": "Networking with Python! Basic Operating System (OS) Navigation.ipynb",
   "provenance": []
  },
  "hide_input": false,
  "kernelspec": {
   "display_name": "Python 3 (ipykernel)",
   "language": "python",
   "name": "python3"
  },
  "language_info": {
   "codemirror_mode": {
    "name": "ipython",
    "version": 3
   },
   "file_extension": ".py",
   "mimetype": "text/x-python",
   "name": "python",
   "nbconvert_exporter": "python",
   "pygments_lexer": "ipython3",
   "version": "3.10.4"
  }
 },
 "nbformat": 4,
 "nbformat_minor": 5
}

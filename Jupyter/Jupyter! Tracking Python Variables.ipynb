{
 "cells": [
  {
   "cell_type": "code",
   "execution_count": 1,
   "id": "b736e1c5",
   "metadata": {},
   "outputs": [],
   "source": [
    "import numpy as np"
   ]
  },
  {
   "cell_type": "markdown",
   "id": "4765b4c9",
   "metadata": {},
   "source": [
    "# **%`whos` Magic Command**\n",
    "\n",
    "**The `whos`magic command lists all interactive variables within a notebook. This includes the name of the variable, the variable type and additional data related to the variable.**"
   ]
  },
  {
   "cell_type": "markdown",
   "id": "9fc0a19a",
   "metadata": {},
   "source": [
    "<sup>Source: [Built-in magic commands](https://ipython.readthedocs.io/en/stable/interactive/magics.html) from ipython.readthedocs.io<sup/>"
   ]
  },
  {
   "cell_type": "code",
   "execution_count": 2,
   "id": "72f7e6ae",
   "metadata": {},
   "outputs": [],
   "source": [
    "num_array = np.arange(0,1000,.5)"
   ]
  },
  {
   "cell_type": "code",
   "execution_count": 3,
   "id": "55da9ce6",
   "metadata": {},
   "outputs": [],
   "source": [
    "def sqroot(num):\n",
    "    return num**.5"
   ]
  },
  {
   "cell_type": "code",
   "execution_count": 4,
   "id": "fa54cefe",
   "metadata": {},
   "outputs": [],
   "source": [
    "sqroot_list = [sqroot(num) for num in num_array]"
   ]
  },
  {
   "cell_type": "code",
   "execution_count": 5,
   "id": "8c79bb17",
   "metadata": {},
   "outputs": [
    {
     "name": "stdout",
     "output_type": "stream",
     "text": [
      "Variable      Type        Data/Info\n",
      "-----------------------------------\n",
      "np            module      <module 'numpy' from 'C:\\<...>ges\\\\numpy\\\\__init__.py'>\n",
      "num_array     ndarray     2000: 2000 elems, type `float64`, 16000 bytes\n",
      "sqroot        function    <function sqroot at 0x0000020A3688E830>\n",
      "sqroot_list   list        n=2000\n"
     ]
    }
   ],
   "source": [
    "%whos"
   ]
  },
  {
   "cell_type": "markdown",
   "id": "89522d2f",
   "metadata": {},
   "source": [
    "# **References and Additional Learning**"
   ]
  },
  {
   "cell_type": "markdown",
   "id": "6b635424",
   "metadata": {},
   "source": [
    "## **Video**\n",
    "\n",
    "- **[Google Colab - Using Magic Commands and Colab Features](https://www.youtube.com/watch?v=bNpb8RDbF3w) by Adrian Dolinay**"
   ]
  },
  {
   "cell_type": "markdown",
   "id": "7ae6ebac",
   "metadata": {},
   "source": [
    "## **Website**\n",
    "\n",
    "- **[Built-in magic commands](https://ipython.readthedocs.io/en/stable/interactive/magics.html) from ipython.readthedocs.io**"
   ]
  },
  {
   "cell_type": "markdown",
   "id": "02cf0faa",
   "metadata": {},
   "source": [
    "# **Connect**\n",
    "- **Feel free to connect with Adrian on [YouTube](https://www.youtube.com/channel/UCPuDxI3xb_ryUUMfkm0jsRA), [LinkedIn](https://www.linkedin.com/in/adrian-dolinay-frm-96a289106/), [Twitter](https://twitter.com/DolinayG), [GitHub](https://github.com/ad17171717) and [Odysee](https://odysee.com/@adriandolinay:0). Happy coding!**"
   ]
  }
 ],
 "metadata": {
  "hide_input": false,
  "kernelspec": {
   "display_name": "Python 3 (ipykernel)",
   "language": "python",
   "name": "python3"
  },
  "language_info": {
   "codemirror_mode": {
    "name": "ipython",
    "version": 3
   },
   "file_extension": ".py",
   "mimetype": "text/x-python",
   "name": "python",
   "nbconvert_exporter": "python",
   "pygments_lexer": "ipython3",
   "version": "3.10.7"
  }
 },
 "nbformat": 4,
 "nbformat_minor": 5
}

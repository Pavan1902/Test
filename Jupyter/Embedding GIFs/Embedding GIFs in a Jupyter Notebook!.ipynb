{
 "cells": [
  {
   "cell_type": "code",
   "execution_count": 1,
   "id": "89601049",
   "metadata": {
    "ExecuteTime": {
     "end_time": "2022-09-06T22:37:45.030123Z",
     "start_time": "2022-09-06T22:37:45.010418Z"
    }
   },
   "outputs": [],
   "source": [
    "import os"
   ]
  },
  {
   "cell_type": "code",
   "execution_count": 2,
   "id": "859ff968",
   "metadata": {
    "ExecuteTime": {
     "end_time": "2022-09-06T22:38:49.714059Z",
     "start_time": "2022-09-06T22:38:49.690058Z"
    }
   },
   "outputs": [
    {
     "data": {
      "text/plain": [
       "['.ipynb_checkpoints',\n",
       " 'car.gif',\n",
       " 'Embedding GIFs in a Jupyter Notebook!.ipynb',\n",
       " 'top.ini']"
      ]
     },
     "execution_count": 2,
     "metadata": {},
     "output_type": "execute_result"
    }
   ],
   "source": [
    "os.listdir()"
   ]
  },
  {
   "cell_type": "markdown",
   "id": "e12c0c7e",
   "metadata": {},
   "source": [
    "![car_gif](car.gif)"
   ]
  },
  {
   "cell_type": "markdown",
   "id": "eeee3fdb",
   "metadata": {},
   "source": [
    "![car_gif_url](https://i.pinimg.com/originals/65/5d/2d/655d2da400a648abca600766a89deead.gif)"
   ]
  },
  {
   "cell_type": "markdown",
   "id": "42b467f5",
   "metadata": {},
   "source": [
    "# **Connect**\n",
    "- **Feel free to connect with Adrian on [YouTube](https://www.youtube.com/channel/UCPuDxI3xb_ryUUMfkm0jsRA), [LinkedIn](https://www.linkedin.com/in/adrian-dolinay-frm-96a289106/), [Twitter](https://twitter.com/DolinayG), [GitHub](https://github.com/ad17171717) and [Odysee](https://odysee.com/@adriandolinay:0). Happy coding!**"
   ]
  }
 ],
 "metadata": {
  "hide_input": false,
  "kernelspec": {
   "display_name": "Python 3 (ipykernel)",
   "language": "python",
   "name": "python3"
  },
  "language_info": {
   "codemirror_mode": {
    "name": "ipython",
    "version": 3
   },
   "file_extension": ".py",
   "mimetype": "text/x-python",
   "name": "python",
   "nbconvert_exporter": "python",
   "pygments_lexer": "ipython3",
   "version": "3.10.4"
  }
 },
 "nbformat": 4,
 "nbformat_minor": 5
}

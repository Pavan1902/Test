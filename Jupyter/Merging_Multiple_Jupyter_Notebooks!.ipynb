{
  "nbformat": 4,
  "nbformat_minor": 0,
  "metadata": {
    "colab": {
      "name": "Merging Multiple Jupyter Notebooks!.ipynb",
      "provenance": [],
      "collapsed_sections": []
    },
    "kernelspec": {
      "name": "python3",
      "display_name": "Python 3"
    },
    "language_info": {
      "name": "python"
    }
  },
  "cells": [
    {
      "cell_type": "code",
      "source": [
        "!pip install nbmerge"
      ],
      "metadata": {
        "id": "GzYzTXPNH8Sh"
      },
      "execution_count": null,
      "outputs": []
    },
    {
      "cell_type": "code",
      "source": [
        "!nbmerge notebook1.ipynb notebook2.ipynb notebook3.ipynb  > merged_notebook.ipynb"
      ],
      "metadata": {
        "id": "_i1LNYZ7Ay9l"
      },
      "execution_count": null,
      "outputs": []
    },
    {
      "cell_type": "markdown",
      "source": [
        "# **References and Additional Learning**"
      ],
      "metadata": {
        "id": "BbfxIDg9Ee8T"
      }
    },
    {
      "cell_type": "markdown",
      "source": [
        "## **Websites**\n",
        "\n",
        "**[nbmerge](https://github.com/jbn/nbmerge) GitHub Documentation**\n",
        "\n",
        "**[Diffing and merging notebooks](https://jupyter.org/enhancement-proposals/08-notebook-diff/notebook-diff.html#merge-format) from Jupyter.org**"
      ],
      "metadata": {
        "id": "gm9JwyVmEuCC"
      }
    },
    {
      "cell_type": "markdown",
      "source": [
        "# **Connect**\n",
        "- **Feel free to connect with Adrian on [YouTube](https://www.youtube.com/channel/UCPuDxI3xb_ryUUMfkm0jsRA), [LinkedIn](https://www.linkedin.com/in/adrian-dolinay-frm-96a289106/), [Twitter](https://twitter.com/DolinayG), [GitHub](https://github.com/ad17171717) and [Odysee](https://odysee.com/@adriandolinay:0). Happy coding!**"
      ],
      "metadata": {
        "id": "S6jdDxG9EhpO"
      }
    }
  ]
}
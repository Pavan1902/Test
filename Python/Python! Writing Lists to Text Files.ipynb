{
 "cells": [
  {
   "cell_type": "code",
   "execution_count": 2,
   "id": "9e45e53d",
   "metadata": {},
   "outputs": [],
   "source": [
    "import os"
   ]
  },
  {
   "cell_type": "markdown",
   "id": "e7ae8604",
   "metadata": {},
   "source": [
    "# **Writing Files**\n",
    "\n",
    "**The `open()` method returns a file object, and is most commonly used with two positional arguments and one keyword argument: `open(filename, mode, encoding=None)`**\n",
    "\n",
    "**Given a file object `f`, `f.write(string)` writes the contents of string to the file, returning the number of characters written.**\n",
    "\n",
    "**`f.close()` to closes the file and immediately free up any system resources used by it.**"
   ]
  },
  {
   "cell_type": "markdown",
   "id": "1493b5bf",
   "metadata": {},
   "source": [
    "<sup>Source: [Reading and Writing Files](https://docs.python.org/3/tutorial/inputoutput.html#reading-and-writing-files) from Python.org<sup/>"
   ]
  },
  {
   "cell_type": "code",
   "execution_count": 3,
   "id": "b1295ec0",
   "metadata": {},
   "outputs": [
    {
     "data": {
      "text/plain": [
       "['joblib-1.2.0-py3-none-any.whl',\n",
       " 'numpy-1.23.3-cp310-cp310-win_amd64.whl',\n",
       " 'scipy-1.9.1-cp310-cp310-win_amd64.whl',\n",
       " 'threadpoolctl-3.1.0-py3-none-any.whl']"
      ]
     },
     "execution_count": 3,
     "metadata": {},
     "output_type": "execute_result"
    }
   ],
   "source": [
    "require_list = os.listdir(r'C:\\Users\\Adrian\\Downloads\\py_venv\\Scripts\\scipy_requirements')\n",
    "require_list"
   ]
  },
  {
   "cell_type": "code",
   "execution_count": 4,
   "id": "a9f51a76",
   "metadata": {},
   "outputs": [],
   "source": [
    "os.chdir(r'C:\\Users\\Adrian\\Downloads\\py_venv\\Scripts\\scipy_requirements')"
   ]
  },
  {
   "cell_type": "code",
   "execution_count": 6,
   "id": "4e35f384",
   "metadata": {},
   "outputs": [],
   "source": [
    "txt_file = open(file='scipy_requirements.txt',mode='w')\n",
    "\n",
    "for file in require_list:\n",
    "    txt_file.write(file + '\\n')\n",
    "    \n",
    "txt_file.close()"
   ]
  },
  {
   "cell_type": "markdown",
   "id": "9f5246d2",
   "metadata": {},
   "source": [
    "# **References and Additional Learning**"
   ]
  },
  {
   "cell_type": "markdown",
   "id": "556ac960",
   "metadata": {},
   "source": [
    "## **Website**\n",
    "\n",
    "- **[Reading and Writing Files](https://docs.python.org/3/tutorial/inputoutput.html#reading-and-writing-files) from Python.org**"
   ]
  },
  {
   "cell_type": "markdown",
   "id": "b0b158ba",
   "metadata": {},
   "source": [
    "# **Connect**\n",
    "- **Feel free to connect with Adrian on [YouTube](https://www.youtube.com/channel/UCPuDxI3xb_ryUUMfkm0jsRA), [LinkedIn](https://www.linkedin.com/in/adrian-dolinay-frm-96a289106/), [Twitter](https://twitter.com/DolinayG), [GitHub](https://github.com/ad17171717) and [Odysee](https://odysee.com/@adriandolinay:0). Happy coding!**"
   ]
  }
 ],
 "metadata": {
  "hide_input": false,
  "kernelspec": {
   "display_name": "Python 3 (ipykernel)",
   "language": "python",
   "name": "python3"
  },
  "language_info": {
   "codemirror_mode": {
    "name": "ipython",
    "version": 3
   },
   "file_extension": ".py",
   "mimetype": "text/x-python",
   "name": "python",
   "nbconvert_exporter": "python",
   "pygments_lexer": "ipython3",
   "version": "3.10.7"
  }
 },
 "nbformat": 4,
 "nbformat_minor": 5
}

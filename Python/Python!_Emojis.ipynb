{
  "cells": [
    {
      "cell_type": "markdown",
      "metadata": {
        "id": "view-in-github",
        "colab_type": "text"
      },
      "source": [
        "<a href=\"https://colab.research.google.com/github/ad17171717/YouTube-Tutorials/blob/main/Python/Python!_Emojis.ipynb\" target=\"_parent\"><img src=\"https://colab.research.google.com/assets/colab-badge.svg\" alt=\"Open In Colab\"/></a>"
      ]
    },
    {
      "cell_type": "code",
      "execution_count": null,
      "id": "05955e1c",
      "metadata": {
        "id": "05955e1c"
      },
      "outputs": [],
      "source": [
        "!pip install emoji"
      ]
    },
    {
      "cell_type": "code",
      "execution_count": null,
      "id": "5bcba847",
      "metadata": {
        "id": "5bcba847"
      },
      "outputs": [],
      "source": [
        "import emoji"
      ]
    },
    {
      "cell_type": "markdown",
      "id": "38a61936",
      "metadata": {
        "id": "38a61936"
      },
      "source": [
        "# **Emoticons**\n",
        "\n",
        "**Emoticons is a Unicode block containing an emoji. Most emojis are intended as representations of faces, although some of them include hand gestures or non-human characters.**"
      ]
    },
    {
      "cell_type": "markdown",
      "id": "36b5eb29",
      "metadata": {
        "id": "36b5eb29"
      },
      "source": [
        "<sup>Source: [Emoticons (Unicode block)](https://en.wikipedia.org/wiki/Emoticons_(Unicode_block)) from Wikipedia.org</sup>"
      ]
    },
    {
      "cell_type": "markdown",
      "id": "b712c233",
      "metadata": {
        "id": "b712c233"
      },
      "source": [
        "| Unicode Character | Emoji | Alias  | CLDR Shorthand\n",
        "| ----------------- | ----- | ------------ |------------ |\n",
        "| 1F600             | 😀    | grinning     | grinning face\n",
        "| 1F601             | 😁    | grin         | beaming face with smiling eyes\n",
        "| 1F60E             | 😎    | sunglasses   | smiling face with sunglasses\n",
        "| 1F60F             | 😏    | smirk        |smirking face\n",
        "| 1F609             | 😉    | wink         | winking face\n",
        "|1F60D\t|😍|heart_eyes| smiling face with heart-eyes\n",
        "|1F636|😶|no_mouth|face without mouth\n",
        "|1F634\t |😴 | sleeping|sleeping face\n",
        "| 1F610             | 😐    | neutral_face |neutral face\n",
        "|1F607\t|😇 |innocent |smiling face with halo\n",
        "|1F631\t|😱|scream|face screaming in fear\n",
        "|1F62D\t |😭 | sob|loudly crying face\n",
        "|1F621\t |😡 |rage |enraged face\n",
        "|1F44A\t |👊 | punch |oncoming fist\n",
        "| 1F44D             | 👍    | thumbs_up     |thumbs up\n",
        "|1F44F|👏|clap|clapping hands\n",
        "|1F64C|🙌|raised_hands|raising hands\n",
        "|1F918 |🤘|metal|sign of the horns\n",
        "| 1F63A             | 😺    | smile_cat    |grinning cat\n",
        "| 1F436             | 🐶    | dog          |dog face\n",
        "| 1F47D             | 👽    | alien        |alien"
      ]
    },
    {
      "cell_type": "markdown",
      "id": "8b720e37",
      "metadata": {
        "id": "8b720e37"
      },
      "source": [
        "<sup>Source: [Emoji Cheat Sheet](https://www.webfx.com/tools/emoji-cheat-sheet/) from WebFX.com</sup>\n",
        "\n",
        "<sup>Source: [Full Emoji List, v15.0](https://unicode.org/emoji/charts/full-emoji-list.html) from unicode.org</sup>"
      ]
    },
    {
      "cell_type": "markdown",
      "id": "5a923979",
      "metadata": {
        "id": "5a923979"
      },
      "source": [
        "# **Method 1: Unicode Characters** "
      ]
    },
    {
      "cell_type": "code",
      "execution_count": null,
      "id": "70be525f",
      "metadata": {
        "id": "70be525f",
        "outputId": "9aac9d94-59a9-4a80-9aaa-83e304c1318c"
      },
      "outputs": [
        {
          "name": "stdout",
          "output_type": "stream",
          "text": [
            "Have a great day 😀\n"
          ]
        }
      ],
      "source": [
        "print('Have a great day \\U0001F600')"
      ]
    },
    {
      "cell_type": "code",
      "execution_count": null,
      "id": "338227cf",
      "metadata": {
        "id": "338227cf",
        "outputId": "13c431b5-aa9e-463c-a077-7e75cb408f7b"
      },
      "outputs": [
        {
          "name": "stdout",
          "output_type": "stream",
          "text": [
            "Have a great day 🤘\n"
          ]
        }
      ],
      "source": [
        "#not all of the CLDR codes above will work with this print\n",
        "print('Have a great day \\N{grinning face}')"
      ]
    },
    {
      "cell_type": "markdown",
      "id": "bee39ef0",
      "metadata": {
        "id": "bee39ef0"
      },
      "source": [
        "# **Method 2: Emoji Module**"
      ]
    },
    {
      "cell_type": "code",
      "execution_count": null,
      "id": "3803779d",
      "metadata": {
        "id": "3803779d",
        "outputId": "97ca7319-3a33-442e-88d3-b3b578c17640"
      },
      "outputs": [
        {
          "name": "stdout",
          "output_type": "stream",
          "text": [
            "Have a great day  😀\n"
          ]
        }
      ],
      "source": [
        "print('Have a great day ',emoji.emojize(':grinning:',language='alias'))"
      ]
    },
    {
      "cell_type": "code",
      "execution_count": null,
      "id": "62f5cf1a",
      "metadata": {
        "id": "62f5cf1a"
      },
      "outputs": [],
      "source": [
        "def emoji_print(emoji_name):\n",
        "    emoji_chars = ':' + emoji_name + ':'  \n",
        "    return emoji.emojize(emoji_chars,language='alias')"
      ]
    },
    {
      "cell_type": "code",
      "execution_count": null,
      "id": "6b1d2ba6",
      "metadata": {
        "id": "6b1d2ba6",
        "outputId": "5d6ff048-db72-43aa-dd97-c892496f7cc2"
      },
      "outputs": [
        {
          "name": "stdout",
          "output_type": "stream",
          "text": [
            "Have a great day 😀\n"
          ]
        }
      ],
      "source": [
        "print(f'Have a great day {emoji_print(\"grinning\")}')"
      ]
    },
    {
      "cell_type": "markdown",
      "id": "601a77fa",
      "metadata": {
        "id": "601a77fa"
      },
      "source": [
        "# **Method 3: Windows Emoji Insert**"
      ]
    },
    {
      "cell_type": "code",
      "execution_count": null,
      "id": "9e0c673f",
      "metadata": {
        "id": "9e0c673f",
        "outputId": "faf4ef9d-56a8-47d5-ec75-a791f4f9320d"
      },
      "outputs": [
        {
          "name": "stdout",
          "output_type": "stream",
          "text": [
            "😀\n"
          ]
        }
      ],
      "source": [
        "print('😀')"
      ]
    },
    {
      "cell_type": "markdown",
      "id": "580b4790",
      "metadata": {
        "id": "580b4790"
      },
      "source": [
        "# **References and Additional Learning**"
      ]
    },
    {
      "cell_type": "markdown",
      "id": "cea86d87",
      "metadata": {
        "id": "cea86d87"
      },
      "source": [
        "## **Websites**\n",
        "\n",
        "- **[Emoji Cheat Sheet](https://www.webfx.com/tools/emoji-cheat-sheet/) from WebFX.com**\n",
        "\n",
        "- **[Emoticons (Unicode block)](https://en.wikipedia.org/wiki/Emoticons_(Unicode_block)) from Wikipedia.org**\n",
        "\n",
        "- **[Full Emoji List, v15.0](https://unicode.org/emoji/charts/full-emoji-list.html) from unicode.org**\n",
        "\n",
        "- **[Python program to print Emojis](https://www.geeksforgeeks.org/python-program-to-print-emojis/) from GeeksForGeeks.org**"
      ]
    },
    {
      "cell_type": "markdown",
      "id": "ebdc575b",
      "metadata": {
        "id": "ebdc575b"
      },
      "source": [
        "# **Connect**\n",
        "- **Feel free to connect with Adrian on [YouTube](https://www.youtube.com/channel/UCPuDxI3xb_ryUUMfkm0jsRA), [LinkedIn](https://www.linkedin.com/in/adrian-dolinay-frm-96a289106/), [Twitter](https://twitter.com/DolinayG), [GitHub](https://github.com/ad17171717), [Medium](https://adriandolinay.medium.com/) and [Odysee](https://odysee.com/@adriandolinay:0). Happy coding!**"
      ]
    }
  ],
  "metadata": {
    "kernelspec": {
      "display_name": "emoji",
      "language": "python",
      "name": "emoji"
    },
    "language_info": {
      "codemirror_mode": {
        "name": "ipython",
        "version": 3
      },
      "file_extension": ".py",
      "mimetype": "text/x-python",
      "name": "python",
      "nbconvert_exporter": "python",
      "pygments_lexer": "ipython3",
      "version": "3.10.10"
    },
    "colab": {
      "provenance": [],
      "include_colab_link": true
    }
  },
  "nbformat": 4,
  "nbformat_minor": 5
}
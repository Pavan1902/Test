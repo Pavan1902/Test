{
  "cells": [
    {
      "cell_type": "markdown",
      "metadata": {
        "id": "view-in-github",
        "colab_type": "text"
      },
      "source": [
        "<a href=\"https://colab.research.google.com/github/ad17171717/YouTube-Tutorials/blob/main/Python/PDF%20Encrypt%20Decrypt/Encrypting_and_Decrypting_PDFs_with_Python!.ipynb\" target=\"_parent\"><img src=\"https://colab.research.google.com/assets/colab-badge.svg\" alt=\"Open In Colab\"/></a>"
      ]
    },
    {
      "cell_type": "code",
      "execution_count": null,
      "id": "abd73d64",
      "metadata": {
        "id": "abd73d64"
      },
      "outputs": [],
      "source": [
        "!pip install PyPDF2"
      ]
    },
    {
      "cell_type": "code",
      "execution_count": null,
      "id": "476cbca3",
      "metadata": {
        "id": "476cbca3"
      },
      "outputs": [],
      "source": [
        "from PyPDF2 import PdfReader, PdfWriter\n",
        "import os"
      ]
    },
    {
      "cell_type": "markdown",
      "id": "14ebdb90",
      "metadata": {
        "id": "14ebdb90"
      },
      "source": [
        "**PyPDF2 is a free and open-source pure-python PDF library capable of splitting, merging, cropping, and transforming the pages of PDF files. It can also add custom data, viewing options, and passwords to PDF files. PyPDF2 can retrieve text and metadata from PDFs as well.**"
      ]
    },
    {
      "cell_type": "markdown",
      "id": "d44f9c26",
      "metadata": {
        "id": "d44f9c26"
      },
      "source": [
        "<sup>Source: [PyPDF2](https://github.com/py-pdf/PyPDF2) from GitHub.com<sup/>"
      ]
    },
    {
      "cell_type": "code",
      "execution_count": null,
      "id": "eb6f8464",
      "metadata": {
        "id": "eb6f8464",
        "outputId": "1e0d476c-a257-451c-d2f2-66b03871383b"
      },
      "outputs": [
        {
          "name": "stdout",
          "output_type": "stream",
          "text": [
            "['machine_learning_lecture.pdf']\n"
          ]
        }
      ],
      "source": [
        "pdf_list = [file for file in os.listdir() if '.pdf' in file]\n",
        "print(pdf_list)"
      ]
    },
    {
      "cell_type": "code",
      "execution_count": null,
      "id": "30ba7ffc",
      "metadata": {
        "id": "30ba7ffc",
        "outputId": "12f34caa-ff9e-48f5-fad4-2f1f6d4a1655"
      },
      "outputs": [
        {
          "name": "stdout",
          "output_type": "stream",
          "text": [
            "machine_learning_lecture.pdf\n"
          ]
        }
      ],
      "source": [
        "file_name = pdf_list[0]\n",
        "print(file_name)"
      ]
    },
    {
      "cell_type": "markdown",
      "id": "97ddccb6",
      "metadata": {
        "id": "97ddccb6"
      },
      "source": [
        "## **Encrypting a PDF**"
      ]
    },
    {
      "cell_type": "code",
      "execution_count": null,
      "id": "8cd546cd",
      "metadata": {
        "id": "8cd546cd",
        "outputId": "72f57035-e5d3-4df4-b527-a06272d52280"
      },
      "outputs": [
        {
          "name": "stdout",
          "output_type": "stream",
          "text": [
            "Set your password for the PDF\n",
            "secretmlfile\n"
          ]
        }
      ],
      "source": [
        "password = input('Set your password for the PDF\\n')"
      ]
    },
    {
      "cell_type": "code",
      "execution_count": null,
      "id": "a6e7179b",
      "metadata": {
        "id": "a6e7179b"
      },
      "outputs": [],
      "source": [
        "reader = PdfReader(file_name)\n",
        "writer = PdfWriter()\n",
        "\n",
        "for page in reader.pages:\n",
        "    writer.add_page(page)\n",
        "\n",
        "writer.encrypt(password)\n",
        "\n",
        "with open('encrypted-pdf.pdf', 'wb') as pdf:\n",
        "    writer.write(pdf)"
      ]
    },
    {
      "cell_type": "markdown",
      "id": "e8c860c9",
      "metadata": {
        "id": "e8c860c9"
      },
      "source": [
        "<sup>Source: [Encryption and Decryption of PDFs](https://pypdf2.readthedocs.io/en/latest/user/encryption-decryption.html) from pypdf2.readthedocs.io<sup/>"
      ]
    },
    {
      "cell_type": "markdown",
      "id": "5b2bace5",
      "metadata": {
        "id": "5b2bace5"
      },
      "source": [
        "## **Decrypting a PDF**"
      ]
    },
    {
      "cell_type": "code",
      "execution_count": null,
      "id": "d50bcbcf",
      "metadata": {
        "id": "d50bcbcf"
      },
      "outputs": [],
      "source": [
        "writer = PdfWriter()\n",
        "\n",
        "if reader.is_encrypted:\n",
        "    reader.decrypt(password)\n",
        "\n",
        "for page in reader.pages:\n",
        "    writer.add_page(page)\n",
        "\n",
        "with open('decrypted-pdf.pdf', 'wb') as pdf:\n",
        "    writer.write(pdf)"
      ]
    },
    {
      "cell_type": "markdown",
      "id": "52e916bd",
      "metadata": {
        "id": "52e916bd"
      },
      "source": [
        "<sup>Source: [Encryption and Decryption of PDFs](https://pypdf2.readthedocs.io/en/latest/user/encryption-decryption.html) from pypdf2.readthedocs.io<sup/>"
      ]
    },
    {
      "cell_type": "markdown",
      "id": "d9b4c14a",
      "metadata": {
        "id": "d9b4c14a"
      },
      "source": [
        "# **References and Additional Learning**"
      ]
    },
    {
      "cell_type": "markdown",
      "id": "f56d1a09",
      "metadata": {
        "id": "f56d1a09"
      },
      "source": [
        "## **Lecture**\n",
        "\n",
        "- **[Introduction, linear classification, perceptron update rule](https://ocw.mit.edu/courses/6-867-machine-learning-fall-2006/resources/lec1/) from MIT OpenCourseWare**"
      ]
    },
    {
      "cell_type": "markdown",
      "id": "f5309edf",
      "metadata": {
        "id": "f5309edf"
      },
      "source": [
        "## **Module Documentation**\n",
        "\n",
        "- **[Encryption and Decryption of PDFs](https://pypdf2.readthedocs.io/en/latest/user/encryption-decryption.html) from pypdf2.readthedocs.io**\n",
        "\n",
        "- **[PyPDF2](https://github.com/py-pdf/PyPDF2) from GitHub.com**"
      ]
    },
    {
      "cell_type": "markdown",
      "id": "02b2661c",
      "metadata": {
        "id": "02b2661c"
      },
      "source": [
        "## **Videos**\n",
        "\n",
        "- **[Merging PDFs with Python!](https://www.youtube.com/watch?v=CMEHOjQksUs) by Adrian Dolinay**\n",
        "\n",
        "- **[Splitting a PDF to Multiple PDFs with Python!](https://youtu.be/GiWYJBZAW8E) by Adrian Dolinay**"
      ]
    },
    {
      "cell_type": "markdown",
      "id": "9c6dd61a",
      "metadata": {
        "id": "9c6dd61a"
      },
      "source": [
        "# **Connect**\n",
        "- **Feel free to connect with Adrian on [YouTube](https://www.youtube.com/channel/UCPuDxI3xb_ryUUMfkm0jsRA), [LinkedIn](https://www.linkedin.com/in/adrian-dolinay-frm-96a289106/), [Twitter](https://twitter.com/DolinayG), [GitHub](https://github.com/ad17171717), [Medium](https://adriandolinay.medium.com/) and [Odysee](https://odysee.com/@adriandolinay:0). Happy coding!**"
      ]
    }
  ],
  "metadata": {
    "colab": {
      "provenance": [],
      "include_colab_link": true
    },
    "hide_input": false,
    "kernelspec": {
      "display_name": "work2",
      "language": "python",
      "name": "work2"
    },
    "language_info": {
      "codemirror_mode": {
        "name": "ipython",
        "version": 3
      },
      "file_extension": ".py",
      "mimetype": "text/x-python",
      "name": "python",
      "nbconvert_exporter": "python",
      "pygments_lexer": "ipython3",
      "version": "3.10.10"
    }
  },
  "nbformat": 4,
  "nbformat_minor": 5
}
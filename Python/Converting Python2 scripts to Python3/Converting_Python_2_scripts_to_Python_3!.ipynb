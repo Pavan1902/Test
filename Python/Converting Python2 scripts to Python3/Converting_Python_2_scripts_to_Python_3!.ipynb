{
  "nbformat": 4,
  "nbformat_minor": 0,
  "metadata": {
    "colab": {
      "name": "Converting Python 2 scripts to Python 3!.ipynb",
      "provenance": [],
      "collapsed_sections": []
    },
    "kernelspec": {
      "name": "python3",
      "display_name": "Python 3"
    },
    "language_info": {
      "name": "python"
    }
  },
  "cells": [
    {
      "cell_type": "markdown",
      "source": [
        "# **Python 2 vs Python 3**"
      ],
      "metadata": {
        "id": "I4CEAIfOjnQp"
      }
    },
    {
      "cell_type": "markdown",
      "source": [
        "| **Python 2**  | **Python 3**  |\n",
        "|---|---|\n",
        "| `print x`  | `print(x)`  |\n",
        "| `4/3 = 1`  | `4/3 = 1.33333 4//3 = 1`  |\n",
        "| `raw_input()`  | `input`  |\n",
        "| `file(“my_file.txt”)`  | `open(“my_file.txt”)`   |\n",
        "| `xrange()`  | `range()`  |:"
      ],
      "metadata": {
        "id": "Zj6txxdNmIKS"
      }
    },
    {
      "cell_type": "markdown",
      "source": [
        "<sup><sup/>\n",
        "Source: [Python 2 vs. Python 3](https://www.cs.carleton.edu/faculty/jgoldfea/cs201/spring11/Python2vs3.pdf) from Carleton College by Jack Goldfeather"
      ],
      "metadata": {
        "id": "SRK_7B8no1N3"
      }
    },
    {
      "cell_type": "markdown",
      "source": [
        "# **Converting Python 2 scripts to Python 3**"
      ],
      "metadata": {
        "id": "E1kg6zoKn2SD"
      }
    },
    {
      "cell_type": "code",
      "source": [
        "!pip install 2to3"
      ],
      "metadata": {
        "id": "UY4kKokmm_8-",
        "colab": {
          "base_uri": "https://localhost:8080/"
        },
        "outputId": "bc1c5d60-e24d-41af-ac69-c94474688f45"
      },
      "execution_count": 1,
      "outputs": [
        {
          "output_type": "stream",
          "name": "stdout",
          "text": [
            "Looking in indexes: https://pypi.org/simple, https://us-python.pkg.dev/colab-wheels/public/simple/\n",
            "Collecting 2to3\n",
            "  Downloading 2to3-1.0-py3-none-any.whl (1.7 kB)\n",
            "Installing collected packages: 2to3\n",
            "Successfully installed 2to3-1.0\n"
          ]
        }
      ]
    },
    {
      "cell_type": "code",
      "source": [
        "!2to3 /content/legacy_script.py -w"
      ],
      "metadata": {
        "colab": {
          "base_uri": "https://localhost:8080/"
        },
        "id": "36jC3_iqgdVS",
        "outputId": "f24c44bd-86a0-4cda-c832-55cfcad0169d"
      },
      "execution_count": 2,
      "outputs": [
        {
          "output_type": "stream",
          "name": "stdout",
          "text": [
            "RefactoringTool: Skipping optional fixer: buffer\n",
            "RefactoringTool: Skipping optional fixer: idioms\n",
            "RefactoringTool: Skipping optional fixer: set_literal\n",
            "RefactoringTool: Skipping optional fixer: ws_comma\n",
            "RefactoringTool: Refactored /content/legacy_script.py\n",
            "--- /content/legacy_script.py\t(original)\n",
            "+++ /content/legacy_script.py\t(refactored)\n",
            "@@ -1,4 +1,4 @@\n",
            "-print 'hello world'\n",
            "-raw_input()\n",
            "+print('hello world')\n",
            "+input()\n",
            " file('my_file.txt')\n",
            "-xrange(1,100)\n",
            "+range(1,100)\n",
            "RefactoringTool: Files that were modified:\n",
            "RefactoringTool: /content/legacy_script.py\n"
          ]
        }
      ]
    },
    {
      "cell_type": "code",
      "source": [
        "!mv /content/legacy_script.py /content/updated_script.py"
      ],
      "metadata": {
        "id": "QqOIc2RIqpM0"
      },
      "execution_count": 3,
      "outputs": []
    },
    {
      "cell_type": "markdown",
      "source": [
        "# **References and Additional Learning**"
      ],
      "metadata": {
        "id": "B8J6fDyWnZXj"
      }
    },
    {
      "cell_type": "markdown",
      "source": [
        "## **Websites**\n",
        "\n",
        "- **[2to3 Documentation](https://docs.python.org/3/library/2to3.html) from Python.org**\n",
        "\n",
        "- **[Python 2 vs. Python 3](https://www.cs.carleton.edu/faculty/jgoldfea/cs201/spring11/Python2vs3.pdf) from Carleton College by Jack Goldfeather**"
      ],
      "metadata": {
        "id": "TphCPAmznfhv"
      }
    },
    {
      "cell_type": "markdown",
      "source": [
        "# **Connect**\n",
        "- **Feel free to connect with Adrian on [YouTube](https://www.youtube.com/channel/UCPuDxI3xb_ryUUMfkm0jsRA), [LinkedIn](https://www.linkedin.com/in/adrian-dolinay-frm-96a289106/), [Twitter](https://twitter.com/DolinayG), [GitHub](https://github.com/ad17171717) and [Odysee](https://odysee.com/@adriandolinay:0). Happy coding!**"
      ],
      "metadata": {
        "id": "kpv2-QkhnaYL"
      }
    }
  ]
}
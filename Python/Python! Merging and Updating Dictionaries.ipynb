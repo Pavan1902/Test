{
 "cells": [
  {
   "cell_type": "markdown",
   "id": "4b304d7e",
   "metadata": {},
   "source": [
    "# **Merging Dictionaries**\n",
    "\n",
    "**Merging existing Python dictionaries creates a new dictionary object.**"
   ]
  },
  {
   "cell_type": "code",
   "execution_count": 1,
   "id": "537f19d0",
   "metadata": {},
   "outputs": [],
   "source": [
    "alpha_num_dict_1 = {'a':1,'b':2,'c':3,'d':4}\n",
    "alpha_num_dict_2 = {'e':5,'f':6,'g':7,'h':8}\n",
    "alpha_num_dict_3 = {'i':9,'j':10,'k':11,'l':12}"
   ]
  },
  {
   "cell_type": "code",
   "execution_count": 2,
   "id": "cf33ee24",
   "metadata": {},
   "outputs": [
    {
     "name": "stdout",
     "output_type": "stream",
     "text": [
      "{'a': 1, 'b': 2, 'c': 3, 'd': 4, 'e': 5, 'f': 6, 'g': 7, 'h': 8, 'i': 9, 'j': 10, 'k': 11, 'l': 12}\n"
     ]
    }
   ],
   "source": [
    "full_dict_1 = alpha_num_dict_1 | alpha_num_dict_2 | alpha_num_dict_3\n",
    "print(full_dict_1)"
   ]
  },
  {
   "cell_type": "code",
   "execution_count": 3,
   "id": "8b36164d",
   "metadata": {},
   "outputs": [
    {
     "name": "stdout",
     "output_type": "stream",
     "text": [
      "{'a': 1, 'b': 2, 'c': 3, 'd': 4, 'e': 5, 'f': 6, 'g': 7, 'h': 8, 'i': 9, 'j': 10, 'k': 11, 'l': 12}\n"
     ]
    }
   ],
   "source": [
    "full_dict_2 = {**alpha_num_dict_1,**alpha_num_dict_2,**alpha_num_dict_3}\n",
    "print(full_dict_2)"
   ]
  },
  {
   "cell_type": "code",
   "execution_count": 4,
   "id": "a07a66a7",
   "metadata": {},
   "outputs": [
    {
     "data": {
      "text/plain": [
       "True"
      ]
     },
     "execution_count": 4,
     "metadata": {},
     "output_type": "execute_result"
    }
   ],
   "source": [
    "full_dict_1 == full_dict_2"
   ]
  },
  {
   "cell_type": "markdown",
   "id": "dfcbdc15",
   "metadata": {},
   "source": [
    "# **Updating Dictionaries**\n",
    "\n",
    "**Existing Python dictionaries can be updated with other Python dictionaries.**"
   ]
  },
  {
   "cell_type": "code",
   "execution_count": 5,
   "id": "03592bc2",
   "metadata": {},
   "outputs": [
    {
     "name": "stdout",
     "output_type": "stream",
     "text": [
      "{'a': 1, 'b': 2, 'c': 3, 'd': 4, 'e': 5, 'f': 6, 'g': 7, 'h': 8}\n"
     ]
    }
   ],
   "source": [
    "alpha_num_dict_1.update(alpha_num_dict_2)\n",
    "print(alpha_num_dict_1)"
   ]
  },
  {
   "cell_type": "code",
   "execution_count": 6,
   "id": "4031ceeb",
   "metadata": {},
   "outputs": [],
   "source": [
    "alpha_num_dict_1 |= alpha_num_dict_3"
   ]
  },
  {
   "cell_type": "code",
   "execution_count": 7,
   "id": "8da52da8",
   "metadata": {},
   "outputs": [
    {
     "data": {
      "text/plain": [
       "True"
      ]
     },
     "execution_count": 7,
     "metadata": {},
     "output_type": "execute_result"
    }
   ],
   "source": [
    "full_dict_1 == full_dict_2 == alpha_num_dict_1"
   ]
  },
  {
   "cell_type": "markdown",
   "id": "b766c733",
   "metadata": {},
   "source": [
    "# **References and Additional Learning**"
   ]
  },
  {
   "cell_type": "markdown",
   "id": "3dec3e8c",
   "metadata": {},
   "source": [
    "## **Website**\n",
    "\n",
    "- **[PEP 584 – Add Union Operators To dict](https://peps.python.org/pep-0584/#dict-update) from Python.org**"
   ]
  },
  {
   "cell_type": "markdown",
   "id": "b94f1c70",
   "metadata": {},
   "source": [
    "# **Connect**\n",
    "- **Feel free to connect with Adrian on [YouTube](https://www.youtube.com/channel/UCPuDxI3xb_ryUUMfkm0jsRA), [LinkedIn](https://www.linkedin.com/in/adrian-dolinay-frm-96a289106/), [Twitter](https://twitter.com/DolinayG), [GitHub](https://github.com/ad17171717) and [Odysee](https://odysee.com/@adriandolinay:0). Happy coding!**"
   ]
  }
 ],
 "metadata": {
  "hide_input": false,
  "kernelspec": {
   "display_name": "Python 3 (ipykernel)",
   "language": "python",
   "name": "python3"
  },
  "language_info": {
   "codemirror_mode": {
    "name": "ipython",
    "version": 3
   },
   "file_extension": ".py",
   "mimetype": "text/x-python",
   "name": "python",
   "nbconvert_exporter": "python",
   "pygments_lexer": "ipython3",
   "version": "3.10.7"
  }
 },
 "nbformat": 4,
 "nbformat_minor": 5
}

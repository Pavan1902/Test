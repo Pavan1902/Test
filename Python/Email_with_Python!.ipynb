{
  "nbformat": 4,
  "nbformat_minor": 0,
  "metadata": {
    "colab": {
      "name": "Email with Python!.ipynb",
      "provenance": [],
      "collapsed_sections": []
    },
    "kernelspec": {
      "name": "python3",
      "display_name": "Python 3"
    },
    "language_info": {
      "name": "python"
    }
  },
  "cells": [
    {
      "cell_type": "code",
      "source": [
        "import smtplib"
      ],
      "metadata": {
        "id": "RMj4hzpeqBXF"
      },
      "execution_count": null,
      "outputs": []
    },
    {
      "cell_type": "markdown",
      "source": [
        "# **Simple Mail Transfer Protocol (SMTP)**\n",
        "\n",
        "**The Simple Mail Transfer Protocol (SMTP) is an internet standard communication protocol for electronic mail transmission. Mail servers and other message transfer agents use SMTP to send and receive mail messages.**\n",
        "\n",
        "<sup><sup/>\n",
        "Source: [Simple Mail Transfer Protocol](https://en.wikipedia.org/wiki/Simple_Mail_Transfer_Protocol) from Wikipedia.org"
      ],
      "metadata": {
        "id": "186wNQ5XAx23"
      }
    },
    {
      "cell_type": "markdown",
      "source": [
        "## **smtplib**\n",
        "\n",
        "**The smtplib module defines an SMTP client session object that can be used to send mail to any internet machine with an SMTP or ESMTP listener daemon.**\n",
        "\n",
        "<sup><sup/>\n",
        "Source: [smtplib Documentation](https://docs.python.org/3/library/smtplib.html)"
      ],
      "metadata": {
        "id": "5TwMnvg5DPVh"
      }
    },
    {
      "cell_type": "markdown",
      "source": [
        "| **Email Provider** | **SMTP Host Code**  | **Requires App Password**  |\n",
        "|---|---|---|\n",
        "| **Google Gmail**  | **smtp.gmail.com**  | **True**  |\n",
        "| **Microsoft Outlook**  | **smtp-mail.outlook.com**  | **False**  |\n",
        "| **iCloud Mail**  | **smtp.mail.me.com**  | **True**  |\n",
        "| **Yahoo Mail**  | **smtp.mail.yahoo.com**  | **True**  |"
      ],
      "metadata": {
        "id": "ZP073bpnZBFT"
      }
    },
    {
      "cell_type": "code",
      "source": [
        "email_provider_dict = {'microsoft outlook': 'smtp-mail.outlook.com',\n",
        "                       'google mail': 'smtp.gmail.com',\n",
        "                       'yahoo mail': 'smtp.mail.yahoo.com',\n",
        "                       'icloud mail': 'smtp.mail.me.com'}"
      ],
      "metadata": {
        "id": "E6IJMG2nsCiy"
      },
      "execution_count": null,
      "outputs": []
    },
    {
      "cell_type": "code",
      "source": [
        "email_provider = (input('''Which email provider are you using? Type the name of the email provider exactly as you\n",
        "                           see it in the list below:\\nmicrosoft outlook\\ngoogle gmail\\nyahoo mail\\nicloud mail\\n''')).lower()\n",
        "\n",
        "sender = input('\\nInput the email address that will send the email\\n')\n",
        "recipient = input('\\nInput the email address of the recipient\\n\\n')\n",
        "pw = input('\\nEnter your password for the account\\n')"
      ],
      "metadata": {
        "id": "Yi3WYmrdcxrj"
      },
      "execution_count": null,
      "outputs": []
    },
    {
      "cell_type": "code",
      "source": [
        "#port 587 supports TLS (Transport Layer Security)\n",
        "server = smtplib.SMTP(host = email_provider_dict[email_provider],port= 587)\n",
        "#put the SMTP connection in TLS mode, all SMTP commands that follow will be encrypted\n",
        "server.starttls()\n",
        "server.login(user = sender, password = pw)\n",
        "\n",
        "subject = 'The script has finished running'\n",
        "body = 'The Python script has finished running'\n",
        "#icloud requires that the \"From\" and \"To\" lines are specified within the message\n",
        "msg = f'From: {sender}\\r\\nTo: {recipient}\\r\\n\\r\\n{body}'\n",
        "\n",
        "server.sendmail(sender, recipient, msg)\n",
        "#close the server once the email has been sent\n",
        "server.quit()"
      ],
      "metadata": {
        "id": "BKVNKh94rwG5"
      },
      "execution_count": null,
      "outputs": []
    },
    {
      "cell_type": "markdown",
      "source": [
        "# **References and Additional Learning**"
      ],
      "metadata": {
        "id": "m5cgzp3HC2Qu"
      }
    },
    {
      "cell_type": "markdown",
      "source": [
        "## **Websites**\n",
        "\n",
        "- **[Training a Model](https://github.com/flairNLP/flair/blob/master/resources/docs/TUTORIAL_7_TRAINING_A_MODEL.md) from flair documentation**\n",
        "\n",
        "- **[Simple Mail Transfer Protocol](https://en.wikipedia.org/wiki/Simple_Mail_Transfer_Protocol) from Wikipedia.org**\n",
        "\n",
        "- **[smtplib Documentation](https://docs.python.org/3/library/smtplib.html)**"
      ],
      "metadata": {
        "id": "ys1qarjMC5fq"
      }
    },
    {
      "cell_type": "markdown",
      "source": [
        "# **Connect**\n",
        "- **Feel free to connect with Adrian on [YouTube](https://www.youtube.com/channel/UCPuDxI3xb_ryUUMfkm0jsRA), [LinkedIn](https://www.linkedin.com/in/adrian-dolinay-frm-96a289106/), [Twitter](https://twitter.com/DolinayG), [GitHub](https://github.com/ad17171717) and [Odysee](https://odysee.com/@adriandolinay:0). Happy coding!**"
      ],
      "metadata": {
        "id": "Syeg2jTXDE_p"
      }
    }
  ]
}
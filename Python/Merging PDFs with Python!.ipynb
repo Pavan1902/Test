{
 "cells": [
  {
   "cell_type": "code",
   "execution_count": 1,
   "id": "476cbca3",
   "metadata": {},
   "outputs": [],
   "source": [
    "from PyPDF2 import PdfMerger\n",
    "import os"
   ]
  },
  {
   "cell_type": "markdown",
   "id": "14ebdb90",
   "metadata": {},
   "source": [
    "**PyPDF2 is a free and open-source pure-python PDF library capable of splitting, merging, cropping, and transforming the pages of PDF files. It can also add custom data, viewing options, and passwords to PDF files. PyPDF2 can retrieve text and metadata from PDFs as well.**"
   ]
  },
  {
   "cell_type": "markdown",
   "id": "d44f9c26",
   "metadata": {},
   "source": [
    "<sup>Source: [PyPDF2](https://github.com/py-pdf/PyPDF2) from GitHub.com<sup/>"
   ]
  },
  {
   "cell_type": "code",
   "execution_count": 4,
   "id": "40b53529",
   "metadata": {},
   "outputs": [
    {
     "name": "stdout",
     "output_type": "stream",
     "text": [
      "['Finance_with_Python!_Protective_Put_Strategy.pdf', 'Finance_with_Python!_Covered_Call_Strategy.pdf', 'Finance_with_Python!_Collar_Option_Strategy.pdf']\n"
     ]
    }
   ],
   "source": [
    "pdf_list = [file for file in os.listdir() if '.pdf' in file]\n",
    "pdf_list.reverse()\n",
    "\n",
    "print(pdf_list)"
   ]
  },
  {
   "cell_type": "code",
   "execution_count": 5,
   "id": "7fe89315",
   "metadata": {},
   "outputs": [],
   "source": [
    "merger = PdfMerger()\n",
    "\n",
    "for pdf in pdf_list:\n",
    "    merger.append(pdf)\n",
    "    \n",
    "merger.write('finance_options.pdf')\n",
    "merger.close()"
   ]
  },
  {
   "cell_type": "markdown",
   "id": "d9b4c14a",
   "metadata": {},
   "source": [
    "# **References and Additional Learning**"
   ]
  },
  {
   "cell_type": "markdown",
   "id": "f5309edf",
   "metadata": {},
   "source": [
    "## **Website**\n",
    "\n",
    "- **[PyPDF2](https://github.com/py-pdf/PyPDF2) from GitHub.com**\n",
    "\n",
    "- **[The PdfMerger Class](https://pypdf2.readthedocs.io/en/latest/modules/PdfMerger.html) from PyPDF2's Documentation Site**"
   ]
  },
  {
   "cell_type": "markdown",
   "id": "9c6dd61a",
   "metadata": {},
   "source": [
    "# **Connect**\n",
    "- **Feel free to connect with Adrian on [YouTube](https://www.youtube.com/channel/UCPuDxI3xb_ryUUMfkm0jsRA), [LinkedIn](https://www.linkedin.com/in/adrian-dolinay-frm-96a289106/), [Twitter](https://twitter.com/DolinayG), [GitHub](https://github.com/ad17171717) and [Odysee](https://odysee.com/@adriandolinay:0). Happy coding!**"
   ]
  }
 ],
 "metadata": {
  "hide_input": false,
  "kernelspec": {
   "display_name": "pdf",
   "language": "python",
   "name": "pdf"
  },
  "language_info": {
   "codemirror_mode": {
    "name": "ipython",
    "version": 3
   },
   "file_extension": ".py",
   "mimetype": "text/x-python",
   "name": "python",
   "nbconvert_exporter": "python",
   "pygments_lexer": "ipython3",
   "version": "3.10.7"
  }
 },
 "nbformat": 4,
 "nbformat_minor": 5
}

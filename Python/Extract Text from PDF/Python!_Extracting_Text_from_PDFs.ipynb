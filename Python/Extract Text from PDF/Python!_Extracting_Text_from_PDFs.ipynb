{
  "cells": [
    {
      "cell_type": "markdown",
      "metadata": {
        "id": "view-in-github",
        "colab_type": "text"
      },
      "source": [
        "<a href=\"https://colab.research.google.com/github/ad17171717/YouTube-Tutorials/blob/main/Python/Extract%20Text%20from%20PDF/Python!_Extracting_Text_from_PDFs.ipynb\" target=\"_parent\"><img src=\"https://colab.research.google.com/assets/colab-badge.svg\" alt=\"Open In Colab\"/></a>"
      ]
    },
    {
      "cell_type": "code",
      "execution_count": null,
      "id": "12749bac",
      "metadata": {
        "id": "12749bac"
      },
      "outputs": [],
      "source": [
        "from PyPDF2 import PdfReader\n",
        "from PIL import Image\n",
        "import pytesseract\n",
        "import fitz"
      ]
    },
    {
      "cell_type": "markdown",
      "id": "d5947986",
      "metadata": {
        "id": "d5947986"
      },
      "source": [
        "# **Text Extraction from PDFs**\n",
        "\n",
        "**Text from PDF files can be extracted using two different methods: parsing through a digitally created PDF or through Optical Character Recognition for scanned PDFs. A digital native PDF is a PDF file that was created on a computer using a program such as Adobe while scanned PDFs are documents that were uploaded via file scan on a printer. Digitally native PDFs can be parsed using a program such as PyPDF2 while scanned documents can be parsed using a OCR engine such as pytesseract.**"
      ]
    },
    {
      "cell_type": "markdown",
      "id": "f46b7e25",
      "metadata": {
        "id": "f46b7e25"
      },
      "source": [
        "<sup>Source: [Digitally-born vs Scanned PDF files](https://pypdf2.readthedocs.io/en/3.0.0/user/extract-text.html#digitally-born-vs-scanned-pdf-files) from PyPDF2's documentation</sup>"
      ]
    },
    {
      "cell_type": "markdown",
      "id": "98c37290",
      "metadata": {
        "id": "98c37290"
      },
      "source": [
        "## **Extracting Text from a Natively Created PDF**"
      ]
    },
    {
      "cell_type": "code",
      "execution_count": null,
      "id": "6c5498df",
      "metadata": {
        "id": "6c5498df"
      },
      "outputs": [],
      "source": [
        "native_pdf = \"Data Science with Python! Extracting Metadata from Images.pdf\""
      ]
    },
    {
      "cell_type": "code",
      "execution_count": null,
      "id": "f8dfbc84",
      "metadata": {
        "id": "f8dfbc84"
      },
      "outputs": [],
      "source": [
        "reader = PdfReader(native_pdf)\n",
        "\n",
        "pdf_string_1 = ''\n",
        "\n",
        "for page in range(len(reader.pages)):\n",
        "    pdf_string_1 += reader.pages[page].extract_text()"
      ]
    },
    {
      "cell_type": "code",
      "execution_count": null,
      "id": "170093cb",
      "metadata": {
        "id": "170093cb"
      },
      "outputs": [],
      "source": [
        "print(pdf_string_1)"
      ]
    },
    {
      "cell_type": "markdown",
      "id": "88ba3a9b",
      "metadata": {
        "id": "88ba3a9b"
      },
      "source": [
        "## **Extracting Text from a Scanned PDF**"
      ]
    },
    {
      "cell_type": "markdown",
      "id": "fb539d46",
      "metadata": {
        "id": "fb539d46"
      },
      "source": [
        "### **Optical Character Recognition (OCR)**\n",
        "\n",
        "**Optical Character Recognition (OCR) converts images of typed, handwritten or printed text into machine encoded text.**"
      ]
    },
    {
      "cell_type": "markdown",
      "id": "23d8ddb1",
      "metadata": {
        "id": "23d8ddb1"
      },
      "source": [
        "<sup>Source: [What Is Ocr (Optical Character Recognition)?](https://aws.amazon.com/what-is/ocr/) from AWS</sup>"
      ]
    },
    {
      "cell_type": "code",
      "execution_count": null,
      "id": "81e96c8b",
      "metadata": {
        "id": "81e96c8b"
      },
      "outputs": [],
      "source": [
        "scanned_pdf = 'kmeans_algorithm.pdf'"
      ]
    },
    {
      "cell_type": "code",
      "execution_count": null,
      "id": "96cd6781",
      "metadata": {
        "id": "96cd6781"
      },
      "outputs": [],
      "source": [
        "reader_2 = PdfReader(scanned_pdf)\n",
        "\n",
        "pdf_string_2 = ''\n",
        "\n",
        "for page in range(len(reader_2.pages)):\n",
        "    pdf_string_2 += reader_2.pages[page].extract_text()"
      ]
    },
    {
      "cell_type": "code",
      "execution_count": null,
      "id": "6fdb38a3",
      "metadata": {
        "id": "6fdb38a3"
      },
      "outputs": [],
      "source": [
        "print(pdf_string_2)"
      ]
    },
    {
      "cell_type": "code",
      "execution_count": null,
      "id": "74be1ea2",
      "metadata": {
        "id": "74be1ea2"
      },
      "outputs": [],
      "source": [
        "doc = fitz.open('kmeans_algorithm.pdf')"
      ]
    },
    {
      "cell_type": "code",
      "execution_count": null,
      "id": "b33c7cf8",
      "metadata": {
        "id": "b33c7cf8"
      },
      "outputs": [],
      "source": [
        "for page in doc:\n",
        "    pix = page.get_pixmap()\n",
        "    pix.save(\"page-%i.png\" % page.number)"
      ]
    },
    {
      "cell_type": "code",
      "execution_count": null,
      "id": "e3c0bcbd",
      "metadata": {
        "id": "e3c0bcbd"
      },
      "outputs": [],
      "source": [
        "pytesseract.pytesseract.tesseract_cmd = r'C:\\Program Files\\Tesseract-OCR\\tesseract'"
      ]
    },
    {
      "cell_type": "code",
      "execution_count": null,
      "id": "604fd5a0",
      "metadata": {
        "id": "604fd5a0"
      },
      "outputs": [],
      "source": [
        "ocrd_text = pytesseract.image_to_string(Image.open('page-0.png'))"
      ]
    },
    {
      "cell_type": "code",
      "execution_count": null,
      "id": "e07aa2b0",
      "metadata": {
        "id": "e07aa2b0"
      },
      "outputs": [],
      "source": [
        "print(ocrd_text)"
      ]
    },
    {
      "cell_type": "markdown",
      "id": "e3ee7b50",
      "metadata": {
        "id": "e3ee7b50"
      },
      "source": [
        "# **References and Additional Learning**"
      ]
    },
    {
      "cell_type": "markdown",
      "id": "67548c70",
      "metadata": {
        "id": "67548c70"
      },
      "source": [
        "## **Modules**\n",
        "\n",
        "- **[Digitally-born vs Scanned PDF files](https://pypdf2.readthedocs.io/en/3.0.0/user/extract-text.html#digitally-born-vs-scanned-pdf-files) from PyPDF2's documentation**\n",
        "\n",
        "- **[Install Tesseract OCR on Linux](https://linuxhint.com/install-tesseract-ocr-linux/) by David Adams on linuxhint.com**\n",
        "\n",
        "- **[Installing Tesseract on Mac](https://www.oreilly.com/library/view/building-computer-vision/9781838644673/95de5b35-436b-4668-8ca2-44970a6e2924.xhtml) on O'Reilly**\n",
        "\n",
        "- **[PyPDF2 Documentation](https://github.com/py-pdf/PyPDF2) on GitHub.com**\n",
        "\n",
        "- **[pytesseract Documentation](https://github.com/madmaze/pytesseract) on GitHub.com**\n",
        "\n",
        "- **[Tesseract Download at UB Mannheim](https://github.com/UB-Mannheim/tesseract/wiki) on GitHub.com**"
      ]
    },
    {
      "cell_type": "markdown",
      "id": "528cb462",
      "metadata": {
        "id": "528cb462"
      },
      "source": [
        "## **Videos**\n",
        "\n",
        "- **[Data Science with Python! Extracting Metadata from a PDF!](https://www.youtube.com/watch?v=DfY0-VdSumo) by Adrian Dolinay**\n",
        "\n",
        "- **[Encrypting and Decrypting PDFs with Python!](https://www.youtube.com/watch?v=_b96G79IahQ&ab_channel=AdrianDolinay) by Adrian Dolinay**\n",
        "\n",
        "- **[Merging PDFs with Python!](https://www.youtube.com/watch?v=CMEHOjQksUs) by Adrian Dolinay**"
      ]
    },
    {
      "cell_type": "markdown",
      "id": "504debfe",
      "metadata": {
        "id": "504debfe"
      },
      "source": [
        "## **Website**\n",
        "\n",
        "- **[What Is Ocr (Optical Character Recognition)?](https://aws.amazon.com/what-is/ocr/) from AWS**"
      ]
    },
    {
      "cell_type": "markdown",
      "id": "b2c8a7b4",
      "metadata": {
        "id": "b2c8a7b4"
      },
      "source": [
        "# **Connect**\n",
        "- **Feel free to connect with Adrian on [YouTube](https://www.youtube.com/channel/UCPuDxI3xb_ryUUMfkm0jsRA), [LinkedIn](https://www.linkedin.com/in/adrian-dolinay-frm-96a289106/), [Twitter](https://twitter.com/DolinayG), [GitHub](https://github.com/ad17171717), [Medium](https://adriandolinay.medium.com/) and [Odysee](https://odysee.com/@adriandolinay:0). Happy coding!**"
      ]
    }
  ],
  "metadata": {
    "kernelspec": {
      "display_name": "work2",
      "language": "python",
      "name": "work2"
    },
    "language_info": {
      "codemirror_mode": {
        "name": "ipython",
        "version": 3
      },
      "file_extension": ".py",
      "mimetype": "text/x-python",
      "name": "python",
      "nbconvert_exporter": "python",
      "pygments_lexer": "ipython3",
      "version": "3.10.10"
    },
    "colab": {
      "provenance": [],
      "include_colab_link": true
    }
  },
  "nbformat": 4,
  "nbformat_minor": 5
}
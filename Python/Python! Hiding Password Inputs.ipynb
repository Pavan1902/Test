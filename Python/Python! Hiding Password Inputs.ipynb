{
  "cells": [
    {
      "cell_type": "code",
      "execution_count": 1,
      "id": "cea62f5d",
      "metadata": {
        "id": "cea62f5d"
      },
      "outputs": [],
      "source": [
        "from getpass import getpass"
      ]
    },
    {
      "cell_type": "markdown",
      "source": [
        "# **Getpass Method**\n",
        "\n",
        "**The Getpass Method prompts the user for an input without echoing.**"
      ],
      "metadata": {
        "id": "oPKJpXZL1XMp"
      },
      "id": "oPKJpXZL1XMp"
    },
    {
      "cell_type": "markdown",
      "source": [
        "<sup>Source: [getpass Documentation](https://docs.python.org/3/library/getpass.html) from Python.org<sup/>"
      ],
      "metadata": {
        "id": "ovxaayWS9Ut6"
      },
      "id": "ovxaayWS9Ut6"
    },
    {
      "cell_type": "code",
      "source": [
        "user = input()\n",
        "password = input()"
      ],
      "metadata": {
        "colab": {
          "base_uri": "https://localhost:8080/"
        },
        "id": "y7GGly8cx5FY",
        "outputId": "e825f014-541b-4505-ba2c-3f6a841117ba"
      },
      "id": "y7GGly8cx5FY",
      "execution_count": 2,
      "outputs": [
        {
          "name": "stdout",
          "output_type": "stream",
          "text": [
            "adrian\n",
            "test\n"
          ]
        }
      ]
    },
    {
      "cell_type": "code",
      "execution_count": 3,
      "id": "07222a7c",
      "metadata": {
        "scrolled": true,
        "colab": {
          "base_uri": "https://localhost:8080/"
        },
        "id": "07222a7c",
        "outputId": "ff22d222-1a1c-4670-f184-dbd7282407eb"
      },
      "outputs": [
        {
          "name": "stdout",
          "output_type": "stream",
          "text": [
            "··········\n",
            "··········\n"
          ]
        }
      ],
      "source": [
        "user_hidden = getpass()\n",
        "password_hidden = getpass()"
      ]
    },
    {
      "cell_type": "code",
      "execution_count": 4,
      "id": "14e7a462",
      "metadata": {
        "colab": {
          "base_uri": "https://localhost:8080/"
        },
        "id": "14e7a462",
        "outputId": "1fa90c6f-f9ff-4f0b-a5b7-39e53726e8d2"
      },
      "outputs": [
        {
          "output_type": "stream",
          "name": "stdout",
          "text": [
            "The Username is: adriand\n",
            "The Password is: testpw\n",
            "\n"
          ]
        }
      ],
      "source": [
        "print(f'The Username is: {user_hidden}\\nThe Password is: {password_hidden}\\n')"
      ]
    },
    {
      "cell_type": "markdown",
      "source": [
        "# **Logging into GitHub**"
      ],
      "metadata": {
        "id": "VKtzOXPWv9dw"
      },
      "id": "VKtzOXPWv9dw"
    },
    {
      "cell_type": "code",
      "source": [
        "git_token = getpass('Input the GitHub token:\\n')\n",
        "git_user = getpass('Input the username:\\n')\n",
        "#YouTube-Tutorials\n",
        "git_repo = input('Input the repository name:\\n')"
      ],
      "metadata": {
        "colab": {
          "base_uri": "https://localhost:8080/"
        },
        "id": "5SQ3EehSwfYA",
        "outputId": "c522d02f-3d20-4efa-a5d8-c3f5a0cb8df6"
      },
      "id": "5SQ3EehSwfYA",
      "execution_count": 5,
      "outputs": [
        {
          "name": "stdout",
          "output_type": "stream",
          "text": [
            "Input the GitHub token:\n",
            "··········\n",
            "Input the username:\n",
            "··········\n",
            "Input the repository name:\n",
            "YouTube-Tutorials\n"
          ]
        }
      ]
    },
    {
      "cell_type": "code",
      "source": [
        "!git clone https://{git_token}@github.com/{git_user}/{git_repo}"
      ],
      "metadata": {
        "id": "h1F5YU_VxAJQ"
      },
      "id": "h1F5YU_VxAJQ",
      "execution_count": null,
      "outputs": []
    },
    {
      "cell_type": "markdown",
      "id": "a0754248",
      "metadata": {
        "id": "a0754248"
      },
      "source": [
        "# **References and Additional Learning**"
      ]
    },
    {
      "cell_type": "markdown",
      "id": "93f5c468",
      "metadata": {
        "id": "93f5c468"
      },
      "source": [
        "## **Website**\n",
        "\n",
        "- **[getpass Documentation](https://docs.python.org/3/library/getpass.html) from Python.org**"
      ]
    },
    {
      "cell_type": "markdown",
      "id": "761fe299",
      "metadata": {
        "id": "761fe299"
      },
      "source": [
        "# **Connect**\n",
        "- **Feel free to connect with Adrian on [YouTube](https://www.youtube.com/channel/UCPuDxI3xb_ryUUMfkm0jsRA), [LinkedIn](https://www.linkedin.com/in/adrian-dolinay-frm-96a289106/), [Twitter](https://twitter.com/DolinayG), [GitHub](https://github.com/ad17171717) and [Odysee](https://odysee.com/@adriandolinay:0). Happy coding!**"
      ]
    }
  ],
  "metadata": {
    "hide_input": false,
    "kernelspec": {
      "display_name": "Python 3 (ipykernel)",
      "language": "python",
      "name": "python3"
    },
    "language_info": {
      "codemirror_mode": {
        "name": "ipython",
        "version": 3
      },
      "file_extension": ".py",
      "mimetype": "text/x-python",
      "name": "python",
      "nbconvert_exporter": "python",
      "pygments_lexer": "ipython3",
      "version": "3.10.7"
    },
    "colab": {
      "provenance": []
    }
  },
  "nbformat": 4,
  "nbformat_minor": 5
}
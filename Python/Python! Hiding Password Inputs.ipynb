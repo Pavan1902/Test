{
 "cells": [
  {
   "cell_type": "code",
   "execution_count": null,
   "id": "cea62f5d",
   "metadata": {
    "id": "cea62f5d"
   },
   "outputs": [],
   "source": [
    "from getpass import getpass"
   ]
  },
  {
   "cell_type": "markdown",
   "id": "oPKJpXZL1XMp",
   "metadata": {
    "id": "oPKJpXZL1XMp"
   },
   "source": [
    "# **Getpass Method**\n",
    "\n",
    "**The Getpass Method prompts the user for an input without echoing. You may want to conceal your password when a notebook is shared with multiple people. For example if I want to share a YouTube video on how to download a GitHub repo where I need to type in my password.**"
   ]
  },
  {
   "cell_type": "markdown",
   "id": "ovxaayWS9Ut6",
   "metadata": {
    "id": "ovxaayWS9Ut6"
   },
   "source": [
    "<sup>Source: [getpass Documentation](https://docs.python.org/3/library/getpass.html) from Python.org<sup/>"
   ]
  },
  {
   "cell_type": "code",
   "execution_count": null,
   "id": "y7GGly8cx5FY",
   "metadata": {
    "colab": {
     "base_uri": "https://localhost:8080/"
    },
    "id": "y7GGly8cx5FY",
    "outputId": "e825f014-541b-4505-ba2c-3f6a841117ba"
   },
   "outputs": [],
   "source": [
    "user = input()\n",
    "password = input()"
   ]
  },
  {
   "cell_type": "code",
   "execution_count": null,
   "id": "07222a7c",
   "metadata": {
    "colab": {
     "base_uri": "https://localhost:8080/"
    },
    "id": "07222a7c",
    "outputId": "ff22d222-1a1c-4670-f184-dbd7282407eb",
    "scrolled": true
   },
   "outputs": [],
   "source": [
    "user_hidden = getpass()\n",
    "password_hidden = getpass()"
   ]
  },
  {
   "cell_type": "code",
   "execution_count": null,
   "id": "14e7a462",
   "metadata": {
    "colab": {
     "base_uri": "https://localhost:8080/"
    },
    "id": "14e7a462",
    "outputId": "1fa90c6f-f9ff-4f0b-a5b7-39e53726e8d2"
   },
   "outputs": [],
   "source": [
    "print(f'The Username is: {user_hidden}\\nThe Password is: {password_hidden}\\n')"
   ]
  },
  {
   "cell_type": "markdown",
   "id": "VKtzOXPWv9dw",
   "metadata": {
    "id": "VKtzOXPWv9dw"
   },
   "source": [
    "# **Logging into GitHub**"
   ]
  },
  {
   "cell_type": "code",
   "execution_count": null,
   "id": "5SQ3EehSwfYA",
   "metadata": {
    "colab": {
     "base_uri": "https://localhost:8080/"
    },
    "id": "5SQ3EehSwfYA",
    "outputId": "c522d02f-3d20-4efa-a5d8-c3f5a0cb8df6",
    "scrolled": true
   },
   "outputs": [],
   "source": [
    "git_token = getpass('Input the GitHub token:\\n')\n",
    "git_user = getpass('Input the username:\\n')\n",
    "git_repo = input('Input the repository name:\\n')"
   ]
  },
  {
   "cell_type": "code",
   "execution_count": null,
   "id": "h1F5YU_VxAJQ",
   "metadata": {
    "id": "h1F5YU_VxAJQ"
   },
   "outputs": [],
   "source": [
    "!git clone https://{git_token}@github.com/{git_user}/{git_repo}"
   ]
  },
  {
   "cell_type": "markdown",
   "id": "a0754248",
   "metadata": {
    "id": "a0754248"
   },
   "source": [
    "# **References and Additional Learning**"
   ]
  },
  {
   "cell_type": "markdown",
   "id": "93f5c468",
   "metadata": {
    "id": "93f5c468"
   },
   "source": [
    "## **Website**\n",
    "\n",
    "- **[getpass Documentation](https://docs.python.org/3/library/getpass.html) from Python.org**"
   ]
  },
  {
   "cell_type": "markdown",
   "id": "761fe299",
   "metadata": {
    "id": "761fe299"
   },
   "source": [
    "# **Connect**\n",
    "- **Feel free to connect with Adrian on [YouTube](https://www.youtube.com/channel/UCPuDxI3xb_ryUUMfkm0jsRA), [LinkedIn](https://www.linkedin.com/in/adrian-dolinay-frm-96a289106/), [Twitter](https://twitter.com/DolinayG), [GitHub](https://github.com/ad17171717) and [Odysee](https://odysee.com/@adriandolinay:0). Happy coding!**"
   ]
  }
 ],
 "metadata": {
  "colab": {
   "provenance": []
  },
  "hide_input": false,
  "kernelspec": {
   "display_name": "Python 3 (ipykernel)",
   "language": "python",
   "name": "python3"
  },
  "language_info": {
   "codemirror_mode": {
    "name": "ipython",
    "version": 3
   },
   "file_extension": ".py",
   "mimetype": "text/x-python",
   "name": "python",
   "nbconvert_exporter": "python",
   "pygments_lexer": "ipython3",
   "version": "3.10.7"
  }
 },
 "nbformat": 4,
 "nbformat_minor": 5
}

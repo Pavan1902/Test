{
 "cells": [
  {
   "cell_type": "code",
   "execution_count": 1,
   "id": "d3a8bf62",
   "metadata": {},
   "outputs": [],
   "source": [
    "import csv"
   ]
  },
  {
   "cell_type": "markdown",
   "id": "87e43323",
   "metadata": {},
   "source": [
    "# **Python Dictionary**\n",
    "\n",
    "**Within Python, the dictionary class is a collection of mutable objects (values) that are indexed by numbers, strings or certain sets (keys) which are immutable.**\n",
    "\n",
    "**The main use of dictionaries is to store values which can then be called by a given key.**"
   ]
  },
  {
   "cell_type": "markdown",
   "id": "8c410e7d",
   "metadata": {},
   "source": [
    "<sup>Source: [Python Data Structures and Algorithms](https://www.amazon.com/Python-Data-Structures-Algorithms-application-ebook/dp/B01IF7NLM8) by Benjamin Baka<sup/>"
   ]
  },
  {
   "cell_type": "code",
   "execution_count": 2,
   "id": "08527a66",
   "metadata": {},
   "outputs": [],
   "source": [
    "nba_dict = {'Name': ['Joel Emiid','Luka Doncic', 'Kevin Durant', 'Lebron James', 'Giannis Antetokounmpo'],\n",
    "            'Number': [21,77,7,6,34],\n",
    "            'Position': ['Center','Guard','Forward','Forward','Forward'],\n",
    "            'Team': ['Philadelphia 76ers','Dallas Mavericks','Brooklyn Nets','Los Angeles Lakers','Milwaukee Bucks']}"
   ]
  },
  {
   "cell_type": "markdown",
   "id": "6bd3e152",
   "metadata": {},
   "source": [
    "# **Method 1**"
   ]
  },
  {
   "cell_type": "code",
   "execution_count": 3,
   "id": "a86a6874",
   "metadata": {},
   "outputs": [],
   "source": [
    "with open('nba_data_1.csv','w',newline='') as f:\n",
    "    writer = csv.DictWriter(f,fieldnames=nba_dict.keys())\n",
    "    writer.writeheader()\n",
    "    writer.writerow(nba_dict)"
   ]
  },
  {
   "cell_type": "markdown",
   "id": "23705497",
   "metadata": {},
   "source": [
    "# **Method 2**"
   ]
  },
  {
   "cell_type": "code",
   "execution_count": 4,
   "id": "ddf545c0",
   "metadata": {},
   "outputs": [],
   "source": [
    "with open('nba_data_2.csv','w',newline='') as f:\n",
    "    writer = csv.writer(f)\n",
    "    writer.writerow(nba_dict.keys())\n",
    "    for iteration in range(len(nba_dict.keys())):\n",
    "        writer.writerow([val[iteration] for val in nba_dict.values()])"
   ]
  },
  {
   "cell_type": "code",
   "execution_count": 5,
   "id": "5607860c",
   "metadata": {},
   "outputs": [
    {
     "name": "stdout",
     "output_type": "stream",
     "text": [
      "['Joel Emiid', 21, 'Center', 'Philadelphia 76ers']\n",
      "['Luka Doncic', 77, 'Guard', 'Dallas Mavericks']\n",
      "['Kevin Durant', 7, 'Forward', 'Brooklyn Nets']\n",
      "['Lebron James', 6, 'Forward', 'Los Angeles Lakers']\n"
     ]
    }
   ],
   "source": [
    "for iteration in range(len(nba_dict.keys())):\n",
    "   print([val[iteration] for val in nba_dict.values()])"
   ]
  },
  {
   "cell_type": "markdown",
   "id": "face4c92",
   "metadata": {},
   "source": [
    "# **References and Additional Learning**"
   ]
  },
  {
   "cell_type": "markdown",
   "id": "c19e9e35",
   "metadata": {},
   "source": [
    "## **Textbook**\n",
    "\n",
    "- **[Python Data Structures and Algorithms](https://www.amazon.com/Python-Data-Structures-Algorithms-application-ebook/dp/B01IF7NLM8) by Benjamin Baka**"
   ]
  },
  {
   "cell_type": "markdown",
   "id": "60d35f84",
   "metadata": {},
   "source": [
    "## **Video**\n",
    "\n",
    "**[Python - Dictionaries!](https://www.youtube.com/watch?v=EKWkRfbFRts&t=603s) by Adrian Dolinay**"
   ]
  },
  {
   "cell_type": "markdown",
   "id": "5b514955",
   "metadata": {},
   "source": [
    "# **Connect**\n",
    "- **Feel free to connect with Adrian on [YouTube](https://www.youtube.com/channel/UCPuDxI3xb_ryUUMfkm0jsRA), [LinkedIn](https://www.linkedin.com/in/adrian-dolinay-frm-96a289106/), [Twitter](https://twitter.com/DolinayG), [GitHub](https://github.com/ad17171717) and [Odysee](https://odysee.com/@adriandolinay:0). Happy coding!**"
   ]
  }
 ],
 "metadata": {
  "hide_input": false,
  "kernelspec": {
   "display_name": "Python 3 (ipykernel)",
   "language": "python",
   "name": "python3"
  },
  "language_info": {
   "codemirror_mode": {
    "name": "ipython",
    "version": 3
   },
   "file_extension": ".py",
   "mimetype": "text/x-python",
   "name": "python",
   "nbconvert_exporter": "python",
   "pygments_lexer": "ipython3",
   "version": "3.10.7"
  }
 },
 "nbformat": 4,
 "nbformat_minor": 5
}

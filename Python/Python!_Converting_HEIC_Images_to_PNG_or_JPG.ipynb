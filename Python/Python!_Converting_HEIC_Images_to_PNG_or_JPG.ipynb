{
  "nbformat": 4,
  "nbformat_minor": 0,
  "metadata": {
    "colab": {
      "provenance": [],
      "include_colab_link": true
    },
    "kernelspec": {
      "name": "python3",
      "display_name": "Python 3"
    },
    "language_info": {
      "name": "python"
    }
  },
  "cells": [
    {
      "cell_type": "markdown",
      "metadata": {
        "id": "view-in-github",
        "colab_type": "text"
      },
      "source": [
        "<a href=\"https://colab.research.google.com/github/ad17171717/YouTube-Tutorials/blob/main/Python/Python!_Converting_HEIC_Images_to_PNG_or_JPG.ipynb\" target=\"_parent\"><img src=\"https://colab.research.google.com/assets/colab-badge.svg\" alt=\"Open In Colab\"/></a>"
      ]
    },
    {
      "cell_type": "code",
      "execution_count": null,
      "metadata": {
        "id": "-t7ddJT2dNGG"
      },
      "outputs": [],
      "source": [
        "!pip install pillow-heif"
      ]
    },
    {
      "cell_type": "code",
      "source": [
        "from PIL import Image\n",
        "from pillow_heif import register_heif_opener\n",
        "import os"
      ],
      "metadata": {
        "id": "ZzO4C1P-dOqS"
      },
      "execution_count": 2,
      "outputs": []
    },
    {
      "cell_type": "markdown",
      "source": [
        "# **HEIC Files**\n",
        "\n",
        "**HEIC (High Efficiency Image Container) is an updated image format  variant of the High Efficiency Image Format (HEIF). Apple product such as iPhones store images as HEIC files. Opearting systems such as Windows cannot open HEIC files without an addtional extension.**"
      ],
      "metadata": {
        "id": "TfkqpMPWlAMZ"
      }
    },
    {
      "cell_type": "markdown",
      "source": [
        "<sup>Source: [HEIC files](https://www.adobe.com/creativecloud/file-types/image/raster/heic-file.html#heic) from Adobe</sup>"
      ],
      "metadata": {
        "id": "Ma6Whv3KmG3h"
      }
    },
    {
      "cell_type": "code",
      "source": [
        "help(register_heif_opener)"
      ],
      "metadata": {
        "colab": {
          "base_uri": "https://localhost:8080/"
        },
        "id": "-c7SIhwyhxm6",
        "outputId": "8f635a00-2f78-472a-fc1d-b128bbb47371"
      },
      "execution_count": 3,
      "outputs": [
        {
          "output_type": "stream",
          "name": "stdout",
          "text": [
            "Help on function register_heif_opener in module pillow_heif.as_plugin:\n",
            "\n",
            "register_heif_opener(**kwargs) -> None\n",
            "    Registers a Pillow plugin for HEIF format.\n",
            "    \n",
            "    :param kwargs: dictionary with values to set in options. See: :ref:`options`.\n",
            "\n"
          ]
        }
      ]
    },
    {
      "cell_type": "code",
      "source": [
        "register_heif_opener()"
      ],
      "metadata": {
        "id": "0mmft659dgQz"
      },
      "execution_count": 4,
      "outputs": []
    },
    {
      "cell_type": "code",
      "source": [
        "heic_files = [photo for photo in os.listdir() if '.HEIC' in photo]"
      ],
      "metadata": {
        "id": "alD0aq1edSS6"
      },
      "execution_count": 5,
      "outputs": []
    },
    {
      "cell_type": "code",
      "source": [
        "heic_files"
      ],
      "metadata": {
        "colab": {
          "base_uri": "https://localhost:8080/"
        },
        "id": "hwPsaF8OoAJZ",
        "outputId": "8a1f8556-08c8-4777-8570-81cd9c028927"
      },
      "execution_count": 7,
      "outputs": [
        {
          "output_type": "execute_result",
          "data": {
            "text/plain": [
              "['FCWD9518.HEIC', 'IMG_2149.HEIC', 'IMG_1911.HEIC', 'LNQM0336.HEIC']"
            ]
          },
          "metadata": {},
          "execution_count": 7
        }
      ]
    },
    {
      "cell_type": "code",
      "source": [
        "for photo in heic_files:\n",
        "  temp_img = Image.open(photo)\n",
        "  png_photo = photo.replace('.HEIC','.png')\n",
        "  temp_img.save(png_photo)"
      ],
      "metadata": {
        "id": "ZFnKw1HDoKfo"
      },
      "execution_count": 8,
      "outputs": []
    },
    {
      "cell_type": "markdown",
      "source": [
        "# **References and Additional Learning**"
      ],
      "metadata": {
        "id": "oyu7Jm9eluqK"
      }
    },
    {
      "cell_type": "markdown",
      "source": [
        "## **Website**\n",
        "\n",
        "- **[HEIC files](https://www.adobe.com/creativecloud/file-types/image/raster/heic-file.html#heic) from Adobe**"
      ],
      "metadata": {
        "id": "gO9uKxv0lxm7"
      }
    },
    {
      "cell_type": "markdown",
      "source": [
        "# **Connect**\n",
        "- **Feel free to connect with Adrian on [YouTube](https://www.youtube.com/channel/UCPuDxI3xb_ryUUMfkm0jsRA), [LinkedIn](https://www.linkedin.com/in/adrian-dolinay-frm-96a289106/), [Twitter](https://twitter.com/DolinayG), [GitHub](https://github.com/ad17171717), [Medium](https://adriandolinay.medium.com/) and [Odysee](https://odysee.com/@adriandolinay:0). Happy coding!**"
      ],
      "metadata": {
        "id": "kmyebeyUls6D"
      }
    }
  ]
}
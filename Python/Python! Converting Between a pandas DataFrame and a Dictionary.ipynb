{
 "cells": [
  {
   "cell_type": "code",
   "execution_count": 1,
   "metadata": {},
   "outputs": [],
   "source": [
    "import pandas as pd"
   ]
  },
  {
   "cell_type": "markdown",
   "metadata": {
    "id": "faMpLAf2klwF"
   },
   "source": [
    "# **Python Dictionary**\n",
    "\n",
    "**Within Python, the dictionary class is a collection of mutable objects (values) that are indexed by numbers, strings or certain sets (keys) which are immutable.**\n",
    "\n",
    "**The main use of dictionaries is to store values which can then be called by a given key.**"
   ]
  },
  {
   "cell_type": "markdown",
   "metadata": {
    "id": "K6NMNWqDklwI"
   },
   "source": [
    "<sup>Source: [Python Data Structures and Algorithms](https://www.amazon.com/Python-Data-Structures-Algorithms-application-ebook/dp/B01IF7NLM8) by Benjamin Baka<sup/>"
   ]
  },
  {
   "cell_type": "code",
   "execution_count": 2,
   "metadata": {
    "id": "wfv0L859klwL"
   },
   "outputs": [],
   "source": [
    "data_dict = {'Company':['Apple','Exxon','Nvidia','Caterpillar'],\n",
    "             'Sector'  : ['Technology','Energy','Technology','Industrials'],\n",
    "             'Tickers': ['AAPL','XOM','NVDA','CAT']}"
   ]
  },
  {
   "cell_type": "markdown",
   "metadata": {},
   "source": [
    "## **Converting a dictionary to a pandas DataFrame**"
   ]
  },
  {
   "cell_type": "code",
   "execution_count": 3,
   "metadata": {},
   "outputs": [
    {
     "data": {
      "text/html": [
       "<div>\n",
       "<style scoped>\n",
       "    .dataframe tbody tr th:only-of-type {\n",
       "        vertical-align: middle;\n",
       "    }\n",
       "\n",
       "    .dataframe tbody tr th {\n",
       "        vertical-align: top;\n",
       "    }\n",
       "\n",
       "    .dataframe thead th {\n",
       "        text-align: right;\n",
       "    }\n",
       "</style>\n",
       "<table border=\"1\" class=\"dataframe\">\n",
       "  <thead>\n",
       "    <tr style=\"text-align: right;\">\n",
       "      <th></th>\n",
       "      <th>Company</th>\n",
       "      <th>Sector</th>\n",
       "      <th>Tickers</th>\n",
       "    </tr>\n",
       "  </thead>\n",
       "  <tbody>\n",
       "    <tr>\n",
       "      <th>0</th>\n",
       "      <td>Apple</td>\n",
       "      <td>Technology</td>\n",
       "      <td>AAPL</td>\n",
       "    </tr>\n",
       "    <tr>\n",
       "      <th>1</th>\n",
       "      <td>Exxon</td>\n",
       "      <td>Energy</td>\n",
       "      <td>XOM</td>\n",
       "    </tr>\n",
       "    <tr>\n",
       "      <th>2</th>\n",
       "      <td>Nvidia</td>\n",
       "      <td>Technology</td>\n",
       "      <td>NVDA</td>\n",
       "    </tr>\n",
       "    <tr>\n",
       "      <th>3</th>\n",
       "      <td>Caterpillar</td>\n",
       "      <td>Industrials</td>\n",
       "      <td>CAT</td>\n",
       "    </tr>\n",
       "  </tbody>\n",
       "</table>\n",
       "</div>"
      ],
      "text/plain": [
       "       Company       Sector Tickers\n",
       "0        Apple   Technology    AAPL\n",
       "1        Exxon       Energy     XOM\n",
       "2       Nvidia   Technology    NVDA\n",
       "3  Caterpillar  Industrials     CAT"
      ]
     },
     "execution_count": 3,
     "metadata": {},
     "output_type": "execute_result"
    }
   ],
   "source": [
    "df = pd.DataFrame(data=data_dict)\n",
    "\n",
    "df"
   ]
  },
  {
   "cell_type": "markdown",
   "metadata": {},
   "source": [
    "## **Converting a pandas DataFrame to a dictionary**"
   ]
  },
  {
   "cell_type": "markdown",
   "metadata": {},
   "source": [
    "## **Built-in pandas Functions**"
   ]
  },
  {
   "cell_type": "markdown",
   "metadata": {},
   "source": [
    "### **Default `to_dict()` Format**"
   ]
  },
  {
   "cell_type": "code",
   "execution_count": 4,
   "metadata": {},
   "outputs": [
    {
     "name": "stdout",
     "output_type": "stream",
     "text": [
      "{'Company': {0: 'Apple', 1: 'Exxon', 2: 'Nvidia', 3: 'Caterpillar'}, 'Sector': {0: 'Technology', 1: 'Energy', 2: 'Technology', 3: 'Industrials'}, 'Tickers': {0: 'AAPL', 1: 'XOM', 2: 'NVDA', 3: 'CAT'}}\n"
     ]
    }
   ],
   "source": [
    "df_dict_1 = df.to_dict()\n",
    "\n",
    "print(df_dict_1)"
   ]
  },
  {
   "cell_type": "code",
   "execution_count": 6,
   "metadata": {},
   "outputs": [
    {
     "data": {
      "text/plain": [
       "'Apple'"
      ]
     },
     "execution_count": 6,
     "metadata": {},
     "output_type": "execute_result"
    }
   ],
   "source": [
    "df_dict_1['Company'][0]"
   ]
  },
  {
   "cell_type": "markdown",
   "metadata": {},
   "source": [
    "### **`records` Format**"
   ]
  },
  {
   "cell_type": "code",
   "execution_count": 7,
   "metadata": {},
   "outputs": [
    {
     "name": "stdout",
     "output_type": "stream",
     "text": [
      "[{'Company': 'Apple', 'Sector': 'Technology', 'Tickers': 'AAPL'}, {'Company': 'Exxon', 'Sector': 'Energy', 'Tickers': 'XOM'}, {'Company': 'Nvidia', 'Sector': 'Technology', 'Tickers': 'NVDA'}, {'Company': 'Caterpillar', 'Sector': 'Industrials', 'Tickers': 'CAT'}]\n"
     ]
    }
   ],
   "source": [
    "df_dict_2 = df.to_dict('records')\n",
    "print(df_dict_2)"
   ]
  },
  {
   "cell_type": "code",
   "execution_count": 8,
   "metadata": {},
   "outputs": [
    {
     "name": "stdout",
     "output_type": "stream",
     "text": [
      "<class 'list'>\n"
     ]
    }
   ],
   "source": [
    "print(type(df_dict_2))"
   ]
  },
  {
   "cell_type": "code",
   "execution_count": 12,
   "metadata": {},
   "outputs": [
    {
     "data": {
      "text/plain": [
       "'Apple'"
      ]
     },
     "execution_count": 12,
     "metadata": {},
     "output_type": "execute_result"
    }
   ],
   "source": [
    "df_dict_2[0]['Company']"
   ]
  },
  {
   "cell_type": "markdown",
   "metadata": {},
   "source": [
    "### **`index` Format**"
   ]
  },
  {
   "cell_type": "code",
   "execution_count": 13,
   "metadata": {},
   "outputs": [
    {
     "name": "stdout",
     "output_type": "stream",
     "text": [
      "{0: {'Company': 'Apple', 'Sector': 'Technology', 'Tickers': 'AAPL'}, 1: {'Company': 'Exxon', 'Sector': 'Energy', 'Tickers': 'XOM'}, 2: {'Company': 'Nvidia', 'Sector': 'Technology', 'Tickers': 'NVDA'}, 3: {'Company': 'Caterpillar', 'Sector': 'Industrials', 'Tickers': 'CAT'}}\n"
     ]
    }
   ],
   "source": [
    "df_dict_3 = df.to_dict('index')\n",
    "print(df_dict_3)"
   ]
  },
  {
   "cell_type": "code",
   "execution_count": 15,
   "metadata": {},
   "outputs": [
    {
     "data": {
      "text/plain": [
       "'Apple'"
      ]
     },
     "execution_count": 15,
     "metadata": {},
     "output_type": "execute_result"
    }
   ],
   "source": [
    "df_dict_3[0]['Company']"
   ]
  },
  {
   "cell_type": "markdown",
   "metadata": {},
   "source": [
    "## **Previous Dictionary Format with Dictionary Comprehension**"
   ]
  },
  {
   "cell_type": "code",
   "execution_count": 18,
   "metadata": {},
   "outputs": [
    {
     "data": {
      "text/plain": [
       "['Company', 'Sector', 'Tickers']"
      ]
     },
     "execution_count": 18,
     "metadata": {},
     "output_type": "execute_result"
    }
   ],
   "source": [
    "[key for key in df.to_dict()]"
   ]
  },
  {
   "cell_type": "code",
   "execution_count": 19,
   "metadata": {},
   "outputs": [
    {
     "data": {
      "text/plain": [
       "{'Company': ['Apple', 'Exxon', 'Nvidia', 'Caterpillar'],\n",
       " 'Sector': ['Technology', 'Energy', 'Technology', 'Industrials'],\n",
       " 'Tickers': ['AAPL', 'XOM', 'NVDA', 'CAT']}"
      ]
     },
     "execution_count": 19,
     "metadata": {},
     "output_type": "execute_result"
    }
   ],
   "source": [
    "dict_comp = {key:list(df.to_dict()[key].values()) for key in df.to_dict()}\n",
    "dict_comp"
   ]
  },
  {
   "cell_type": "code",
   "execution_count": 20,
   "metadata": {},
   "outputs": [
    {
     "data": {
      "text/plain": [
       "True"
      ]
     },
     "execution_count": 20,
     "metadata": {},
     "output_type": "execute_result"
    }
   ],
   "source": [
    "dict_comp == data_dict"
   ]
  },
  {
   "cell_type": "markdown",
   "metadata": {
    "id": "mT9dfUl9klwP"
   },
   "source": [
    "# **References and Additional Learning**"
   ]
  },
  {
   "cell_type": "markdown",
   "metadata": {
    "id": "f9_iB5fhklwQ"
   },
   "source": [
    "## **Textbook**\n",
    "\n",
    "- **[Python Data Structures and Algorithms](https://www.amazon.com/Python-Data-Structures-Algorithms-application-ebook/dp/B01IF7NLM8) by Benjamin Baka**"
   ]
  },
  {
   "cell_type": "markdown",
   "metadata": {
    "id": "oOe1H4wUklwQ"
   },
   "source": [
    "## **Videos**\n",
    "\n",
    "**[Python - Dictionaries!](https://www.youtube.com/watch?v=EKWkRfbFRts&t=603s) by Adrian Dolinay**"
   ]
  },
  {
   "cell_type": "markdown",
   "metadata": {},
   "source": [
    "## **Website**\n",
    "\n",
    "- **[pandas.DataFrame.to_dict\n",
    "](https://pandas.pydata.org/docs/reference/api/pandas.DataFrame.to_dict.html) from pandas.pydata.org**"
   ]
  },
  {
   "cell_type": "markdown",
   "metadata": {
    "id": "Olc8fyPkklwR"
   },
   "source": [
    "# **Connect**\n",
    "**Feel free to connect with Adrian on [YouTube](https://www.youtube.com/channel/UCPuDxI3xb_ryUUMfkm0jsRA), [LinkedIn](https://www.linkedin.com/in/adrian-dolinay-frm-96a289106/), [Twitter](https://twitter.com/DolinayG), [GitHub](https://github.com/ad17171717) and [Odysee](https://odysee.com/@adriandolinay:0). Happy coding!**"
   ]
  }
 ],
 "metadata": {
  "colab": {
   "provenance": []
  },
  "hide_input": false,
  "kernelspec": {
   "display_name": "Python 3 (ipykernel)",
   "language": "python",
   "name": "python3"
  },
  "language_info": {
   "codemirror_mode": {
    "name": "ipython",
    "version": 3
   },
   "file_extension": ".py",
   "mimetype": "text/x-python",
   "name": "python",
   "nbconvert_exporter": "python",
   "pygments_lexer": "ipython3",
   "version": "3.10.7"
  }
 },
 "nbformat": 4,
 "nbformat_minor": 1
}

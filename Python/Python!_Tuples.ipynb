{
  "cells": [
    {
      "cell_type": "markdown",
      "metadata": {
        "id": "view-in-github",
        "colab_type": "text"
      },
      "source": [
        "<a href=\"https://colab.research.google.com/github/ad17171717/YouTube-Tutorials/blob/main/Python/Python!_Tuples.ipynb\" target=\"_parent\"><img src=\"https://colab.research.google.com/assets/colab-badge.svg\" alt=\"Open In Colab\"/></a>"
      ]
    },
    {
      "cell_type": "code",
      "execution_count": null,
      "id": "9d8117a3",
      "metadata": {
        "id": "9d8117a3"
      },
      "outputs": [],
      "source": [
        "import sys\n",
        "import numpy as np"
      ]
    },
    {
      "cell_type": "markdown",
      "id": "b99af242",
      "metadata": {
        "id": "b99af242"
      },
      "source": [
        "# **Tuples**\n",
        "\n",
        "**Tuples are immutable sequences, typically used to store collections of heterogeneous data. Tuples are used for cases where an immutable sequence of homogeneous data is needed, such as allowing storage in a `set` or `dict` instance.**\n",
        "\n",
        "**Tuples may be constructed in a number of ways:**\n",
        "\n",
        "- **Using a pair of parentheses to denote the empty tuple: `()`**\n",
        "\n",
        "- **Using a trailing comma for a singleton tuple: `a,` or `(a,)`**\n",
        "\n",
        "- **Separating items with commas: `a, b, c` or `(a, b, c)`**\n",
        "\n",
        "- **Using the `tuple()` built-in: `tuple()` or `tuple(iterable)`**"
      ]
    },
    {
      "cell_type": "markdown",
      "id": "58360c8a",
      "metadata": {
        "id": "58360c8a"
      },
      "source": [
        "<sup>Source: [Tuples](https://docs.python.org/3/library/stdtypes.html#tuple) from Python.org<sup/>"
      ]
    },
    {
      "cell_type": "markdown",
      "id": "7e27b0e3",
      "metadata": {
        "id": "7e27b0e3"
      },
      "source": [
        "## **Tuple Construction**"
      ]
    },
    {
      "cell_type": "markdown",
      "id": "30ee48ee",
      "metadata": {
        "id": "30ee48ee"
      },
      "source": [
        "### **Empty Tuple**"
      ]
    },
    {
      "cell_type": "code",
      "execution_count": null,
      "id": "112b0445",
      "metadata": {
        "id": "112b0445"
      },
      "outputs": [],
      "source": [
        "empty_tuple = ()\n",
        "print(type(empty_tuple))"
      ]
    },
    {
      "cell_type": "markdown",
      "id": "7f9ef219",
      "metadata": {
        "id": "7f9ef219"
      },
      "source": [
        "### **Built-in `tuple` Class**"
      ]
    },
    {
      "cell_type": "code",
      "execution_count": null,
      "id": "5f99c7b4",
      "metadata": {
        "id": "5f99c7b4"
      },
      "outputs": [],
      "source": [
        "num_tuple = tuple((num for num in range(100)))\n",
        "print(num_tuple)"
      ]
    },
    {
      "cell_type": "markdown",
      "id": "20f99092",
      "metadata": {
        "id": "20f99092"
      },
      "source": [
        "### **Comma Separated Tuple**"
      ]
    },
    {
      "cell_type": "code",
      "execution_count": null,
      "id": "33c43a9f",
      "metadata": {
        "id": "33c43a9f"
      },
      "outputs": [],
      "source": [
        "name1,name2,name3,name4 = 'Adrian','Tara','Ivan','Junichiro'\n",
        "\n",
        "name_tuple = name1,name2,name3,name4\n",
        "print(name_tuple)"
      ]
    },
    {
      "cell_type": "markdown",
      "id": "d774d5f8",
      "metadata": {
        "id": "d774d5f8"
      },
      "source": [
        "### **Concatenating Tuples Together**"
      ]
    },
    {
      "cell_type": "code",
      "execution_count": null,
      "id": "01c9eb33",
      "metadata": {
        "id": "01c9eb33"
      },
      "outputs": [],
      "source": [
        "mixed_tuple = name_tuple+num_tuple\n",
        "print(mixed_tuple)"
      ]
    },
    {
      "cell_type": "markdown",
      "id": "9fa765c0",
      "metadata": {
        "id": "9fa765c0"
      },
      "source": [
        "## **Repeating Tuples**"
      ]
    },
    {
      "cell_type": "code",
      "execution_count": null,
      "id": "01dc5d73",
      "metadata": {
        "id": "01dc5d73"
      },
      "outputs": [],
      "source": [
        "repeating_tuple = name_tuple*2\n",
        "print(repeating_tuple)"
      ]
    },
    {
      "cell_type": "markdown",
      "id": "eab85d58",
      "metadata": {
        "id": "eab85d58"
      },
      "source": [
        "## **Comparing Tuple Memory Size to Other Objects**"
      ]
    },
    {
      "cell_type": "code",
      "execution_count": null,
      "id": "636802e7",
      "metadata": {
        "id": "636802e7"
      },
      "outputs": [],
      "source": [
        "num_list = [num for num in range(100)]\n",
        "num_array = np.array([num for num in range(100)])\n",
        "num_set = {num for num in range(100)}"
      ]
    },
    {
      "cell_type": "code",
      "execution_count": null,
      "id": "c23b48e3",
      "metadata": {
        "id": "c23b48e3"
      },
      "outputs": [],
      "source": [
        "object_tuple = (num_tuple,num_list,num_array,num_set)\n",
        "\n",
        "for obj in object_tuple:\n",
        "    print(f'The {type(obj)} containing {len(obj)} integers take {sys.getsizeof(obj)} bytes of memory')"
      ]
    },
    {
      "cell_type": "markdown",
      "id": "284342cf",
      "metadata": {
        "id": "284342cf"
      },
      "source": [
        "## **Comparing the Time to Create Various Objects**"
      ]
    },
    {
      "cell_type": "code",
      "execution_count": null,
      "id": "350986ab",
      "metadata": {
        "id": "350986ab"
      },
      "outputs": [],
      "source": [
        "%%timeit\n",
        "num_tuple = tuple((num for num in range(100)))"
      ]
    },
    {
      "cell_type": "code",
      "execution_count": null,
      "id": "b80ab1ef",
      "metadata": {
        "id": "b80ab1ef"
      },
      "outputs": [],
      "source": [
        "%%timeit\n",
        "num_list = [num for num in range(100)]"
      ]
    },
    {
      "cell_type": "code",
      "execution_count": null,
      "id": "d116cdda",
      "metadata": {
        "id": "d116cdda"
      },
      "outputs": [],
      "source": [
        "%%timeit\n",
        "num_array = np.array([num for num in range(100)])"
      ]
    },
    {
      "cell_type": "code",
      "execution_count": null,
      "id": "594d0e8c",
      "metadata": {
        "id": "594d0e8c"
      },
      "outputs": [],
      "source": [
        "%%timeit\n",
        "num_set = {num for num in range(100)}"
      ]
    },
    {
      "cell_type": "markdown",
      "id": "679f146c",
      "metadata": {
        "id": "679f146c"
      },
      "source": [
        "## **Can Access Elements by Indexing, Slicing and Striding Tuples**"
      ]
    },
    {
      "cell_type": "code",
      "execution_count": null,
      "id": "a1d3919d",
      "metadata": {
        "id": "a1d3919d"
      },
      "outputs": [],
      "source": [
        "#return first element in a tuple\n",
        "num_tuple[0]"
      ]
    },
    {
      "cell_type": "code",
      "execution_count": null,
      "id": "dd659eaa",
      "metadata": {
        "id": "dd659eaa"
      },
      "outputs": [],
      "source": [
        "#slice to access the last five elements of a tuple\n",
        "num_tuple[-5:]"
      ]
    },
    {
      "cell_type": "code",
      "execution_count": null,
      "id": "e2fddb75",
      "metadata": {
        "id": "e2fddb75"
      },
      "outputs": [],
      "source": [
        "#striding to return every nth element\n",
        "num_tuple[0::2]"
      ]
    },
    {
      "cell_type": "markdown",
      "id": "8b43ab60",
      "metadata": {
        "id": "8b43ab60"
      },
      "source": [
        "## **Tuples are Immutable**"
      ]
    },
    {
      "cell_type": "code",
      "execution_count": null,
      "id": "43b44f64",
      "metadata": {
        "id": "43b44f64"
      },
      "outputs": [],
      "source": [
        "try:\n",
        "    num_tuple[0] = 5\n",
        "except:\n",
        "    print(f'{type(num_tuple)} is immutable')"
      ]
    },
    {
      "cell_type": "code",
      "execution_count": null,
      "id": "83aa8de8",
      "metadata": {
        "id": "83aa8de8"
      },
      "outputs": [],
      "source": [
        "num_tuple[0]"
      ]
    },
    {
      "cell_type": "markdown",
      "id": "e0ca3329",
      "metadata": {
        "id": "e0ca3329"
      },
      "source": [
        "## **Iterating Over the Elements within a Tuple**"
      ]
    },
    {
      "cell_type": "code",
      "execution_count": null,
      "id": "3fc28ad4",
      "metadata": {
        "id": "3fc28ad4"
      },
      "outputs": [],
      "source": [
        "for num in num_tuple:\n",
        "    print(num**.5)"
      ]
    },
    {
      "cell_type": "markdown",
      "id": "c670f8ea",
      "metadata": {
        "id": "c670f8ea"
      },
      "source": [
        "## **Built-in Functions**"
      ]
    },
    {
      "cell_type": "code",
      "execution_count": null,
      "id": "25fc3326",
      "metadata": {
        "id": "25fc3326"
      },
      "outputs": [],
      "source": [
        "#count the number of times a specific element appears within the tuple\n",
        "name_tuple.count('Adrian')"
      ]
    },
    {
      "cell_type": "code",
      "execution_count": null,
      "id": "713f83cc",
      "metadata": {
        "id": "713f83cc"
      },
      "outputs": [],
      "source": [
        "#return the index position of a specific element within the tuple\n",
        "name_tuple.index('Ivan')"
      ]
    },
    {
      "cell_type": "markdown",
      "id": "63197d55",
      "metadata": {
        "id": "63197d55"
      },
      "source": [
        "## **Tuples Can be Used as Keys for a Dictionary**"
      ]
    },
    {
      "cell_type": "code",
      "execution_count": null,
      "id": "b20edf51",
      "metadata": {
        "id": "b20edf51"
      },
      "outputs": [],
      "source": [
        "name_tuple"
      ]
    },
    {
      "cell_type": "code",
      "execution_count": null,
      "id": "a8c0f4f4",
      "metadata": {
        "id": "a8c0f4f4"
      },
      "outputs": [],
      "source": [
        "degree_tuple = ('Statistics','Computer Science','Physics','Biology')"
      ]
    },
    {
      "cell_type": "code",
      "execution_count": null,
      "id": "38d0d322",
      "metadata": {
        "id": "38d0d322"
      },
      "outputs": [],
      "source": [
        "school_dict = {name_tuple:degree_tuple}\n",
        "print(school_dict)"
      ]
    },
    {
      "cell_type": "markdown",
      "id": "ee735ed6",
      "metadata": {
        "id": "ee735ed6"
      },
      "source": [
        "## **Common Sequence Operations that Work with Tuples**"
      ]
    },
    {
      "cell_type": "markdown",
      "id": "dc2f684f",
      "metadata": {
        "id": "dc2f684f"
      },
      "source": [
        "| Operation  | Result  |\n",
        "|---|---|\n",
        "| `x in s`  | `True`  if an item of s is equal to x, else `False`  |\n",
        "| `x not in s`  |  `False` if an item of s is equal to x, else `True` |\n",
        "| `s + t`  |  the concatenation of s and t |\n",
        "| `s*n` or `n*s`  |  equivalent to adding s to itself n times |\n",
        "| `s[i]`  | ith item of s, origin 0  |\n",
        "|`s[i:j]`   | slice of s from i to j  |\n",
        "| `s[i:j:k]`  | slice of s from i to j with step k  |\n",
        "| `len(s)`  | length of s  |\n",
        "| `min(s)`  | smallest item of s  |\n",
        "| `max(s)`  | largest item of s  |\n",
        "| `s.index(x[, i[, j]])`  | index of the first occurrence of x in s (at or after index i and before index j)  |\n",
        "|`s.count(x)`   | total number of occurrences of x in s  |"
      ]
    },
    {
      "cell_type": "markdown",
      "id": "9b353bee",
      "metadata": {
        "id": "9b353bee"
      },
      "source": [
        "<sup>Source: [Common Sequence Operations](https://docs.python.org/3/library/stdtypes.html#common-sequence-operations) from Python.org<sup/>"
      ]
    },
    {
      "cell_type": "markdown",
      "id": "77c0a4b8",
      "metadata": {
        "id": "77c0a4b8"
      },
      "source": [
        "# **References and Additional Learning**"
      ]
    },
    {
      "cell_type": "markdown",
      "id": "30fb1668",
      "metadata": {
        "id": "30fb1668"
      },
      "source": [
        "## **Websites**\n",
        "\n",
        "- **[Common Sequence Operations](https://docs.python.org/3/library/stdtypes.html#common-sequence-operations) from Python.org**\n",
        "\n",
        "- **[Tuples](https://docs.python.org/3/library/stdtypes.html#tuple) from Python.org**"
      ]
    },
    {
      "cell_type": "markdown",
      "id": "771618e0",
      "metadata": {
        "id": "771618e0"
      },
      "source": [
        "# **Connect**\n",
        "- **Feel free to connect with Adrian on [YouTube](https://www.youtube.com/channel/UCPuDxI3xb_ryUUMfkm0jsRA), [LinkedIn](https://www.linkedin.com/in/adrian-dolinay-frm-96a289106/), [Twitter](https://twitter.com/DolinayG), [GitHub](https://github.com/ad17171717), [Medium](https://adriandolinay.medium.com/) and [Odysee](https://odysee.com/@adriandolinay:0). Happy coding!**"
      ]
    }
  ],
  "metadata": {
    "hide_input": false,
    "kernelspec": {
      "display_name": "Python 3 (ipykernel)",
      "language": "python",
      "name": "python3"
    },
    "language_info": {
      "codemirror_mode": {
        "name": "ipython",
        "version": 3
      },
      "file_extension": ".py",
      "mimetype": "text/x-python",
      "name": "python",
      "nbconvert_exporter": "python",
      "pygments_lexer": "ipython3",
      "version": "3.10.7"
    },
    "colab": {
      "provenance": [],
      "include_colab_link": true
    }
  },
  "nbformat": 4,
  "nbformat_minor": 5
}
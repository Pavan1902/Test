{
 "cells": [
  {
   "cell_type": "markdown",
   "metadata": {
    "id": "faMpLAf2klwF"
   },
   "source": [
    "# **Python Dictionary**\n",
    "\n",
    "**Within Python, the dictionary class is a collection of mutable objects (values) that are indexed by numbers, strings or certain sets (keys) which are immutable.**\n",
    "\n",
    "**The main use of dictionaries is to store values which can then be called by a given key.**"
   ]
  },
  {
   "cell_type": "markdown",
   "metadata": {
    "id": "K6NMNWqDklwI"
   },
   "source": [
    "<sup>Source: [Python Data Structures and Algorithms](https://www.amazon.com/Python-Data-Structures-Algorithms-application-ebook/dp/B01IF7NLM8) by Benjamin Baka<sup/>"
   ]
  },
  {
   "cell_type": "code",
   "execution_count": 1,
   "metadata": {
    "id": "wfv0L859klwL"
   },
   "outputs": [],
   "source": [
    "data_dict = {'Apple' : 21.20,\n",
    "             'Exxon' : 9.01,\n",
    "             'Nvidia' : 63.20,\n",
    "             'Caterpillar' : 18.09}"
   ]
  },
  {
   "cell_type": "markdown",
   "metadata": {},
   "source": [
    "## **Searching for Values by Key**"
   ]
  },
  {
   "cell_type": "markdown",
   "metadata": {},
   "source": [
    "### **Searching by Key**"
   ]
  },
  {
   "cell_type": "code",
   "execution_count": 2,
   "metadata": {},
   "outputs": [
    {
     "ename": "KeyError",
     "evalue": "'Microsoft'",
     "output_type": "error",
     "traceback": [
      "\u001b[1;31m---------------------------------------------------------------------------\u001b[0m",
      "\u001b[1;31mKeyError\u001b[0m                                  Traceback (most recent call last)",
      "Cell \u001b[1;32mIn [2], line 1\u001b[0m\n\u001b[1;32m----> 1\u001b[0m \u001b[43mdata_dict\u001b[49m\u001b[43m[\u001b[49m\u001b[38;5;124;43m'\u001b[39;49m\u001b[38;5;124;43mMicrosoft\u001b[39;49m\u001b[38;5;124;43m'\u001b[39;49m\u001b[43m]\u001b[49m\n",
      "\u001b[1;31mKeyError\u001b[0m: 'Microsoft'"
     ]
    }
   ],
   "source": [
    "data_dict['Microsoft']"
   ]
  },
  {
   "cell_type": "markdown",
   "metadata": {},
   "source": [
    "### **Searching by the `get` function**"
   ]
  },
  {
   "cell_type": "code",
   "execution_count": 3,
   "metadata": {},
   "outputs": [
    {
     "data": {
      "text/plain": [
       "'Company not found'"
      ]
     },
     "execution_count": 3,
     "metadata": {},
     "output_type": "execute_result"
    }
   ],
   "source": [
    "data_dict.get('Microsoft','Company not found')"
   ]
  },
  {
   "cell_type": "markdown",
   "metadata": {},
   "source": [
    "## **Searching for Keys by Value**"
   ]
  },
  {
   "cell_type": "markdown",
   "metadata": {},
   "source": [
    "### **Searching by the `index` function**"
   ]
  },
  {
   "cell_type": "code",
   "execution_count": 4,
   "metadata": {},
   "outputs": [
    {
     "data": {
      "text/plain": [
       "dict_keys"
      ]
     },
     "execution_count": 4,
     "metadata": {},
     "output_type": "execute_result"
    }
   ],
   "source": [
    "type(data_dict.keys())"
   ]
  },
  {
   "cell_type": "code",
   "execution_count": 5,
   "metadata": {},
   "outputs": [
    {
     "data": {
      "text/plain": [
       "'Exxon'"
      ]
     },
     "execution_count": 5,
     "metadata": {},
     "output_type": "execute_result"
    }
   ],
   "source": [
    "list(data_dict.keys())[list(data_dict.values()).index(9.01)]"
   ]
  },
  {
   "cell_type": "markdown",
   "metadata": {},
   "source": [
    "### **Searching with List Comprehension**"
   ]
  },
  {
   "cell_type": "code",
   "execution_count": 6,
   "metadata": {},
   "outputs": [
    {
     "data": {
      "text/plain": [
       "['Exxon']"
      ]
     },
     "execution_count": 6,
     "metadata": {},
     "output_type": "execute_result"
    }
   ],
   "source": [
    "[company for company,pe in data_dict.items() if pe == 9.01]"
   ]
  },
  {
   "cell_type": "markdown",
   "metadata": {
    "id": "mT9dfUl9klwP"
   },
   "source": [
    "# **References and Additional Learning**"
   ]
  },
  {
   "cell_type": "markdown",
   "metadata": {
    "id": "f9_iB5fhklwQ"
   },
   "source": [
    "## **Textbook**\n",
    "\n",
    "- **[Python Data Structures and Algorithms](https://www.amazon.com/Python-Data-Structures-Algorithms-application-ebook/dp/B01IF7NLM8) by Benjamin Baka**"
   ]
  },
  {
   "cell_type": "markdown",
   "metadata": {
    "id": "oOe1H4wUklwQ"
   },
   "source": [
    "## **Videos**\n",
    "\n",
    "- **[Python - Dictionaries!](https://www.youtube.com/watch?v=EKWkRfbFRts&t=603s) by Adrian Dolinay**"
   ]
  },
  {
   "cell_type": "markdown",
   "metadata": {
    "id": "Olc8fyPkklwR"
   },
   "source": [
    "# **Connect**\n",
    "**Feel free to connect with Adrian on [YouTube](https://www.youtube.com/channel/UCPuDxI3xb_ryUUMfkm0jsRA), [LinkedIn](https://www.linkedin.com/in/adrian-dolinay-frm-96a289106/), [Twitter](https://twitter.com/DolinayG), [GitHub](https://github.com/ad17171717) and [Odysee](https://odysee.com/@adriandolinay:0). Happy coding!**"
   ]
  }
 ],
 "metadata": {
  "colab": {
   "provenance": []
  },
  "hide_input": false,
  "kernelspec": {
   "display_name": "Python 3 (ipykernel)",
   "language": "python",
   "name": "python3"
  },
  "language_info": {
   "codemirror_mode": {
    "name": "ipython",
    "version": 3
   },
   "file_extension": ".py",
   "mimetype": "text/x-python",
   "name": "python",
   "nbconvert_exporter": "python",
   "pygments_lexer": "ipython3",
   "version": "3.10.7"
  }
 },
 "nbformat": 4,
 "nbformat_minor": 1
}

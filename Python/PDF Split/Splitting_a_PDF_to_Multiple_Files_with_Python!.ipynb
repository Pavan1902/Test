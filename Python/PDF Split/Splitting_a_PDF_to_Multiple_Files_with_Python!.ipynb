{
  "cells": [
    {
      "cell_type": "markdown",
      "metadata": {
        "id": "view-in-github",
        "colab_type": "text"
      },
      "source": [
        "<a href=\"https://colab.research.google.com/github/ad17171717/YouTube-Tutorials/blob/main/Python/PDF%20Split/Splitting_a_PDF_to_Multiple_Files_with_Python!.ipynb\" target=\"_parent\"><img src=\"https://colab.research.google.com/assets/colab-badge.svg\" alt=\"Open In Colab\"/></a>"
      ]
    },
    {
      "cell_type": "code",
      "execution_count": null,
      "id": "476cbca3",
      "metadata": {
        "id": "476cbca3"
      },
      "outputs": [],
      "source": [
        "from PyPDF2 import PdfReader, PdfWriter\n",
        "import os"
      ]
    },
    {
      "cell_type": "markdown",
      "id": "14ebdb90",
      "metadata": {
        "id": "14ebdb90"
      },
      "source": [
        "**PyPDF2 is a free and open-source pure-python PDF library capable of splitting, merging, cropping, and transforming the pages of PDF files. It can also add custom data, viewing options, and passwords to PDF files. PyPDF2 can retrieve text and metadata from PDFs as well.**"
      ]
    },
    {
      "cell_type": "markdown",
      "id": "d44f9c26",
      "metadata": {
        "id": "d44f9c26"
      },
      "source": [
        "<sup>Source: [PyPDF2](https://github.com/py-pdf/PyPDF2) from GitHub.com<sup/>"
      ]
    },
    {
      "cell_type": "code",
      "execution_count": null,
      "id": "40b53529",
      "metadata": {
        "id": "40b53529",
        "outputId": "6cb6fa26-6749-49d4-d697-10c5d285fa91"
      },
      "outputs": [
        {
          "name": "stdout",
          "output_type": "stream",
          "text": [
            "['math_sheets.pdf', 'math_sheet_number_1.pdf', 'math_sheet_number_2.pdf', 'math_sheet_number_3.pdf', 'math_sheet_number_4.pdf', 'math_sheet_number_5.pdf', 'math_sheet_number_6.pdf']\n"
          ]
        }
      ],
      "source": [
        "pdf_list = [file for file in os.listdir() if '.pdf' in file]\n",
        "\n",
        "print(pdf_list)"
      ]
    },
    {
      "cell_type": "code",
      "execution_count": null,
      "id": "70fc8866",
      "metadata": {
        "id": "70fc8866",
        "outputId": "d1b15e7e-43bb-4635-bc19-2eb06d04c30b"
      },
      "outputs": [
        {
          "name": "stdout",
          "output_type": "stream",
          "text": [
            "math_sheets.pdf\n"
          ]
        }
      ],
      "source": [
        "file_name = pdf_list[0]\n",
        "print(file_name)"
      ]
    },
    {
      "cell_type": "code",
      "execution_count": null,
      "id": "7fe89315",
      "metadata": {
        "id": "7fe89315"
      },
      "outputs": [],
      "source": [
        "reader = PdfReader(file_name)\n",
        "pages = (0,len(reader.pages))\n",
        "\n",
        "for page_num, page in enumerate(reader.pages, 1):\n",
        "    writer = PdfWriter()\n",
        "    writer.add_page(page)\n",
        "    single_page = open(f'math_sheet_number_{page_num}.pdf', 'wb')\n",
        "    writer.write(single_page)\n",
        "    single_page.close()\n",
        "    writer.close()"
      ]
    },
    {
      "cell_type": "markdown",
      "id": "d9b4c14a",
      "metadata": {
        "id": "d9b4c14a"
      },
      "source": [
        "# **References and Additional Learning**"
      ]
    },
    {
      "cell_type": "markdown",
      "id": "f5309edf",
      "metadata": {
        "id": "f5309edf"
      },
      "source": [
        "## **Module Documentation**\n",
        "\n",
        "- **[PyPDF2](https://github.com/py-pdf/PyPDF2) from GitHub.com**"
      ]
    },
    {
      "cell_type": "markdown",
      "id": "13cacb05",
      "metadata": {
        "id": "13cacb05"
      },
      "source": [
        "## **Website**\n",
        "\n",
        "- **[Math Grade 2 Worksheets](https://www.k5learning.com/free-math-worksheets/second-grade-2) from K5 Learning**"
      ]
    },
    {
      "cell_type": "markdown",
      "id": "4b7680ac",
      "metadata": {
        "id": "4b7680ac"
      },
      "source": [
        "## **Video**\n",
        "\n",
        "- **[Merging PDFs with Python!](https://www.youtube.com/watch?v=CMEHOjQksUs) by Adrian Dolinay**"
      ]
    },
    {
      "cell_type": "markdown",
      "id": "9c6dd61a",
      "metadata": {
        "id": "9c6dd61a"
      },
      "source": [
        "# **Connect**\n",
        "- **Feel free to connect with Adrian on [YouTube](https://www.youtube.com/channel/UCPuDxI3xb_ryUUMfkm0jsRA), [LinkedIn](https://www.linkedin.com/in/adrian-dolinay-frm-96a289106/), [Twitter](https://twitter.com/DolinayG), [GitHub](https://github.com/ad17171717), [Medium](https://adriandolinay.medium.com/) and [Odysee](https://odysee.com/@adriandolinay:0). Happy coding!**"
      ]
    }
  ],
  "metadata": {
    "colab": {
      "provenance": [],
      "include_colab_link": true
    },
    "hide_input": false,
    "kernelspec": {
      "display_name": "work2",
      "language": "python",
      "name": "work2"
    },
    "language_info": {
      "codemirror_mode": {
        "name": "ipython",
        "version": 3
      },
      "file_extension": ".py",
      "mimetype": "text/x-python",
      "name": "python",
      "nbconvert_exporter": "python",
      "pygments_lexer": "ipython3",
      "version": "3.10.10"
    }
  },
  "nbformat": 4,
  "nbformat_minor": 5
}
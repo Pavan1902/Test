{
  "cells": [
    {
      "cell_type": "markdown",
      "metadata": {
        "id": "view-in-github",
        "colab_type": "text"
      },
      "source": [
        "<a href=\"https://colab.research.google.com/github/ad17171717/YouTube-Tutorials/blob/main/Python/Writing_pandas_DataFrames_to_Multiple_Tabs_in_a_Spreadsheet/Python!_Writing_pandas_DataFrames_to_Multiple_Tabs_in_a_Spreadsheet!.ipynb\" target=\"_parent\"><img src=\"https://colab.research.google.com/assets/colab-badge.svg\" alt=\"Open In Colab\"/></a>"
      ]
    },
    {
      "cell_type": "code",
      "execution_count": null,
      "id": "65363409",
      "metadata": {
        "id": "65363409"
      },
      "outputs": [],
      "source": [
        "!pip install xlsxwriter"
      ]
    },
    {
      "cell_type": "markdown",
      "id": "89f5cef3",
      "metadata": {
        "id": "89f5cef3"
      },
      "source": [
        "# **Excel Writer Engines**\n",
        "\n",
        "- **[XlsxWriter](https://xlsxwriter.readthedocs.io/)**\n",
        "\n",
        "- **[openpyxl](https://openpyxl.readthedocs.io/en/stable/)**"
      ]
    },
    {
      "cell_type": "code",
      "execution_count": null,
      "id": "4732ad87",
      "metadata": {
        "id": "4732ad87"
      },
      "outputs": [],
      "source": [
        "import os\n",
        "import pandas as pd"
      ]
    },
    {
      "cell_type": "code",
      "execution_count": null,
      "id": "800d4f9e",
      "metadata": {
        "id": "800d4f9e",
        "outputId": "f1b10e9c-ee3c-49ff-fbad-e1955655e0e0"
      },
      "outputs": [
        {
          "name": "stdout",
          "output_type": "stream",
          "text": [
            "['AAPL.csv', 'AMZN.csv', 'GOOG.csv', 'TSLA.csv']\n"
          ]
        }
      ],
      "source": [
        "spreadsheets = [file for file in os.listdir() if '.csv' in file]\n",
        "print(spreadsheets)"
      ]
    },
    {
      "cell_type": "code",
      "execution_count": null,
      "id": "b3bb2247",
      "metadata": {
        "id": "b3bb2247",
        "outputId": "98e764d4-fde8-4da0-e38e-3243dca52d2a"
      },
      "outputs": [
        {
          "data": {
            "text/html": [
              "<div>\n",
              "<style scoped>\n",
              "    .dataframe tbody tr th:only-of-type {\n",
              "        vertical-align: middle;\n",
              "    }\n",
              "\n",
              "    .dataframe tbody tr th {\n",
              "        vertical-align: top;\n",
              "    }\n",
              "\n",
              "    .dataframe thead th {\n",
              "        text-align: right;\n",
              "    }\n",
              "</style>\n",
              "<table border=\"1\" class=\"dataframe\">\n",
              "  <thead>\n",
              "    <tr style=\"text-align: right;\">\n",
              "      <th></th>\n",
              "      <th>Date</th>\n",
              "      <th>Open</th>\n",
              "      <th>High</th>\n",
              "      <th>Low</th>\n",
              "      <th>Close</th>\n",
              "      <th>Adj Close</th>\n",
              "      <th>Volume</th>\n",
              "    </tr>\n",
              "  </thead>\n",
              "  <tbody>\n",
              "    <tr>\n",
              "      <th>0</th>\n",
              "      <td>2022-02-10</td>\n",
              "      <td>174.139999</td>\n",
              "      <td>175.479996</td>\n",
              "      <td>171.550003</td>\n",
              "      <td>172.119995</td>\n",
              "      <td>171.344833</td>\n",
              "      <td>90865900</td>\n",
              "    </tr>\n",
              "    <tr>\n",
              "      <th>1</th>\n",
              "      <td>2022-02-11</td>\n",
              "      <td>172.330002</td>\n",
              "      <td>173.080002</td>\n",
              "      <td>168.039993</td>\n",
              "      <td>168.639999</td>\n",
              "      <td>167.880508</td>\n",
              "      <td>98670700</td>\n",
              "    </tr>\n",
              "    <tr>\n",
              "      <th>2</th>\n",
              "      <td>2022-02-14</td>\n",
              "      <td>167.369995</td>\n",
              "      <td>169.580002</td>\n",
              "      <td>166.559998</td>\n",
              "      <td>168.880005</td>\n",
              "      <td>168.119446</td>\n",
              "      <td>86185500</td>\n",
              "    </tr>\n",
              "    <tr>\n",
              "      <th>3</th>\n",
              "      <td>2022-02-15</td>\n",
              "      <td>170.970001</td>\n",
              "      <td>172.949997</td>\n",
              "      <td>170.250000</td>\n",
              "      <td>172.789993</td>\n",
              "      <td>172.011810</td>\n",
              "      <td>62527400</td>\n",
              "    </tr>\n",
              "    <tr>\n",
              "      <th>4</th>\n",
              "      <td>2022-02-16</td>\n",
              "      <td>171.850006</td>\n",
              "      <td>173.339996</td>\n",
              "      <td>170.050003</td>\n",
              "      <td>172.550003</td>\n",
              "      <td>171.772903</td>\n",
              "      <td>61177400</td>\n",
              "    </tr>\n",
              "    <tr>\n",
              "      <th>...</th>\n",
              "      <td>...</td>\n",
              "      <td>...</td>\n",
              "      <td>...</td>\n",
              "      <td>...</td>\n",
              "      <td>...</td>\n",
              "      <td>...</td>\n",
              "      <td>...</td>\n",
              "    </tr>\n",
              "    <tr>\n",
              "      <th>246</th>\n",
              "      <td>2023-02-03</td>\n",
              "      <td>148.029999</td>\n",
              "      <td>157.380005</td>\n",
              "      <td>147.830002</td>\n",
              "      <td>154.500000</td>\n",
              "      <td>154.500000</td>\n",
              "      <td>154279900</td>\n",
              "    </tr>\n",
              "    <tr>\n",
              "      <th>247</th>\n",
              "      <td>2023-02-06</td>\n",
              "      <td>152.570007</td>\n",
              "      <td>153.100006</td>\n",
              "      <td>150.779999</td>\n",
              "      <td>151.729996</td>\n",
              "      <td>151.729996</td>\n",
              "      <td>69858300</td>\n",
              "    </tr>\n",
              "    <tr>\n",
              "      <th>248</th>\n",
              "      <td>2023-02-07</td>\n",
              "      <td>150.639999</td>\n",
              "      <td>155.229996</td>\n",
              "      <td>150.639999</td>\n",
              "      <td>154.649994</td>\n",
              "      <td>154.649994</td>\n",
              "      <td>83322600</td>\n",
              "    </tr>\n",
              "    <tr>\n",
              "      <th>249</th>\n",
              "      <td>2023-02-08</td>\n",
              "      <td>153.880005</td>\n",
              "      <td>154.580002</td>\n",
              "      <td>151.169998</td>\n",
              "      <td>151.919998</td>\n",
              "      <td>151.919998</td>\n",
              "      <td>64120100</td>\n",
              "    </tr>\n",
              "    <tr>\n",
              "      <th>250</th>\n",
              "      <td>2023-02-09</td>\n",
              "      <td>153.779999</td>\n",
              "      <td>154.330002</td>\n",
              "      <td>150.419998</td>\n",
              "      <td>150.869995</td>\n",
              "      <td>150.869995</td>\n",
              "      <td>55921800</td>\n",
              "    </tr>\n",
              "  </tbody>\n",
              "</table>\n",
              "<p>251 rows × 7 columns</p>\n",
              "</div>"
            ],
            "text/plain": [
              "           Date        Open        High         Low       Close   Adj Close  \\\n",
              "0    2022-02-10  174.139999  175.479996  171.550003  172.119995  171.344833   \n",
              "1    2022-02-11  172.330002  173.080002  168.039993  168.639999  167.880508   \n",
              "2    2022-02-14  167.369995  169.580002  166.559998  168.880005  168.119446   \n",
              "3    2022-02-15  170.970001  172.949997  170.250000  172.789993  172.011810   \n",
              "4    2022-02-16  171.850006  173.339996  170.050003  172.550003  171.772903   \n",
              "..          ...         ...         ...         ...         ...         ...   \n",
              "246  2023-02-03  148.029999  157.380005  147.830002  154.500000  154.500000   \n",
              "247  2023-02-06  152.570007  153.100006  150.779999  151.729996  151.729996   \n",
              "248  2023-02-07  150.639999  155.229996  150.639999  154.649994  154.649994   \n",
              "249  2023-02-08  153.880005  154.580002  151.169998  151.919998  151.919998   \n",
              "250  2023-02-09  153.779999  154.330002  150.419998  150.869995  150.869995   \n",
              "\n",
              "        Volume  \n",
              "0     90865900  \n",
              "1     98670700  \n",
              "2     86185500  \n",
              "3     62527400  \n",
              "4     61177400  \n",
              "..         ...  \n",
              "246  154279900  \n",
              "247   69858300  \n",
              "248   83322600  \n",
              "249   64120100  \n",
              "250   55921800  \n",
              "\n",
              "[251 rows x 7 columns]"
            ]
          },
          "execution_count": 12,
          "metadata": {},
          "output_type": "execute_result"
        }
      ],
      "source": [
        "df_list = [pd.read_csv(file) for file in spreadsheets]\n",
        "df_list[0]"
      ]
    },
    {
      "cell_type": "code",
      "execution_count": null,
      "id": "bfcd4a0c",
      "metadata": {
        "id": "bfcd4a0c",
        "outputId": "193bf9db-8adb-4c86-b3f2-d62d9db10f62"
      },
      "outputs": [
        {
          "name": "stdout",
          "output_type": "stream",
          "text": [
            "['AAPL', 'AMZN', 'GOOG', 'TSLA']\n"
          ]
        }
      ],
      "source": [
        "sheet_names = [sheet.replace('.csv','') for sheet in spreadsheets]\n",
        "print(sheet_names)"
      ]
    },
    {
      "cell_type": "markdown",
      "id": "59d53005",
      "metadata": {
        "id": "59d53005"
      },
      "source": [
        "# **Writing DataFrames to Multiple Tabs**"
      ]
    },
    {
      "cell_type": "code",
      "execution_count": null,
      "id": "8ea6244a",
      "metadata": {
        "id": "8ea6244a"
      },
      "outputs": [],
      "source": [
        "with pd.ExcelWriter('stock_data.xlsx', engine='xlsxwriter') as writer:\n",
        "    for df,sheet in zip(df_list,sheet_names):\n",
        "        df.to_excel(writer, sheet_name=sheet)"
      ]
    },
    {
      "cell_type": "markdown",
      "id": "766fb815",
      "metadata": {
        "id": "766fb815"
      },
      "source": [
        "# **References and Additional Learning**"
      ]
    },
    {
      "cell_type": "markdown",
      "id": "6ce8c2c7",
      "metadata": {
        "id": "6ce8c2c7"
      },
      "source": [
        "## **Website**\n",
        "\n",
        "- **[pandas.ExcelWriter](https://pandas.pydata.org/docs/dev/reference/api/pandas.ExcelWriter.html) from pandas.pydata.org**"
      ]
    },
    {
      "cell_type": "markdown",
      "id": "a3d33218",
      "metadata": {
        "id": "a3d33218"
      },
      "source": [
        "# **Connect**\n",
        "- **Feel free to connect with Adrian on [YouTube](https://www.youtube.com/channel/UCPuDxI3xb_ryUUMfkm0jsRA), [LinkedIn](https://www.linkedin.com/in/adrian-dolinay-frm-96a289106/), [Twitter](https://twitter.com/DolinayG), [GitHub](https://github.com/ad17171717) and [Odysee](https://odysee.com/@adriandolinay:0). Happy coding!**"
      ]
    }
  ],
  "metadata": {
    "hide_input": false,
    "kernelspec": {
      "display_name": "Python 3 (ipykernel)",
      "language": "python",
      "name": "python3"
    },
    "language_info": {
      "codemirror_mode": {
        "name": "ipython",
        "version": 3
      },
      "file_extension": ".py",
      "mimetype": "text/x-python",
      "name": "python",
      "nbconvert_exporter": "python",
      "pygments_lexer": "ipython3",
      "version": "3.10.7"
    },
    "colab": {
      "provenance": [],
      "include_colab_link": true
    }
  },
  "nbformat": 4,
  "nbformat_minor": 5
}
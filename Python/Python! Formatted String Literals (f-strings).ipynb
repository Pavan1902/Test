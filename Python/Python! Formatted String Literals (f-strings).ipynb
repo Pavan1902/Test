{
 "cells": [
  {
   "cell_type": "code",
   "execution_count": 1,
   "id": "6283753b",
   "metadata": {},
   "outputs": [],
   "source": [
    "import numpy as np"
   ]
  },
  {
   "cell_type": "markdown",
   "id": "37567b7b",
   "metadata": {},
   "source": [
    "# **Formatted string literals (f-strings)**\n",
    "\n",
    "**Formatted string literals (f-strings) allow values of Python expressions inside a string by prefixing the string with f or F and writing expressions as {expression}.**\n",
    "\n",
    "**An optional format specifier can follow the expression.**"
   ]
  },
  {
   "cell_type": "markdown",
   "id": "37bab3cb",
   "metadata": {},
   "source": [
    "<sup>Source: [Formatted String Literals](https://docs.python.org/3/tutorial/inputoutput.html#tut-f-strings) from Python.org<sup/>"
   ]
  },
  {
   "cell_type": "markdown",
   "id": "6e029f8d",
   "metadata": {},
   "source": [
    "# **`str.format` vs f-strings**"
   ]
  },
  {
   "cell_type": "markdown",
   "id": "f919ea2e",
   "metadata": {},
   "source": [
    "## **`str.format`**"
   ]
  },
  {
   "cell_type": "code",
   "execution_count": 2,
   "id": "1c49d9d7",
   "metadata": {},
   "outputs": [],
   "source": [
    "prof_info = {'name':'Muhammad Waseem',\n",
    "                  'degree':'PhD in Astrophysics',\n",
    "                  'university':'University of Cambridge',\n",
    "                  'tenure_in_years':9}"
   ]
  },
  {
   "cell_type": "code",
   "execution_count": 3,
   "id": "76ed90d5",
   "metadata": {},
   "outputs": [
    {
     "name": "stdout",
     "output_type": "stream",
     "text": [
      "Professor Muhammad Waseem received a PhD in Astrophysics.\n"
     ]
    }
   ],
   "source": [
    "print('Professor {} received a {}.'.format(prof_info['name'],prof_info['degree']))"
   ]
  },
  {
   "cell_type": "markdown",
   "id": "ed4a3990",
   "metadata": {},
   "source": [
    "## **f-strings**"
   ]
  },
  {
   "cell_type": "code",
   "execution_count": 4,
   "id": "402998eb",
   "metadata": {},
   "outputs": [
    {
     "name": "stdout",
     "output_type": "stream",
     "text": [
      "Professor Muhammad Waseem received a PhD in Astrophysics.\n"
     ]
    }
   ],
   "source": [
    "print(f'Professor {prof_info[\"name\"]} received a {prof_info[\"degree\"]}.')"
   ]
  },
  {
   "cell_type": "markdown",
   "id": "de0f8678",
   "metadata": {},
   "source": [
    "# **Operations within f-strings**"
   ]
  },
  {
   "cell_type": "code",
   "execution_count": 5,
   "id": "d19bd422",
   "metadata": {},
   "outputs": [
    {
     "name": "stdout",
     "output_type": "stream",
     "text": [
      "In 2023, Professor Muhammad Waseem will celebrate his 10 anniversary.\n"
     ]
    }
   ],
   "source": [
    "print(f'In 2023, Professor {prof_info[\"name\"]} will celebrate his {prof_info[\"tenure_in_years\"]+1} anniversary.')"
   ]
  },
  {
   "cell_type": "markdown",
   "id": "f8e74236",
   "metadata": {},
   "source": [
    "# **f-strings within a for-loop**"
   ]
  },
  {
   "cell_type": "code",
   "execution_count": 6,
   "id": "4ee577f6",
   "metadata": {},
   "outputs": [],
   "source": [
    "professors = {'names':['Arthur Adelston','Emilia Garcia','Jeong Kwan','Ram Kumar','Phan Nguyen','Sanjay Patel',\n",
    "                       'Leticia Sanchez','Borys Shevnyk','Muhammad Waseem','Li Xing'],\n",
    "              'degrees':['PhD in Economics','PhD in Chemical Engineering','PhD in Optical Physics',\n",
    "                         'PhD in Chemical Engineering','PhD in Polymer Engineering','PhD in Biomedical Engineering',\n",
    "                         'PhD in Computer Engineering','PhD in Mathematics','PhD in Astrophysics',\n",
    "                         'PhD in Electromagnetic & Microwave Technology'],\n",
    "              'universities':['University of Chicago','Complutense University of Madrid','Seoul National University',\n",
    "                              'Indira Gandhi National Open University','Vietnam National University, Ho Chi Minh City',\n",
    "                              'University of Mumbai','University of Texas at Austin','Sorbonne Université',\n",
    "                              'University of Cambridge','Shanghai University',],\n",
    "              'tenure_in_years':[6,13.5,10,2,7,0.75,12,4,9,4.5]}"
   ]
  },
  {
   "cell_type": "code",
   "execution_count": 7,
   "id": "3a2d4a05",
   "metadata": {},
   "outputs": [
    {
     "name": "stdout",
     "output_type": "stream",
     "text": [
      "Professor Arthur Adelston received a degree in PhD in Economics. They have taught at the University of Chicago for 6 years.\n",
      "\n",
      "Professor Emilia Garcia received a degree in PhD in Chemical Engineering. They have taught at the Complutense University of Madrid for 13.5 years.\n",
      "\n",
      "Professor Jeong Kwan received a degree in PhD in Optical Physics. They have taught at the Seoul National University for 10 years.\n",
      "\n",
      "Professor Ram Kumar received a degree in PhD in Chemical Engineering. They have taught at the Indira Gandhi National Open University for 2 years.\n",
      "\n",
      "Professor Phan Nguyen received a degree in PhD in Polymer Engineering. They have taught at the Vietnam National University, Ho Chi Minh City for 7 years.\n",
      "\n",
      "Professor Sanjay Patel received a degree in PhD in Biomedical Engineering. They have taught at the University of Mumbai for 0.75 years.\n",
      "\n",
      "Professor Leticia Sanchez received a degree in PhD in Computer Engineering. They have taught at the University of Texas at Austin for 12 years.\n",
      "\n",
      "Professor Borys Shevnyk received a degree in PhD in Mathematics. They have taught at the Sorbonne Université for 4 years.\n",
      "\n",
      "Professor Muhammad Waseem received a degree in PhD in Astrophysics. They have taught at the University of Cambridge for 9 years.\n",
      "\n",
      "Professor Li Xing received a degree in PhD in Electromagnetic & Microwave Technology. They have taught at the Shanghai University for 4.5 years.\n",
      "\n"
     ]
    }
   ],
   "source": [
    "for name,degree,university,tenure in zip(professors['names'],professors['degrees'],\n",
    "                                         professors['universities'],professors['tenure_in_years']):\n",
    "    print(f'Professor {name} received a degree in {degree}. They have taught at the {university} for {tenure} years.\\n')"
   ]
  },
  {
   "cell_type": "markdown",
   "id": "2fb706cc",
   "metadata": {},
   "source": [
    "# **Format Specifiers**"
   ]
  },
  {
   "cell_type": "code",
   "execution_count": 8,
   "id": "f1c6d4f1",
   "metadata": {},
   "outputs": [
    {
     "name": "stdout",
     "output_type": "stream",
     "text": [
      "The average tenure for the professors is 7 years\n"
     ]
    }
   ],
   "source": [
    "print(f'The average tenure for the professors is {np.average(professors[\"tenure_in_years\"]):.0f} years')"
   ]
  },
  {
   "cell_type": "code",
   "execution_count": 9,
   "id": "2923b2b9",
   "metadata": {},
   "outputs": [
    {
     "name": "stdout",
     "output_type": "stream",
     "text": [
      "20% of the professors studied Chemical Engineering\n"
     ]
    }
   ],
   "source": [
    "chem_prop = professors['degrees'].count( 'PhD in Chemical Engineering')/len(professors['degrees'])\n",
    "\n",
    "print(f'{chem_prop:.0%} of the professors studied Chemical Engineering')"
   ]
  },
  {
   "cell_type": "markdown",
   "id": "0d4013c7",
   "metadata": {},
   "source": [
    "# **Creating Variables with f-strings**"
   ]
  },
  {
   "cell_type": "code",
   "execution_count": 10,
   "id": "af54adde",
   "metadata": {},
   "outputs": [
    {
     "data": {
      "text/plain": [
       "{'names': ['Arthur Adelston',\n",
       "  'Emilia Garcia',\n",
       "  'Jeong Kwan',\n",
       "  'Ram Kumar',\n",
       "  'Phan Nguyen',\n",
       "  'Sanjay Patel',\n",
       "  'Leticia Sanchez',\n",
       "  'Borys Shevnyk',\n",
       "  'Muhammad Waseem',\n",
       "  'Li Xing'],\n",
       " 'degrees': ['PhD in Economics',\n",
       "  'PhD in Chemical Engineering',\n",
       "  'PhD in Optical Physics',\n",
       "  'PhD in Chemical Engineering',\n",
       "  'PhD in Polymer Engineering',\n",
       "  'PhD in Biomedical Engineering',\n",
       "  'PhD in Computer Engineering',\n",
       "  'PhD in Mathematics',\n",
       "  'PhD in Astrophysics',\n",
       "  'PhD in Electromagnetic & Microwave Technology'],\n",
       " 'universities': ['University of Chicago',\n",
       "  'Complutense University of Madrid',\n",
       "  'Seoul National University',\n",
       "  'Indira Gandhi National Open University',\n",
       "  'Vietnam National University, Ho Chi Minh City',\n",
       "  'University of Mumbai',\n",
       "  'University of Texas at Austin',\n",
       "  'Sorbonne Université',\n",
       "  'University of Cambridge',\n",
       "  'Shanghai University'],\n",
       " 'tenure_in_years': [6, 13.5, 10, 2, 7, 0.75, 12, 4, 9, 4.5],\n",
       " 'Professor ID': ['Professor ID 0',\n",
       "  'Professor ID 1',\n",
       "  'Professor ID 2',\n",
       "  'Professor ID 3',\n",
       "  'Professor ID 4',\n",
       "  'Professor ID 5',\n",
       "  'Professor ID 6',\n",
       "  'Professor ID 7',\n",
       "  'Professor ID 8',\n",
       "  'Professor ID 9']}"
      ]
     },
     "execution_count": 10,
     "metadata": {},
     "output_type": "execute_result"
    }
   ],
   "source": [
    "prof_id = []\n",
    "\n",
    "for idx in range(len(professors['names'])):\n",
    "    prof_id.append(f'Professor ID {idx}')\n",
    "    \n",
    "professors['Professor ID'] = prof_id\n",
    "professors"
   ]
  },
  {
   "cell_type": "markdown",
   "id": "b5f5737d",
   "metadata": {},
   "source": [
    "# **References and Additional Learning**"
   ]
  },
  {
   "cell_type": "markdown",
   "id": "4af34764",
   "metadata": {},
   "source": [
    "## **Websites**\n",
    "\n",
    "- **[Formatted String Literals](https://docs.python.org/3/tutorial/inputoutput.html#tut-f-strings) from Python.org**\n",
    "\n",
    "- **[Python Enhancement Proposals: PEP 498 – Literal String Interpolation](https://peps.python.org/pep-0498/) Joanna Jablonski from Python.org**\n",
    "\n",
    "- **[Python 3's f-Strings: An Improved String Formatting Syntax (Guide)](https://realpython.com/python-f-strings/) from Real Python**"
   ]
  },
  {
   "cell_type": "markdown",
   "id": "427a4126",
   "metadata": {},
   "source": [
    "# **Connect**\n",
    "- **Feel free to connect with Adrian on [YouTube](https://www.youtube.com/channel/UCPuDxI3xb_ryUUMfkm0jsRA), [LinkedIn](https://www.linkedin.com/in/adrian-dolinay-frm-96a289106/), [Twitter](https://twitter.com/DolinayG), [GitHub](https://github.com/ad17171717) and [Odysee](https://odysee.com/@adriandolinay:0). Happy coding!**"
   ]
  }
 ],
 "metadata": {
  "hide_input": false,
  "kernelspec": {
   "display_name": "Python 3 (ipykernel)",
   "language": "python",
   "name": "python3"
  },
  "language_info": {
   "codemirror_mode": {
    "name": "ipython",
    "version": 3
   },
   "file_extension": ".py",
   "mimetype": "text/x-python",
   "name": "python",
   "nbconvert_exporter": "python",
   "pygments_lexer": "ipython3",
   "version": "3.10.7"
  }
 },
 "nbformat": 4,
 "nbformat_minor": 5
}

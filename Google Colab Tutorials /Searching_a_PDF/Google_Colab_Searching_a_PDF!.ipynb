{
  "nbformat": 4,
  "nbformat_minor": 0,
  "metadata": {
    "colab": {
      "provenance": [],
      "authorship_tag": "ABX9TyPZuimIO/zZJLAbC74rbPr7",
      "include_colab_link": true
    },
    "kernelspec": {
      "name": "python3",
      "display_name": "Python 3"
    },
    "language_info": {
      "name": "python"
    }
  },
  "cells": [
    {
      "cell_type": "markdown",
      "metadata": {
        "id": "view-in-github",
        "colab_type": "text"
      },
      "source": [
        "<a href=\"https://colab.research.google.com/github/ad17171717/YouTube-Tutorials/blob/main/Google%20Colab%20Tutorials%20/Searching_a_PDF/Google_Colab_Searching_a_PDF!.ipynb\" target=\"_parent\"><img src=\"https://colab.research.google.com/assets/colab-badge.svg\" alt=\"Open In Colab\"/></a>"
      ]
    },
    {
      "cell_type": "markdown",
      "source": [
        "# **pdfgrep**\n",
        "\n",
        "**pdfgrep is a commandline utility to search text in PDF files.**\n",
        "\n",
        "## **Features**\n",
        "\n",
        "- **Grep compatible: pdfgrep tries to be compatible with GNU grep,\n",
        "where it makes sense. Many of your favorite grep options are\n",
        "supported (such as `-r`, `-i`, `-n` or `-c`).**\n",
        "\n",
        "- **Search many PDFs at once, even recursively in directories**\n",
        "\n",
        "- **Regular expressions: Posix or PCRE**\n",
        "\n",
        "- **Support for password protected PDFs**"
      ],
      "metadata": {
        "id": "pEnC2uypaaKM"
      }
    },
    {
      "cell_type": "markdown",
      "source": [
        "<sup>Source: [pdfgrep](https://gitlab.com/pdfgrep/pdfgrep) from GitLab</sup>"
      ],
      "metadata": {
        "id": "pe18QFu0dlMr"
      }
    },
    {
      "cell_type": "code",
      "source": [
        "!sudo apt-get update"
      ],
      "metadata": {
        "colab": {
          "base_uri": "https://localhost:8080/"
        },
        "id": "y-kW8wrLaZnM",
        "outputId": "d3e26873-01b2-4550-c2d6-43ada2fa219f"
      },
      "execution_count": 1,
      "outputs": [
        {
          "output_type": "stream",
          "name": "stdout",
          "text": [
            "\r0% [Working]\r            \rHit:1 https://cloud.r-project.org/bin/linux/ubuntu focal-cran40/ InRelease\n",
            "Hit:2 https://developer.download.nvidia.com/compute/cuda/repos/ubuntu2004/x86_64  InRelease\n",
            "Get:3 http://security.ubuntu.com/ubuntu focal-security InRelease [114 kB]\n",
            "Hit:4 http://ppa.launchpad.net/c2d4u.team/c2d4u4.0+/ubuntu focal InRelease\n",
            "Hit:5 http://archive.ubuntu.com/ubuntu focal InRelease\n",
            "Hit:6 http://ppa.launchpad.net/cran/libgit2/ubuntu focal InRelease\n",
            "Get:7 http://archive.ubuntu.com/ubuntu focal-updates InRelease [114 kB]\n",
            "Hit:8 http://ppa.launchpad.net/deadsnakes/ppa/ubuntu focal InRelease\n",
            "Hit:9 http://ppa.launchpad.net/graphics-drivers/ppa/ubuntu focal InRelease\n",
            "Get:10 http://archive.ubuntu.com/ubuntu focal-backports InRelease [108 kB]\n",
            "Hit:11 http://ppa.launchpad.net/ubuntugis/ppa/ubuntu focal InRelease\n",
            "Fetched 336 kB in 2s (203 kB/s)\n",
            "Reading package lists... Done\n"
          ]
        }
      ]
    },
    {
      "cell_type": "code",
      "source": [
        "!sudo apt install pdfgrep"
      ],
      "metadata": {
        "colab": {
          "base_uri": "https://localhost:8080/"
        },
        "id": "pANApLsgaTmc",
        "outputId": "b789c1e9-dba2-461b-aaf3-a2c15af82029"
      },
      "execution_count": 2,
      "outputs": [
        {
          "output_type": "stream",
          "name": "stdout",
          "text": [
            "Reading package lists... Done\n",
            "Building dependency tree       \n",
            "Reading state information... Done\n",
            "pdfgrep is already the newest version (2.1.2-1build1).\n",
            "0 upgraded, 0 newly installed, 0 to remove and 49 not upgraded.\n"
          ]
        }
      ]
    },
    {
      "cell_type": "code",
      "source": [
        "!pdfgrep --version"
      ],
      "metadata": {
        "colab": {
          "base_uri": "https://localhost:8080/"
        },
        "id": "qRE8JN7faF4P",
        "outputId": "17f5df01-8982-4031-ed9c-7b4ee0b2f15e"
      },
      "execution_count": 3,
      "outputs": [
        {
          "output_type": "stream",
          "name": "stdout",
          "text": [
            "This is pdfgrep version 2.1.2.\n",
            "\n",
            "Using poppler version 0.86.1\n",
            "Using libpcre version 8.39 2016-06-14\n"
          ]
        }
      ]
    },
    {
      "cell_type": "markdown",
      "source": [
        "## **Searching for a Term/Phrase**"
      ],
      "metadata": {
        "id": "JqV60G0qb3Vs"
      }
    },
    {
      "cell_type": "code",
      "source": [
        "!pdfgrep \"conditional probability distribution\" \"/content/Course Notes for Bayesian Models for Machine Learning.pdf\""
      ],
      "metadata": {
        "colab": {
          "base_uri": "https://localhost:8080/"
        },
        "id": "EiXx5Sdpi6By",
        "outputId": "17d4132f-c60b-4f90-a119-d2e3f8b5df32"
      },
      "execution_count": 5,
      "outputs": [
        {
          "output_type": "stream",
          "name": "stdout",
          "text": [
            "                            P (A|B) : \u001b[01;31m\u001b[Kconditional probability distribution\u001b[m\u001b[K\n"
          ]
        }
      ]
    },
    {
      "cell_type": "markdown",
      "source": [
        "## **Search for Pages Containing the Term/Phrase**"
      ],
      "metadata": {
        "id": "lZUo-orQfCp0"
      }
    },
    {
      "cell_type": "code",
      "source": [
        "!pdfgrep -p \"conditional probability distribution\" \"/content/Course Notes for Bayesian Models for Machine Learning.pdf\""
      ],
      "metadata": {
        "colab": {
          "base_uri": "https://localhost:8080/"
        },
        "id": "d3uT0TCvbsAU",
        "outputId": "79e165ea-1151-4707-cb04-6d9e39a46b7c"
      },
      "execution_count": 6,
      "outputs": [
        {
          "output_type": "stream",
          "name": "stdout",
          "text": [
            "\u001b[32m\u001b[K4\u001b[m\u001b[K\u001b[36m\u001b[K:\u001b[m\u001b[K1\n"
          ]
        }
      ]
    },
    {
      "cell_type": "markdown",
      "source": [
        "## **Return Count of Term/Phrase in the File**"
      ],
      "metadata": {
        "id": "cCJcTzBUk-3K"
      }
    },
    {
      "cell_type": "code",
      "source": [
        "!pdfgrep -c \"Gaussian mixture model\" \"/content/Course Notes for Bayesian Models for Machine Learning.pdf\""
      ],
      "metadata": {
        "colab": {
          "base_uri": "https://localhost:8080/"
        },
        "id": "XdOpYOrnlP-7",
        "outputId": "9fa65f49-d5e2-4dff-8255-eb76572b0a0c"
      },
      "execution_count": 7,
      "outputs": [
        {
          "output_type": "stream",
          "name": "stdout",
          "text": [
            "9\n"
          ]
        }
      ]
    },
    {
      "cell_type": "markdown",
      "source": [
        "## **Case Insensitive Search**"
      ],
      "metadata": {
        "id": "oCBmLQInkwVy"
      }
    },
    {
      "cell_type": "code",
      "source": [
        "!pdfgrep -i \"Posterior Calculation\" \"/content/Course Notes for Bayesian Models for Machine Learning.pdf\""
      ],
      "metadata": {
        "colab": {
          "base_uri": "https://localhost:8080/"
        },
        "id": "rmOBW6sBct7z",
        "outputId": "f278f3d4-fd29-4d45-ba6e-b59a49f643e7"
      },
      "execution_count": 8,
      "outputs": [
        {
          "output_type": "stream",
          "name": "stdout",
          "text": [
            "• \u001b[01;31m\u001b[KPosterior calculation\u001b[m\u001b[K: Earlier, we saw how we could calculate the posterior distribution of this\n",
            "   \u001b[01;31m\u001b[KPosterior calculation\u001b[m\u001b[K: We use Bayes rule to try to calculate the posterior,\n",
            "         priors are assumed on the model, \u001b[01;31m\u001b[Kposterior calculation\u001b[m\u001b[K using Bayes rule still factors into\n",
            "• \u001b[01;31m\u001b[KPosterior calculation\u001b[m\u001b[K: Since we can’t calculate p(π, µ, Λ, c|x) we use a variational approximation\n"
          ]
        }
      ]
    },
    {
      "cell_type": "markdown",
      "source": [
        "## **Searching a Password Protected PDF**"
      ],
      "metadata": {
        "id": "2o8yr86IngOr"
      }
    },
    {
      "cell_type": "code",
      "source": [
        "!pdfgrep -c --password \"abcdef\" \"Gaussian mixture model\" \"/content/Course Notes for Bayesian Models for Machine Learning (SECURE).pdf\""
      ],
      "metadata": {
        "colab": {
          "base_uri": "https://localhost:8080/"
        },
        "id": "dEQTqlecngVT",
        "outputId": "3d57d464-dbe1-44c7-ab21-7b8a780e5a53"
      },
      "execution_count": 9,
      "outputs": [
        {
          "output_type": "stream",
          "name": "stdout",
          "text": [
            "9\n"
          ]
        }
      ]
    },
    {
      "cell_type": "markdown",
      "source": [
        "# **References and Additional Learning**"
      ],
      "metadata": {
        "id": "rkPLf7frcxZr"
      }
    },
    {
      "cell_type": "markdown",
      "source": [
        "## **Course Note**\n",
        "\n",
        "- **[Course Notes for Bayesian Models for Machine Learning](http://www.columbia.edu/~jwp2128/Teaching/BML_lecture_notes.pdf) by John Paisley from Columbia University**"
      ],
      "metadata": {
        "id": "gIMlVEyIrpoz"
      }
    },
    {
      "cell_type": "markdown",
      "source": [
        "## **Website**\n",
        "\n",
        "- **[pdfgrep Documentation](https://pdfgrep.org/doc.html)**\n",
        "\n",
        "- **[pdfgrep](https://gitlab.com/pdfgrep/pdfgrep) from GitLab**"
      ],
      "metadata": {
        "id": "emvROF5dc1C7"
      }
    },
    {
      "cell_type": "markdown",
      "source": [
        "# **Connect**\n",
        "- **Feel free to connect with Adrian on [YouTube](https://www.youtube.com/channel/UCPuDxI3xb_ryUUMfkm0jsRA), [LinkedIn](https://www.linkedin.com/in/adrian-dolinay-frm-96a289106/), [Twitter](https://twitter.com/DolinayG), [GitHub](https://github.com/ad17171717), [Medium](https://adriandolinay.medium.com/) and [Odysee](https://odysee.com/@adriandolinay:0). Happy coding!**"
      ],
      "metadata": {
        "id": "PUwbG_BocuFj"
      }
    }
  ]
}
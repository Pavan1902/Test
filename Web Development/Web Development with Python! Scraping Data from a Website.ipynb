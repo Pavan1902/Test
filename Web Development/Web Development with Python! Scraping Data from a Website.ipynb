{
 "cells": [
  {
   "cell_type": "code",
   "execution_count": 1,
   "id": "5559eb67",
   "metadata": {},
   "outputs": [],
   "source": [
    "import os\n",
    "import time\n",
    "from datetime import datetime\n",
    "from selenium import webdriver\n",
    "from selenium.webdriver.chrome.options import Options\n",
    "import pandas as pd\n",
    "import warnings\n",
    "warnings.filterwarnings('ignore', category=DeprecationWarning)"
   ]
  },
  {
   "cell_type": "markdown",
   "id": "8468600f",
   "metadata": {},
   "source": [
    "# **Selenium**\n",
    "\n",
    "**Selenium is a package that automates web browsing. The WebDriver tool from Selenium enables us to access and navigate webpages. Functions such as scraping data from a site can be automated using the tool.**\n",
    "\n",
    "<sup>Source: [Selenium Documentation](https://www.selenium.dev/documentation/)</sup>"
   ]
  },
  {
   "cell_type": "markdown",
   "id": "c875ca1c",
   "metadata": {},
   "source": [
    "## **Web Development Terms**\n",
    "\n",
    "**CSS Selectors are the mechanism by which CSS rules are matched to elements.**\n",
    "\n",
    "**In HTML, the `div` tag is the division or section of a website that contains a group of elements. In our case, one division contains the name of the hospital and the other contains the ER wait times.**"
   ]
  },
  {
   "cell_type": "markdown",
   "id": "308b70b4",
   "metadata": {},
   "source": [
    "<sup>Source: [CSS Master](https://books.google.com/books/about/CSS_Master.html?id=GBk-EAAAQBAJ) by Tiffany Brown</sup>"
   ]
  },
  {
   "cell_type": "markdown",
   "id": "5f886910",
   "metadata": {},
   "source": [
    "<sup>Source: [The Content Division element](https://developer.mozilla.org/en-US/docs/Web/HTML/Element/div) from Mozilla.org</sup>"
   ]
  },
  {
   "cell_type": "code",
   "execution_count": 2,
   "id": "21127630",
   "metadata": {},
   "outputs": [],
   "source": [
    "os.chdir(r'C:\\Users\\Adrian\\Downloads')"
   ]
  },
  {
   "cell_type": "code",
   "execution_count": 3,
   "id": "2941085f",
   "metadata": {},
   "outputs": [
    {
     "data": {
      "text/plain": [
       "'C:\\\\Users\\\\Adrian\\\\Downloads'"
      ]
     },
     "execution_count": 3,
     "metadata": {},
     "output_type": "execute_result"
    }
   ],
   "source": [
    "os.getcwd()"
   ]
  },
  {
   "cell_type": "code",
   "execution_count": 4,
   "id": "604aa061",
   "metadata": {},
   "outputs": [],
   "source": [
    "chrome_options = Options()\n",
    "\n",
    "#run Chrome in headless mode\n",
    "chrome_options.add_argument('--headless')"
   ]
  },
  {
   "cell_type": "code",
   "execution_count": 5,
   "id": "0b6b8ff0",
   "metadata": {},
   "outputs": [],
   "source": [
    "driver = webdriver.Chrome('chromedriver',chrome_options=chrome_options)"
   ]
  },
  {
   "cell_type": "code",
   "execution_count": 6,
   "id": "ab28f49a",
   "metadata": {},
   "outputs": [],
   "source": [
    "# url of website\n",
    "url = 'https://www.virtua.org/patient-tools/er-wait-times'\n",
    "\n",
    "# to open the url in the browser\n",
    "driver.get(url)\n",
    "\n",
    "# CSS selector path for hospital names\n",
    "name_path_list = []\n",
    "for i in range(2,11):\n",
    "  name_path_list.append(f'div.card:nth-child({i}) > div:nth-child(1) > div:nth-child(2) > h3:nth-child(1)')\n",
    "\n",
    "# CSS selector path for ER wait times\n",
    "er_time_path_list = []\n",
    "\n",
    "for i in range(2,11):\n",
    "  er_time_path_list.append(f'div.card:nth-child({i}) > div:nth-child(1) > div:nth-child(2) > b:nth-child(2)')"
   ]
  },
  {
   "cell_type": "code",
   "execution_count": 7,
   "id": "2a76eb29",
   "metadata": {
    "scrolled": true
   },
   "outputs": [
    {
     "name": "stdout",
     "output_type": "stream",
     "text": [
      "Berlin Emergency Department 2 mins\n",
      "Camden Emergency Department 28 mins\n",
      "Virtua Marlton Hospital 7 mins\n",
      "Virtua Memorial Hospital 45 mins\n",
      "Virtua Memorial Hospital Pediatric Pavilion 2+ hrs\n",
      "Virtua Our Lady Of Lourdes Hospital 18 mins\n",
      "Virtua Voorhees Hospital 16 mins\n",
      "Virtua Voorhees Hospital Pediatric ER 12 mins\n",
      "Virtua Willingboro Hospital 19 mins\n"
     ]
    }
   ],
   "source": [
    "for name,er_time in zip(name_path_list,er_time_path_list):\n",
    "  print(driver.find_element_by_css_selector(name).text,\n",
    "        driver.find_element_by_css_selector(er_time).text)"
   ]
  },
  {
   "cell_type": "code",
   "execution_count": 8,
   "id": "deab4e6f",
   "metadata": {},
   "outputs": [],
   "source": [
    "er = []\n",
    "wait_time = []\n",
    "curr_time = []\n",
    "\n",
    "#create a bot to scrape the data\n",
    "#if set to \"while True\" the bot will run until the script is stopped manually\n",
    "#if set to \"len (er)\" the bot will run until the number of data points are appended to the list\n",
    "while len(er) < 9*3:\n",
    "    \n",
    "    driver.refresh()\n",
    "    for name,er_time in zip(name_path_list,er_time_path_list):\n",
    "        er.append(driver.find_element_by_css_selector(name).text)\n",
    "        wait_time.append(driver.find_element_by_css_selector(er_time).text)\n",
    "        #date/time that the data was scraped\n",
    "        curr_time.append(datetime.now().strftime('%m/%d/%Y %H:%M'))\n",
    "        \n",
    "    \n",
    "    #time between scrapes in seconds. 15 mins = 900\n",
    "    time.sleep(900)"
   ]
  },
  {
   "cell_type": "code",
   "execution_count": 9,
   "id": "dd386751",
   "metadata": {},
   "outputs": [],
   "source": [
    "df = pd.DataFrame({'Hospital Name': er, 'Wait Time': wait_time, 'Date/Time Scraped':curr_time})"
   ]
  },
  {
   "cell_type": "code",
   "execution_count": 10,
   "id": "3b28a858",
   "metadata": {},
   "outputs": [
    {
     "data": {
      "text/html": [
       "<div>\n",
       "<style scoped>\n",
       "    .dataframe tbody tr th:only-of-type {\n",
       "        vertical-align: middle;\n",
       "    }\n",
       "\n",
       "    .dataframe tbody tr th {\n",
       "        vertical-align: top;\n",
       "    }\n",
       "\n",
       "    .dataframe thead th {\n",
       "        text-align: right;\n",
       "    }\n",
       "</style>\n",
       "<table border=\"1\" class=\"dataframe\">\n",
       "  <thead>\n",
       "    <tr style=\"text-align: right;\">\n",
       "      <th></th>\n",
       "      <th>Hospital Name</th>\n",
       "      <th>Wait Time</th>\n",
       "      <th>Date/Time Scraped</th>\n",
       "    </tr>\n",
       "  </thead>\n",
       "  <tbody>\n",
       "    <tr>\n",
       "      <th>0</th>\n",
       "      <td>Berlin Emergency Department</td>\n",
       "      <td>3 mins</td>\n",
       "      <td>01/19/2022 11:31</td>\n",
       "    </tr>\n",
       "    <tr>\n",
       "      <th>9</th>\n",
       "      <td>Berlin Emergency Department</td>\n",
       "      <td>4 mins</td>\n",
       "      <td>01/19/2022 11:46</td>\n",
       "    </tr>\n",
       "    <tr>\n",
       "      <th>18</th>\n",
       "      <td>Berlin Emergency Department</td>\n",
       "      <td>4 mins</td>\n",
       "      <td>01/19/2022 12:02</td>\n",
       "    </tr>\n",
       "    <tr>\n",
       "      <th>1</th>\n",
       "      <td>Camden Emergency Department</td>\n",
       "      <td>28 mins</td>\n",
       "      <td>01/19/2022 11:31</td>\n",
       "    </tr>\n",
       "    <tr>\n",
       "      <th>10</th>\n",
       "      <td>Camden Emergency Department</td>\n",
       "      <td>27 mins</td>\n",
       "      <td>01/19/2022 11:46</td>\n",
       "    </tr>\n",
       "    <tr>\n",
       "      <th>19</th>\n",
       "      <td>Camden Emergency Department</td>\n",
       "      <td>27 mins</td>\n",
       "      <td>01/19/2022 12:02</td>\n",
       "    </tr>\n",
       "    <tr>\n",
       "      <th>2</th>\n",
       "      <td>Virtua Marlton Hospital</td>\n",
       "      <td>8 mins</td>\n",
       "      <td>01/19/2022 11:31</td>\n",
       "    </tr>\n",
       "    <tr>\n",
       "      <th>11</th>\n",
       "      <td>Virtua Marlton Hospital</td>\n",
       "      <td>7 mins</td>\n",
       "      <td>01/19/2022 11:46</td>\n",
       "    </tr>\n",
       "    <tr>\n",
       "      <th>20</th>\n",
       "      <td>Virtua Marlton Hospital</td>\n",
       "      <td>7 mins</td>\n",
       "      <td>01/19/2022 12:02</td>\n",
       "    </tr>\n",
       "    <tr>\n",
       "      <th>3</th>\n",
       "      <td>Virtua Memorial Hospital</td>\n",
       "      <td>39 mins</td>\n",
       "      <td>01/19/2022 11:31</td>\n",
       "    </tr>\n",
       "    <tr>\n",
       "      <th>12</th>\n",
       "      <td>Virtua Memorial Hospital</td>\n",
       "      <td>38 mins</td>\n",
       "      <td>01/19/2022 11:46</td>\n",
       "    </tr>\n",
       "    <tr>\n",
       "      <th>21</th>\n",
       "      <td>Virtua Memorial Hospital</td>\n",
       "      <td>38 mins</td>\n",
       "      <td>01/19/2022 12:02</td>\n",
       "    </tr>\n",
       "    <tr>\n",
       "      <th>4</th>\n",
       "      <td>Virtua Memorial Hospital Pediatric Pavilion</td>\n",
       "      <td>2+ hrs</td>\n",
       "      <td>01/19/2022 11:31</td>\n",
       "    </tr>\n",
       "    <tr>\n",
       "      <th>13</th>\n",
       "      <td>Virtua Memorial Hospital Pediatric Pavilion</td>\n",
       "      <td>2+ hrs</td>\n",
       "      <td>01/19/2022 11:46</td>\n",
       "    </tr>\n",
       "    <tr>\n",
       "      <th>22</th>\n",
       "      <td>Virtua Memorial Hospital Pediatric Pavilion</td>\n",
       "      <td>2+ hrs</td>\n",
       "      <td>01/19/2022 12:02</td>\n",
       "    </tr>\n",
       "    <tr>\n",
       "      <th>5</th>\n",
       "      <td>Virtua Our Lady Of Lourdes Hospital</td>\n",
       "      <td>18 mins</td>\n",
       "      <td>01/19/2022 11:31</td>\n",
       "    </tr>\n",
       "    <tr>\n",
       "      <th>14</th>\n",
       "      <td>Virtua Our Lady Of Lourdes Hospital</td>\n",
       "      <td>15 mins</td>\n",
       "      <td>01/19/2022 11:46</td>\n",
       "    </tr>\n",
       "    <tr>\n",
       "      <th>23</th>\n",
       "      <td>Virtua Our Lady Of Lourdes Hospital</td>\n",
       "      <td>15 mins</td>\n",
       "      <td>01/19/2022 12:02</td>\n",
       "    </tr>\n",
       "    <tr>\n",
       "      <th>6</th>\n",
       "      <td>Virtua Voorhees Hospital</td>\n",
       "      <td>17 mins</td>\n",
       "      <td>01/19/2022 11:31</td>\n",
       "    </tr>\n",
       "    <tr>\n",
       "      <th>15</th>\n",
       "      <td>Virtua Voorhees Hospital</td>\n",
       "      <td>24 mins</td>\n",
       "      <td>01/19/2022 11:46</td>\n",
       "    </tr>\n",
       "    <tr>\n",
       "      <th>24</th>\n",
       "      <td>Virtua Voorhees Hospital</td>\n",
       "      <td>24 mins</td>\n",
       "      <td>01/19/2022 12:02</td>\n",
       "    </tr>\n",
       "    <tr>\n",
       "      <th>7</th>\n",
       "      <td>Virtua Voorhees Hospital Pediatric ER</td>\n",
       "      <td>12 mins</td>\n",
       "      <td>01/19/2022 11:31</td>\n",
       "    </tr>\n",
       "    <tr>\n",
       "      <th>16</th>\n",
       "      <td>Virtua Voorhees Hospital Pediatric ER</td>\n",
       "      <td>24 mins</td>\n",
       "      <td>01/19/2022 11:46</td>\n",
       "    </tr>\n",
       "    <tr>\n",
       "      <th>25</th>\n",
       "      <td>Virtua Voorhees Hospital Pediatric ER</td>\n",
       "      <td>24 mins</td>\n",
       "      <td>01/19/2022 12:02</td>\n",
       "    </tr>\n",
       "    <tr>\n",
       "      <th>8</th>\n",
       "      <td>Virtua Willingboro Hospital</td>\n",
       "      <td>23 mins</td>\n",
       "      <td>01/19/2022 11:31</td>\n",
       "    </tr>\n",
       "    <tr>\n",
       "      <th>17</th>\n",
       "      <td>Virtua Willingboro Hospital</td>\n",
       "      <td>24 mins</td>\n",
       "      <td>01/19/2022 11:46</td>\n",
       "    </tr>\n",
       "    <tr>\n",
       "      <th>26</th>\n",
       "      <td>Virtua Willingboro Hospital</td>\n",
       "      <td>24 mins</td>\n",
       "      <td>01/19/2022 12:02</td>\n",
       "    </tr>\n",
       "  </tbody>\n",
       "</table>\n",
       "</div>"
      ],
      "text/plain": [
       "                                  Hospital Name Wait Time Date/Time Scraped\n",
       "0                   Berlin Emergency Department    3 mins  01/19/2022 11:31\n",
       "9                   Berlin Emergency Department    4 mins  01/19/2022 11:46\n",
       "18                  Berlin Emergency Department    4 mins  01/19/2022 12:02\n",
       "1                   Camden Emergency Department   28 mins  01/19/2022 11:31\n",
       "10                  Camden Emergency Department   27 mins  01/19/2022 11:46\n",
       "19                  Camden Emergency Department   27 mins  01/19/2022 12:02\n",
       "2                       Virtua Marlton Hospital    8 mins  01/19/2022 11:31\n",
       "11                      Virtua Marlton Hospital    7 mins  01/19/2022 11:46\n",
       "20                      Virtua Marlton Hospital    7 mins  01/19/2022 12:02\n",
       "3                      Virtua Memorial Hospital   39 mins  01/19/2022 11:31\n",
       "12                     Virtua Memorial Hospital   38 mins  01/19/2022 11:46\n",
       "21                     Virtua Memorial Hospital   38 mins  01/19/2022 12:02\n",
       "4   Virtua Memorial Hospital Pediatric Pavilion    2+ hrs  01/19/2022 11:31\n",
       "13  Virtua Memorial Hospital Pediatric Pavilion    2+ hrs  01/19/2022 11:46\n",
       "22  Virtua Memorial Hospital Pediatric Pavilion    2+ hrs  01/19/2022 12:02\n",
       "5           Virtua Our Lady Of Lourdes Hospital   18 mins  01/19/2022 11:31\n",
       "14          Virtua Our Lady Of Lourdes Hospital   15 mins  01/19/2022 11:46\n",
       "23          Virtua Our Lady Of Lourdes Hospital   15 mins  01/19/2022 12:02\n",
       "6                      Virtua Voorhees Hospital   17 mins  01/19/2022 11:31\n",
       "15                     Virtua Voorhees Hospital   24 mins  01/19/2022 11:46\n",
       "24                     Virtua Voorhees Hospital   24 mins  01/19/2022 12:02\n",
       "7         Virtua Voorhees Hospital Pediatric ER   12 mins  01/19/2022 11:31\n",
       "16        Virtua Voorhees Hospital Pediatric ER   24 mins  01/19/2022 11:46\n",
       "25        Virtua Voorhees Hospital Pediatric ER   24 mins  01/19/2022 12:02\n",
       "8                   Virtua Willingboro Hospital   23 mins  01/19/2022 11:31\n",
       "17                  Virtua Willingboro Hospital   24 mins  01/19/2022 11:46\n",
       "26                  Virtua Willingboro Hospital   24 mins  01/19/2022 12:02"
      ]
     },
     "execution_count": 10,
     "metadata": {},
     "output_type": "execute_result"
    }
   ],
   "source": [
    "df.sort_values(['Hospital Name','Date/Time Scraped'])"
   ]
  },
  {
   "cell_type": "markdown",
   "id": "2d0aa05d",
   "metadata": {},
   "source": [
    "# **References and Additional Learning**"
   ]
  },
  {
   "cell_type": "markdown",
   "id": "f7e867d1",
   "metadata": {},
   "source": [
    "## **Data**\n",
    "\n",
    "- **[ER Wait Times](https://www.virtua.org/patient-tools/er-wait-times) from Virtua.org**"
   ]
  },
  {
   "cell_type": "markdown",
   "id": "0f6f4b90",
   "metadata": {},
   "source": [
    "## **Textbook**\n",
    "\n",
    "- **[CSS Master](https://books.google.com/books/about/CSS_Master.html?id=GBk-EAAAQBAJ) by Tiffany Brown**"
   ]
  },
  {
   "cell_type": "markdown",
   "id": "a01572a2",
   "metadata": {},
   "source": [
    "## **Websites**\n",
    "\n",
    "- **[CSS selectors](https://developer.mozilla.org/en-US/docs/Web/CSS/CSS_Selectors) from Mozilla.org**\n",
    "\n",
    "- **[Firefox and Chromium](https://madaidans-insecurities.github.io/firefox-chromium.html) and Sandboxing by madaidan**\n",
    "\n",
    "- **[Selenium Documentation](https://www.selenium.dev/documentation/)**\n",
    "\n",
    "- **[The Content Division element](https://developer.mozilla.org/en-US/docs/Web/HTML/Element/div) from Mozilla.org**"
   ]
  },
  {
   "cell_type": "markdown",
   "id": "412908eb",
   "metadata": {},
   "source": [
    "# **Connect**\n",
    "- **Feel free to connect with Adrian on [YouTube](https://www.youtube.com/channel/UCPuDxI3xb_ryUUMfkm0jsRA), [LinkedIn](https://www.linkedin.com/in/adrian-dolinay-frm-96a289106/), [Twitter](https://twitter.com/DolinayG) and [GitHub](https://github.com/ad17171717). Happy coding!**"
   ]
  }
 ],
 "metadata": {
  "hide_input": false,
  "kernelspec": {
   "display_name": "Python 3 (ipykernel)",
   "language": "python",
   "name": "python3"
  },
  "language_info": {
   "codemirror_mode": {
    "name": "ipython",
    "version": 3
   },
   "file_extension": ".py",
   "mimetype": "text/x-python",
   "name": "python",
   "nbconvert_exporter": "python",
   "pygments_lexer": "ipython3",
   "version": "3.9.7"
  }
 },
 "nbformat": 4,
 "nbformat_minor": 5
}

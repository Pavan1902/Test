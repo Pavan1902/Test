{
  "nbformat": 4,
  "nbformat_minor": 0,
  "metadata": {
    "colab": {
      "name": "Data Visualization with Tableau! Sentiment Analysis of Restaurant Reviews.ipynb",
      "provenance": [],
      "collapsed_sections": []
    },
    "kernelspec": {
      "name": "python3",
      "display_name": "Python 3"
    },
    "language_info": {
      "name": "python"
    }
  },
  "cells": [
    {
      "cell_type": "code",
      "execution_count": 1,
      "metadata": {
        "id": "ZlzLyWazIqTK"
      },
      "outputs": [],
      "source": [
        "from IPython.display import clear_output\n",
        "import pandas as pd\n",
        "\n",
        "#NLP packages\n",
        "\n",
        "#flair\n",
        "!pip install flair\n",
        "import flair\n",
        "flair_sentiment = flair.models.TextClassifier.load('en-sentiment')\n",
        "\n",
        "#TextBlob\n",
        "from textblob import TextBlob\n",
        "\n",
        "#VADER\n",
        "import nltk\n",
        "from nltk.sentiment.vader import SentimentIntensityAnalyzer\n",
        "from nltk.corpus import stopwords\n",
        "!pip install stop_words\n",
        "from stop_words import get_stop_words\n",
        "from nltk.tokenize import word_tokenize\n",
        "nltk.download('vader_lexicon')\n",
        "nltk.download('stopwords')\n",
        "nltk.download('punkt')\n",
        "stop_words = list(get_stop_words('en'))\n",
        "nltk_words = list(stopwords.words('english')) \n",
        "stop_words.extend(nltk_words)\n",
        "\n",
        "!pip install vaderSentiment\n",
        "from vaderSentiment.vaderSentiment import SentimentIntensityAnalyzer\n",
        "clear_output()"
      ]
    },
    {
      "cell_type": "markdown",
      "source": [
        "# **Read in Data to pandas DataFrame**"
      ],
      "metadata": {
        "id": "ApnG9R4uJP-L"
      }
    },
    {
      "cell_type": "code",
      "source": [
        "df = pd.read_excel('/content/Restaurant Review.xlsx')"
      ],
      "metadata": {
        "id": "1gigLl7_JS-3"
      },
      "execution_count": 2,
      "outputs": []
    },
    {
      "cell_type": "markdown",
      "source": [
        "# **NLP Sentiment Analysis**"
      ],
      "metadata": {
        "id": "KFySO2njI9B4"
      }
    },
    {
      "cell_type": "markdown",
      "source": [
        "## **Flair**"
      ],
      "metadata": {
        "id": "_SnIctZcJeTb"
      }
    },
    {
      "cell_type": "code",
      "source": [
        "def senti_score(n):\n",
        "    s = flair.data.Sentence(n)\n",
        "    flair_sentiment.predict(s)\n",
        "    total_sentiment = s.labels[0]\n",
        "    assert total_sentiment.value in ['POSITIVE', 'NEGATIVE']\n",
        "    sign = 1 if total_sentiment.value == 'POSITIVE' else -1\n",
        "    score = total_sentiment.score\n",
        "    return sign * score"
      ],
      "metadata": {
        "id": "ySkaVnNhI0Nr"
      },
      "execution_count": 3,
      "outputs": []
    },
    {
      "cell_type": "code",
      "source": [
        "df['Answer Sentiment Flair'] = [senti_score(i) for i in df['Review']]"
      ],
      "metadata": {
        "id": "pfgollwmI0TL"
      },
      "execution_count": 4,
      "outputs": []
    },
    {
      "cell_type": "markdown",
      "source": [
        "## **VADER**"
      ],
      "metadata": {
        "id": "sh2N-LO2J0xx"
      }
    },
    {
      "cell_type": "code",
      "source": [
        "analyser = SentimentIntensityAnalyzer()\n",
        "\n",
        "def sentiment_analysis(sentence): \n",
        "  score = analyser.polarity_scores(sentence)\n",
        "  return (score)"
      ],
      "metadata": {
        "id": "mY68OhJFI0Xf"
      },
      "execution_count": 5,
      "outputs": []
    },
    {
      "cell_type": "code",
      "source": [
        "df['Answer Sentiment VADER'] = [sentiment_analysis(i)['compound'] for i in df['Review']]"
      ],
      "metadata": {
        "id": "eL2IWwigJ7k5"
      },
      "execution_count": 6,
      "outputs": []
    },
    {
      "cell_type": "markdown",
      "source": [
        "## **TextBlob**"
      ],
      "metadata": {
        "id": "1x5OZ5NpKAY0"
      }
    },
    {
      "cell_type": "code",
      "source": [
        "df['Answer Sentiment TextBlob'] = [TextBlob(i).sentiment[0] for i in df['Review']]"
      ],
      "metadata": {
        "id": "8lv8zZ1TKCyS"
      },
      "execution_count": 7,
      "outputs": []
    },
    {
      "cell_type": "markdown",
      "source": [
        "## **Average the Sentiment Analysis Scores**"
      ],
      "metadata": {
        "id": "It4PfktIKKpD"
      }
    },
    {
      "cell_type": "code",
      "source": [
        "df['Answer Sentiment Average'] = df[['Answer Sentiment Flair', 'Answer Sentiment VADER', 'Answer Sentiment TextBlob']].mean(axis=1)"
      ],
      "metadata": {
        "id": "pgv1OFd7KN3i"
      },
      "execution_count": 8,
      "outputs": []
    },
    {
      "cell_type": "markdown",
      "source": [
        "# **Export Data to an Excel Spreadsheet**"
      ],
      "metadata": {
        "id": "Pah3mkwvKUa7"
      }
    },
    {
      "cell_type": "code",
      "source": [
        "df.drop(['Answer Sentiment Flair','Answer Sentiment VADER','Answer Sentiment TextBlob'],axis=1).to_excel('Restaurant Sentiment Analysis.xlsx')"
      ],
      "metadata": {
        "id": "f02F3SH6KXbH"
      },
      "execution_count": 9,
      "outputs": []
    },
    {
      "cell_type": "markdown",
      "source": [
        "# **Connect**\n",
        "- **Feel free to connect with Adrian on [YouTube](https://www.youtube.com/channel/UCPuDxI3xb_ryUUMfkm0jsRA), [LinkedIn](https://www.linkedin.com/in/adrian-dolinay-frm-96a289106/), [Twitter](https://twitter.com/DolinayG) and [GitHub](https://github.com/ad17171717). Happy coding!**"
      ],
      "metadata": {
        "id": "s-YYjbtsLFz0"
      }
    }
  ]
}
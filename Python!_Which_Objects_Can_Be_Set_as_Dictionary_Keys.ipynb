{
  "cells": [
    {
      "cell_type": "markdown",
      "metadata": {
        "id": "view-in-github",
        "colab_type": "text"
      },
      "source": [
        "<a href=\"https://colab.research.google.com/github/ad17171717/YouTube-Tutorials/blob/main/Python!_Which_Objects_Can_Be_Set_as_Dictionary_Keys.ipynb\" target=\"_parent\"><img src=\"https://colab.research.google.com/assets/colab-badge.svg\" alt=\"Open In Colab\"/></a>"
      ]
    },
    {
      "cell_type": "markdown",
      "metadata": {
        "id": "P3ElZ-ko7xfN"
      },
      "source": [
        "# **Python Dictionary**\n",
        "\n",
        "**Within Python, the dictionary class is a collection of mutable objects (values) that are indexed by numbers, strings or certain sets (keys) which are immutable. Dictionary keys must be hashable**\n",
        "\n",
        "**The main use of dictionaries is to store values which can then be called by a given key.**"
      ]
    },
    {
      "cell_type": "markdown",
      "metadata": {
        "id": "2a4yCSAc7xfR"
      },
      "source": [
        "<sup>Source: [Python Data Structures and Algorithms](https://www.amazon.com/Python-Data-Structures-Algorithms-application-ebook/dp/B01IF7NLM8) by Benjamin Baka<sup/>"
      ]
    },
    {
      "cell_type": "markdown",
      "metadata": {
        "id": "wfxhFAjR7xfS"
      },
      "source": [
        "# **Hashable Objects**\n",
        "\n",
        "**An object is hashable if it has a hash value which never changes during its lifetime (it needs a `__hash__()` method), and can be compared to other objects (it needs an `__eq__()` method). Hashable objects which compare equal must have the same hash value.**\n",
        "\n",
        "**Hashability makes an object usable as a dictionary key and a set member, because these data structures use the hash value internally.**"
      ]
    },
    {
      "cell_type": "markdown",
      "metadata": {
        "id": "LfiOV6ye7xfS"
      },
      "source": [
        "<sup>Source: [Glossary](https://docs.python.org/3/glossary.html) from Python.org<sup/>"
      ]
    },
    {
      "cell_type": "code",
      "execution_count": null,
      "metadata": {
        "id": "8NPJIb3C7xfT",
        "outputId": "c8696ff0-866c-46b0-d279-2b4e216d1a81"
      },
      "outputs": [
        {
          "name": "stdout",
          "output_type": "stream",
          "text": [
            "<class 'list'>\n",
            "<class 'dict'>\n",
            "<class 'set'>\n",
            "<class 'tuple'>\n",
            "<class 'int'>\n",
            "<class 'float'>\n",
            "<class 'str'>\n",
            "<class 'bytes'>\n"
          ]
        }
      ],
      "source": [
        "python_object = [[1,2,3],\n",
        "                 {'a':[1,2,3]},\n",
        "                 {1,2,3},\n",
        "                 (1,2,3),\n",
        "                 1,\n",
        "                 1.0,\n",
        "                 'string',\n",
        "                 b'byte']\n",
        "\n",
        "for obj in python_object:\n",
        "    print(type(obj))"
      ]
    },
    {
      "cell_type": "code",
      "execution_count": null,
      "metadata": {
        "id": "WeH6Mq1t7xfV",
        "outputId": "ff890637-5857-45b8-f8c1-f58047b809c7"
      },
      "outputs": [
        {
          "name": "stdout",
          "output_type": "stream",
          "text": [
            "<class 'list'> is not hashable\n",
            "\n",
            "<class 'dict'> is not hashable\n",
            "\n",
            "<class 'set'> is not hashable\n",
            "\n",
            "<class 'tuple'> is hashable\n",
            "{(1, 2, 3): [1, 2, 3]} \n",
            "\n",
            "<class 'int'> is hashable\n",
            "{1: [1, 2, 3]} \n",
            "\n",
            "<class 'float'> is hashable\n",
            "{1.0: [1, 2, 3]} \n",
            "\n",
            "<class 'str'> is hashable\n",
            "{'string': [1, 2, 3]} \n",
            "\n",
            "<class 'bytes'> is hashable\n",
            "{b'byte': [1, 2, 3]} \n",
            "\n"
          ]
        }
      ],
      "source": [
        "for obj in python_object:\n",
        "    try:\n",
        "        temp_dict = {obj:[1,2,3]}\n",
        "        print(f'{type(obj)} is hashable')\n",
        "        print(temp_dict,'\\n')\n",
        "    except:\n",
        "        print(f'{type(obj)} is not hashable\\n')"
      ]
    },
    {
      "cell_type": "markdown",
      "metadata": {
        "id": "Co4XPdef7xfV"
      },
      "source": [
        "# **References and Additional Learning**"
      ]
    },
    {
      "cell_type": "markdown",
      "metadata": {
        "id": "Cm1R-SC27xfW"
      },
      "source": [
        "## **Website**\n",
        "\n",
        "- **[Glossary](https://docs.python.org/3/glossary.html) from Python.org**"
      ]
    },
    {
      "cell_type": "markdown",
      "metadata": {
        "id": "4IN_hB_C7xfW"
      },
      "source": [
        "## **Textbook**\n",
        "\n",
        "- **[Python Data Structures and Algorithms](https://www.amazon.com/Python-Data-Structures-Algorithms-application-ebook/dp/B01IF7NLM8) by Benjamin Baka**"
      ]
    },
    {
      "cell_type": "markdown",
      "metadata": {
        "id": "IYQseDoB7xfX"
      },
      "source": [
        "## **Video**\n",
        "\n",
        "- **[Python - Dictionaries!](https://www.youtube.com/watch?v=EKWkRfbFRts&t=603s) by Adrian Dolinay**"
      ]
    },
    {
      "cell_type": "markdown",
      "metadata": {
        "id": "pmJ5bS-d7xfX"
      },
      "source": [
        "# **Connect**\n",
        "**Feel free to connect with Adrian on [YouTube](https://www.youtube.com/channel/UCPuDxI3xb_ryUUMfkm0jsRA), [LinkedIn](https://www.linkedin.com/in/adrian-dolinay-frm-96a289106/), [Twitter](https://twitter.com/DolinayG), [GitHub](https://github.com/ad17171717) and [Odysee](https://odysee.com/@adriandolinay:0). Happy coding!**"
      ]
    }
  ],
  "metadata": {
    "hide_input": false,
    "kernelspec": {
      "display_name": "Python 3 (ipykernel)",
      "language": "python",
      "name": "python3"
    },
    "language_info": {
      "codemirror_mode": {
        "name": "ipython",
        "version": 3
      },
      "file_extension": ".py",
      "mimetype": "text/x-python",
      "name": "python",
      "nbconvert_exporter": "python",
      "pygments_lexer": "ipython3",
      "version": "3.10.7"
    },
    "colab": {
      "provenance": [],
      "include_colab_link": true
    }
  },
  "nbformat": 4,
  "nbformat_minor": 0
}
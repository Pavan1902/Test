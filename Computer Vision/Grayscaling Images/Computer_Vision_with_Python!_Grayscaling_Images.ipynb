{
  "nbformat": 4,
  "nbformat_minor": 0,
  "metadata": {
    "colab": {
      "provenance": []
    },
    "kernelspec": {
      "name": "python3",
      "display_name": "Python 3"
    },
    "language_info": {
      "name": "python"
    }
  },
  "cells": [
    {
      "cell_type": "code",
      "source": [
        "from IPython import display\n",
        "\n",
        "!sudo apt-get install tesseract-ocr\n",
        "!sudo apt-get install poppler-utils\n",
        "!pip install pytesseract==0.3.9\n",
        "\n",
        "display.clear_output()"
      ],
      "metadata": {
        "id": "yyAzRKxzOAU6"
      },
      "execution_count": 1,
      "outputs": []
    },
    {
      "cell_type": "code",
      "source": [
        "import cv2 as cv\n",
        "from google.colab.patches import cv2_imshow\n",
        "from matplotlib import pyplot as plt\n",
        "from PIL import Image\n",
        "import pytesseract"
      ],
      "metadata": {
        "id": "z3-oIxkHMYcE"
      },
      "execution_count": 2,
      "outputs": []
    },
    {
      "cell_type": "markdown",
      "source": [
        "# **Computer Vision**\n",
        "\n",
        "**Computer vision is a field of artificial intelligence that enables computers and systems to derive information from digital images, videos and other visual inputs. The trained algorithms can be used to identify and classify objects.**"
      ],
      "metadata": {
        "id": "E95AWGwPkw4p"
      }
    },
    {
      "cell_type": "markdown",
      "source": [
        "<sup>Source: [Computer Vision: What it is and why it matters](https://www.sas.com/en_us/insights/analytics/computer-vision.html#) from SAS<sup/>\n",
        "\n",
        "<sup>Source: [What is computer vision?](https://www.ibm.com/topics/computer-vision) from IBM<sup/>"
      ],
      "metadata": {
        "id": "2_Ksj4JLfv2x"
      }
    },
    {
      "cell_type": "markdown",
      "source": [
        "## **Reading an Image with OpenCV**"
      ],
      "metadata": {
        "id": "ikuKyLSFlqv_"
      }
    },
    {
      "cell_type": "code",
      "source": [
        "img = cv.imread('/content/python.PNG')\n",
        "cv2_imshow(img)"
      ],
      "metadata": {
        "id": "DnfIu9Z22lwW",
        "colab": {
          "base_uri": "https://localhost:8080/",
          "height": 295
        },
        "outputId": "cb376706-2e81-4820-fe45-24bc62cde197"
      },
      "execution_count": 3,
      "outputs": [
        {
          "output_type": "display_data",
          "data": {
            "text/plain": [
              "<PIL.Image.Image image mode=RGB size=474x278>"
            ],
            "image/png": "[encoded data removed]"
          },
          "metadata": {}
        }
      ]
    },
    {
      "cell_type": "code",
      "source": [
        "img.shape"
      ],
      "metadata": {
        "colab": {
          "base_uri": "https://localhost:8080/"
        },
        "id": "W4_lKMRZeL4p",
        "outputId": "e4de8420-d1d5-4e97-a7f6-277240d5a20c"
      },
      "execution_count": 4,
      "outputs": [
        {
          "output_type": "execute_result",
          "data": {
            "text/plain": [
              "(278, 474, 3)"
            ]
          },
          "metadata": {},
          "execution_count": 4
        }
      ]
    },
    {
      "cell_type": "markdown",
      "source": [
        "# **Use Case: Optical Character Recognition (OCR)**\n",
        "\n",
        "**Optical Character Recognition (OCR) converts images of typed, handwritten or printed text into machine encoded text.**"
      ],
      "metadata": {
        "id": "nCKAv6Re1yC-"
      }
    },
    {
      "cell_type": "markdown",
      "source": [
        "<sup>Source: [What Is Ocr (Optical Character Recognition)?](https://aws.amazon.com/what-is/ocr/) from AWS<sup/>"
      ],
      "metadata": {
        "id": "nYKYyLdFx-Yg"
      }
    },
    {
      "cell_type": "code",
      "source": [
        "pytesseract.image_to_string(Image.open('/content/python.PNG'),\n",
        "                            lang='eng').replace('\\n',' ')"
      ],
      "metadata": {
        "id": "W2Q1BZK3ldDf",
        "colab": {
          "base_uri": "https://localhost:8080/",
          "height": 35
        },
        "outputId": "96881f8d-f181-4d93-eec0-344705f77c5b"
      },
      "execution_count": 5,
      "outputs": [
        {
          "output_type": "execute_result",
          "data": {
            "text/plain": [
              "'ny \\x0c'"
            ],
            "application/vnd.google.colaboratory.intrinsic+json": {
              "type": "string"
            }
          },
          "metadata": {},
          "execution_count": 5
        }
      ]
    },
    {
      "cell_type": "markdown",
      "source": [
        "# **Grayscaling**\n",
        "\n",
        "**Image grayscaling converts colored pixels (red, green, blue) comprised of 3 bytes per pixel to grayed pixels (black, white, grey) comprised of only 1 byte per pixel.**"
      ],
      "metadata": {
        "id": "cpI5H2LtlnwA"
      }
    },
    {
      "cell_type": "markdown",
      "source": [
        "<sup>Source: [Colors and Images](https://cs.wellesley.edu/~cs110/reading/colors-and-images.html) from Wellesley College's Computer Science Staff<sup/>"
      ],
      "metadata": {
        "id": "_p_qgRR8yyvx"
      }
    },
    {
      "cell_type": "code",
      "source": [
        "gray = cv.cvtColor(img,cv.COLOR_RGB2GRAY)\n",
        "cv2_imshow(gray)"
      ],
      "metadata": {
        "id": "VKgpSE4NOjii",
        "colab": {
          "base_uri": "https://localhost:8080/",
          "height": 295
        },
        "outputId": "97844d84-585f-4b53-deb5-859695030ea4"
      },
      "execution_count": 6,
      "outputs": [
        {
          "output_type": "display_data",
          "data": {
            "text/plain": [
              "<PIL.Image.Image image mode=L size=474x278>"
            ],
            "image/png": "[encoded data removed]"
          },
          "metadata": {}
        }
      ]
    },
    {
      "cell_type": "code",
      "source": [
        "gray.shape"
      ],
      "metadata": {
        "id": "w-NScZ8g2oAA",
        "colab": {
          "base_uri": "https://localhost:8080/"
        },
        "outputId": "a7044ccf-7329-4f47-9991-91cbbf18bbb4"
      },
      "execution_count": 8,
      "outputs": [
        {
          "output_type": "execute_result",
          "data": {
            "text/plain": [
              "(278, 474)"
            ]
          },
          "metadata": {},
          "execution_count": 8
        }
      ]
    },
    {
      "cell_type": "code",
      "source": [
        "cv.imwrite('gray_python.png',gray)"
      ],
      "metadata": {
        "id": "FnoKVehzPKZa",
        "colab": {
          "base_uri": "https://localhost:8080/"
        },
        "outputId": "f7a3c9db-9e1f-4e14-feb2-847a7107c98d"
      },
      "execution_count": 9,
      "outputs": [
        {
          "output_type": "execute_result",
          "data": {
            "text/plain": [
              "True"
            ]
          },
          "metadata": {},
          "execution_count": 9
        }
      ]
    },
    {
      "cell_type": "code",
      "source": [
        "pytesseract.image_to_string(Image.open('gray_python.png'), lang='eng').replace('\\n',' ')"
      ],
      "metadata": {
        "id": "4470ptspPP5L",
        "colab": {
          "base_uri": "https://localhost:8080/",
          "height": 35
        },
        "outputId": "9563181f-e216-4eea-b850-ccc4152b6f3b"
      },
      "execution_count": 10,
      "outputs": [
        {
          "output_type": "execute_result",
          "data": {
            "text/plain": [
              "'python \\x0c'"
            ],
            "application/vnd.google.colaboratory.intrinsic+json": {
              "type": "string"
            }
          },
          "metadata": {},
          "execution_count": 10
        }
      ]
    },
    {
      "cell_type": "markdown",
      "source": [
        "# **References and Additional Learning**"
      ],
      "metadata": {
        "id": "nJTd829H2ZB0"
      }
    },
    {
      "cell_type": "markdown",
      "source": [
        "## **Websites**\n",
        "\n",
        "- **[Colors and Images](https://cs.wellesley.edu/~cs110/reading/colors-and-images.html) from Wellesley College's Computer Science Staff**\n",
        "\n",
        "- **[Computer Vision: What it is and why it matters](https://www.sas.com/en_us/insights/analytics/computer-vision.html#) from SAS**\n",
        "\n",
        "- **[What is computer vision?](https://www.ibm.com/topics/computer-vision) from IBM**\n",
        "\n",
        "- **[What Is Ocr (Optical Character Recognition)?](https://aws.amazon.com/what-is/ocr/) from AWS**"
      ],
      "metadata": {
        "id": "vdtP-vYPfrYQ"
      }
    },
    {
      "cell_type": "markdown",
      "source": [
        "# **Connect**\n",
        "**Feel free to connect with Adrian on [YouTube](https://www.youtube.com/channel/UCPuDxI3xb_ryUUMfkm0jsRA), [LinkedIn](https://www.linkedin.com/in/adrian-dolinay-frm-96a289106/), [Twitter](https://twitter.com/DolinayG), [GitHub](https://github.com/ad17171717) and [Odysee](https://odysee.com/@adriandolinay:0). Happy coding!**"
      ],
      "metadata": {
        "id": "C7nLR5As2Vot"
      }
    }
  ]
}
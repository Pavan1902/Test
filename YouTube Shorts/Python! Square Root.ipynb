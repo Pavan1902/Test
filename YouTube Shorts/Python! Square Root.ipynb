{
 "cells": [
  {
   "cell_type": "code",
   "execution_count": 1,
   "id": "af28ed85",
   "metadata": {},
   "outputs": [],
   "source": [
    "import math"
   ]
  },
  {
   "cell_type": "markdown",
   "id": "dae0c677",
   "metadata": {},
   "source": [
    "### **Math Module's Square Root Function**"
   ]
  },
  {
   "cell_type": "code",
   "execution_count": 2,
   "id": "d9d850bd",
   "metadata": {},
   "outputs": [
    {
     "data": {
      "text/plain": [
       "3.0"
      ]
     },
     "execution_count": 2,
     "metadata": {},
     "output_type": "execute_result"
    }
   ],
   "source": [
    "math.sqrt(9)"
   ]
  },
  {
   "cell_type": "code",
   "execution_count": 3,
   "id": "99b47454",
   "metadata": {},
   "outputs": [
    {
     "ename": "ValueError",
     "evalue": "math domain error",
     "output_type": "error",
     "traceback": [
      "\u001b[1;31m-------------------------\u001b[0m",
      "\u001b[1;31mValueError\u001b[0mTraceback (most recent call last)",
      "Cell \u001b[1;32mIn [3], line 1\u001b[0m\n\u001b[1;32m----> 1\u001b[0m \u001b[43mmath\u001b[49m\u001b[38;5;241;43m.\u001b[39;49m\u001b[43msqrt\u001b[49m\u001b[43m(\u001b[49m\u001b[38;5;241;43m-\u001b[39;49m\u001b[38;5;241;43m9\u001b[39;49m\u001b[43m)\u001b[49m\n",
      "\u001b[1;31mValueError\u001b[0m: math domain error"
     ]
    }
   ],
   "source": [
    "math.sqrt(-9)"
   ]
  },
  {
   "cell_type": "markdown",
   "id": "d260f1df",
   "metadata": {},
   "source": [
    "### **Custom Square Root Function**"
   ]
  },
  {
   "cell_type": "code",
   "execution_count": 5,
   "id": "a34813ea",
   "metadata": {},
   "outputs": [],
   "source": [
    "def sqroot(num):\n",
    "    return num**(1/2)"
   ]
  },
  {
   "cell_type": "code",
   "execution_count": 7,
   "id": "48397d7a",
   "metadata": {},
   "outputs": [
    {
     "data": {
      "text/plain": [
       "(1.8369701987210297e-16+3j)"
      ]
     },
     "execution_count": 7,
     "metadata": {},
     "output_type": "execute_result"
    }
   ],
   "source": [
    "sqroot(-9)"
   ]
  },
  {
   "cell_type": "markdown",
   "id": "4fee5bb8",
   "metadata": {},
   "source": [
    "## **Timing the functions**"
   ]
  },
  {
   "cell_type": "code",
   "execution_count": 8,
   "id": "dd365c5e",
   "metadata": {},
   "outputs": [
    {
     "name": "stdout",
     "output_type": "stream",
     "text": [
      "180 ms ± 9.09 ms per loop (mean ± std. dev. of 7 runs, 10 loops each)\n"
     ]
    }
   ],
   "source": [
    "%timeit [math.sqrt(num) for num in range(0,1000000)]"
   ]
  },
  {
   "cell_type": "code",
   "execution_count": 9,
   "id": "9495badc",
   "metadata": {},
   "outputs": [
    {
     "name": "stdout",
     "output_type": "stream",
     "text": [
      "286 ms ± 8.37 ms per loop (mean ± std. dev. of 7 runs, 1 loop each)\n"
     ]
    }
   ],
   "source": [
    "%timeit [sqroot(num) for num in range(0,1000000)]"
   ]
  },
  {
   "cell_type": "markdown",
   "id": "7a2a75ab",
   "metadata": {},
   "source": [
    "# **References and Additional Learning**"
   ]
  },
  {
   "cell_type": "markdown",
   "id": "aa499784",
   "metadata": {},
   "source": [
    "## **Website**\n",
    "\n",
    "- **[Mathematical Function within the Math Module](https://docs.python.org/3/library/math.html) from Python.org**"
   ]
  },
  {
   "cell_type": "markdown",
   "id": "86750210",
   "metadata": {},
   "source": [
    "# **Connect**\n",
    "- **Feel free to connect with Adrian on [YouTube](https://www.youtube.com/channel/UCPuDxI3xb_ryUUMfkm0jsRA), [LinkedIn](https://www.linkedin.com/in/adrian-dolinay-frm-96a289106/), [Twitter](https://twitter.com/DolinayG), [GitHub](https://github.com/ad17171717) and [Odysee](https://odysee.com/@adriandolinay:0). Happy coding!**"
   ]
  }
 ],
 "metadata": {
  "hide_input": false,
  "kernelspec": {
   "display_name": "Python 3 (ipykernel)",
   "language": "python",
   "name": "python3"
  },
  "language_info": {
   "codemirror_mode": {
    "name": "ipython",
    "version": 3
   },
   "file_extension": ".py",
   "mimetype": "text/x-python",
   "name": "python",
   "nbconvert_exporter": "python",
   "pygments_lexer": "ipython3",
   "version": "3.10.7"
  }
 },
 "nbformat": 4,
 "nbformat_minor": 5
}

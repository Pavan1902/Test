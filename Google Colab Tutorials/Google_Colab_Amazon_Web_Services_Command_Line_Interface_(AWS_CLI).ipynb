{
  "nbformat": 4,
  "nbformat_minor": 0,
  "metadata": {
    "colab": {
      "name": "Google Colab - Amazon Web Services Command Line Interface (AWS CLI).ipynb",
      "provenance": [],
      "collapsed_sections": []
    },
    "kernelspec": {
      "name": "python3",
      "display_name": "Python 3"
    },
    "language_info": {
      "name": "python"
    }
  },
  "cells": [
    {
      "cell_type": "code",
      "execution_count": null,
      "metadata": {
        "id": "ulS6sxBP1KuE"
      },
      "outputs": [],
      "source": [
        "!pip install awscli\n",
        "\n",
        "from IPython.display import clear_output\n",
        "clear_output()"
      ]
    },
    {
      "cell_type": "markdown",
      "source": [
        "# **Amazon Web Services Command Line (AWS CLI)**\n",
        "\n",
        "**The AWS Command Line Interface (CLI) is a unified tool to manage AWS services. AWS CLI v2 offers several new features including improved installers, new configuration options such as AWS Single Sign-On (SSO), and various interactive features.**"
      ],
      "metadata": {
        "id": "Gub3u7uZCWqY"
      }
    },
    {
      "cell_type": "markdown",
      "source": [
        "<sup>[AWS Command Line Interface](https://docs.aws.amazon.com/cli/latest/reference/ec2/index.html) from Amazon.com</sup>\n",
        "\n"
      ],
      "metadata": {
        "id": "oqXjaT44C0Zr"
      }
    },
    {
      "cell_type": "code",
      "source": [
        "#to access AWS need to confirm your security credentials, the default output format, and the default AWS region\n",
        "!aws configure"
      ],
      "metadata": {
        "id": "A3ufZEuv1fdc"
      },
      "execution_count": null,
      "outputs": []
    },
    {
      "cell_type": "code",
      "source": [
        "!aws get-latest-configuration"
      ],
      "metadata": {
        "id": "fwwyxO1IAAwV"
      },
      "execution_count": null,
      "outputs": []
    },
    {
      "cell_type": "code",
      "source": [
        "!aws cloud9 help"
      ],
      "metadata": {
        "id": "RChYQQRnAAyx"
      },
      "execution_count": null,
      "outputs": []
    },
    {
      "cell_type": "code",
      "source": [
        "!aws ec2 describe-spot-price-history --instance-types m1.xlarge --product-description \"Linux/UNIX (Amazon VPC)\" --start-time 2022-04-06T07:08:09 --end-time 2022-04-07T08:09:10 > m1xl.txt"
      ],
      "metadata": {
        "id": "EHImSJUgAA1k"
      },
      "execution_count": null,
      "outputs": []
    },
    {
      "cell_type": "markdown",
      "source": [
        "# **References and Additional Learning**"
      ],
      "metadata": {
        "id": "96881G30DO8f"
      }
    },
    {
      "cell_type": "markdown",
      "source": [
        "## **Websites**\n",
        "\n",
        "- **[AWS Command Line Interface](https://docs.aws.amazon.com/cli/latest/reference/ec2/index.html) on Amazon.com**\n",
        "\n",
        "- **[AWS CLI Command Reference](https://docs.aws.amazon.com/cli/latest/reference/) on Amazon.com**\n",
        "\n",
        "- **[AWS Community Forum](https://repost.aws/tags/TASjhA8h35SAyOPVeqNO2b4Q) on Amazon.com**\n",
        "\n",
        "- **[aws-cli project](https://github.com/aws/aws-cli) on GitHub.com**"
      ],
      "metadata": {
        "id": "bqA8M6hXDPgD"
      }
    },
    {
      "cell_type": "markdown",
      "source": [
        "# **Connect**\n",
        "- **Feel free to connect with Adrian on [YouTube](https://www.youtube.com/channel/UCPuDxI3xb_ryUUMfkm0jsRA), [LinkedIn](https://www.linkedin.com/in/adrian-dolinay-frm-96a289106/), [Twitter](https://twitter.com/DolinayG) and [GitHub](https://github.com/ad17171717). Happy coding!**"
      ],
      "metadata": {
        "id": "46MBOz7SDTUN"
      }
    }
  ]
}
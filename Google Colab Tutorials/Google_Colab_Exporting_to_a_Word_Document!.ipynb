{
  "nbformat": 4,
  "nbformat_minor": 0,
  "metadata": {
    "colab": {
      "name": "Google Colab - Exporting to a Word Document!.ipynb",
      "provenance": [],
      "collapsed_sections": []
    },
    "kernelspec": {
      "name": "python3",
      "display_name": "Python 3"
    },
    "language_info": {
      "name": "python"
    }
  },
  "cells": [
    {
      "cell_type": "code",
      "source": [
        "!pip install pandoc\n",
        "import pandoc"
      ],
      "metadata": {
        "id": "xZwl8e2J-F-n"
      },
      "execution_count": null,
      "outputs": []
    },
    {
      "cell_type": "markdown",
      "source": [
        "# **Notebook to Word Doc**"
      ],
      "metadata": {
        "id": "ILv7U3lv-GIZ"
      }
    },
    {
      "cell_type": "code",
      "source": [
        "!jupyter nbconvert --to html /content/Google_Colab_+_Git_Pushing_Changes_to_a_GitHub_Repo!.ipynb"
      ],
      "metadata": {
        "colab": {
          "base_uri": "https://localhost:8080/"
        },
        "id": "SBDNoXg775OW",
        "outputId": "7c77e06c-b6a5-4d40-f810-35a1afbccb5d"
      },
      "execution_count": 3,
      "outputs": [
        {
          "output_type": "stream",
          "name": "stdout",
          "text": [
            "[NbConvertApp] Converting notebook /content/Google_Colab_+_Git_Pushing_Changes_to_a_GitHub_Repo!.ipynb to html\n",
            "[NbConvertApp] Writing 282162 bytes to /content/Google_Colab_+_Git_Pushing_Changes_to_a_GitHub_Repo!.html\n"
          ]
        }
      ]
    },
    {
      "cell_type": "code",
      "source": [
        "!pandoc /content/Google_Colab_+_Git_Pushing_Changes_to_a_GitHub_Repo!.html -s -o Google_Colab+Git+GitHub.docx"
      ],
      "metadata": {
        "id": "nS47sHO075RG"
      },
      "execution_count": 4,
      "outputs": []
    },
    {
      "cell_type": "markdown",
      "source": [
        "# **Issue with Exporting LaTeX**"
      ],
      "metadata": {
        "id": "2P1Z7ZETgcjM"
      }
    },
    {
      "cell_type": "code",
      "source": [
        "!jupyter nbconvert --to html /content/Machine_Learning_with_Python!_Simple_Linear_Regression.ipynb"
      ],
      "metadata": {
        "colab": {
          "base_uri": "https://localhost:8080/"
        },
        "id": "LAFOJTxu74Ff",
        "outputId": "81a9ba58-075b-4404-893f-57c639e48cf9"
      },
      "execution_count": 5,
      "outputs": [
        {
          "output_type": "stream",
          "name": "stdout",
          "text": [
            "[NbConvertApp] Converting notebook /content/Machine_Learning_with_Python!_Simple_Linear_Regression.ipynb to html\n",
            "[NbConvertApp] Writing 921761 bytes to /content/Machine_Learning_with_Python!_Simple_Linear_Regression.html\n"
          ]
        }
      ]
    },
    {
      "cell_type": "code",
      "source": [
        "!pandoc /content/Machine_Learning_with_Python!_Simple_Linear_Regression.html -s -o ml_lin_reg.docx"
      ],
      "metadata": {
        "id": "yZ0rbHc074IO"
      },
      "execution_count": 6,
      "outputs": []
    },
    {
      "cell_type": "markdown",
      "source": [
        "# **References and Additional Learning**"
      ],
      "metadata": {
        "id": "b-_BxrH_xPhg"
      }
    },
    {
      "cell_type": "markdown",
      "source": [
        "## **Website**\n",
        "\n",
        "- **[Pandoc Documentation](https://pandoc.org/getting-started.html)**"
      ],
      "metadata": {
        "id": "aPt0jr37yiOp"
      }
    },
    {
      "cell_type": "markdown",
      "source": [
        "# **Connect**\n",
        "\n",
        "- **Feel free to connect with Adrian on [YouTube](https://www.youtube.com/channel/UCPuDxI3xb_ryUUMfkm0jsRA), [LinkedIn](https://www.linkedin.com/in/adrian-dolinay-frm-96a289106/), [Twitter](https://twitter.com/DolinayG) and [GitHub](https://github.com/ad17171717). Happy coding!**"
      ],
      "metadata": {
        "id": "lMWwkiDexMGl"
      }
    }
  ]
}
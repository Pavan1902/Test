{
  "nbformat": 4,
  "nbformat_minor": 0,
  "metadata": {
    "colab": {
      "provenance": [],
      "authorship_tag": "ABX9TyOj4ugxP7QK9BNz4UDhjjxJ",
      "include_colab_link": true
    },
    "kernelspec": {
      "name": "python3",
      "display_name": "Python 3"
    },
    "language_info": {
      "name": "python"
    }
  },
  "cells": [
    {
      "cell_type": "markdown",
      "metadata": {
        "id": "view-in-github",
        "colab_type": "text"
      },
      "source": [
        "<a href=\"https://colab.research.google.com/github/ad17171717/YouTube-Tutorials/blob/main/Google%20Colab%20Tutorials/Searching_a_PDF/Google_Colab_Searching_a_PDF!.ipynb\" target=\"_parent\"><img src=\"https://colab.research.google.com/assets/colab-badge.svg\" alt=\"Open In Colab\"/></a>"
      ]
    },
    {
      "cell_type": "markdown",
      "source": [
        "# **pdfgrep**\n",
        "\n",
        "**pdfgrep is a commandline utility to search text in PDF files.**\n",
        "\n",
        "## **Features**\n",
        "\n",
        "- **Grep compatible: pdfgrep tries to be compatible with GNU grep,\n",
        "where it makes sense. Many of your favorite grep options are\n",
        "supported (such as `-r`, `-i`, `-n` or `-c`).**\n",
        "\n",
        "- **Search many PDFs at once, even recursively in directories**\n",
        "\n",
        "- **Regular expressions: Posix or PCRE**\n",
        "\n",
        "- **Support for password protected PDFs**"
      ],
      "metadata": {
        "id": "pEnC2uypaaKM"
      }
    },
    {
      "cell_type": "markdown",
      "source": [
        "<sup>Source: [pdfgrep](https://gitlab.com/pdfgrep/pdfgrep) from GitLab</sup>"
      ],
      "metadata": {
        "id": "pe18QFu0dlMr"
      }
    },
    {
      "cell_type": "code",
      "source": [
        "!sudo apt-get update"
      ],
      "metadata": {
        "colab": {
          "base_uri": "https://localhost:8080/"
        },
        "id": "y-kW8wrLaZnM",
        "outputId": "61752551-4cd8-4120-9b53-d6ced9e3c79f"
      },
      "execution_count": 1,
      "outputs": [
        {
          "output_type": "stream",
          "name": "stdout",
          "text": [
            "\r0% [Working]\r            \rGet:1 https://cloud.r-project.org/bin/linux/ubuntu focal-cran40/ InRelease [3,622 B]\n",
            "Hit:2 https://developer.download.nvidia.com/compute/cuda/repos/ubuntu2004/x86_64  InRelease\n",
            "Get:3 http://security.ubuntu.com/ubuntu focal-security InRelease [114 kB]\n",
            "Hit:4 http://archive.ubuntu.com/ubuntu focal InRelease\n",
            "Get:5 http://ppa.launchpad.net/c2d4u.team/c2d4u4.0+/ubuntu focal InRelease [18.1 kB]\n",
            "Get:6 https://cloud.r-project.org/bin/linux/ubuntu focal-cran40/ Packages [78.0 kB]\n",
            "Get:7 http://archive.ubuntu.com/ubuntu focal-updates InRelease [114 kB]\n",
            "Hit:8 http://ppa.launchpad.net/cran/libgit2/ubuntu focal InRelease\n",
            "Get:9 http://archive.ubuntu.com/ubuntu focal-backports InRelease [108 kB]\n",
            "Get:10 http://ppa.launchpad.net/deadsnakes/ppa/ubuntu focal InRelease [18.1 kB]\n",
            "Get:11 http://security.ubuntu.com/ubuntu focal-security/main amd64 Packages [2,773 kB]\n",
            "Hit:12 http://ppa.launchpad.net/graphics-drivers/ppa/ubuntu focal InRelease\n",
            "Hit:13 http://ppa.launchpad.net/ubuntugis/ppa/ubuntu focal InRelease\n",
            "Get:14 http://ppa.launchpad.net/c2d4u.team/c2d4u4.0+/ubuntu focal/main Sources [2,589 kB]\n",
            "Get:15 http://archive.ubuntu.com/ubuntu focal-updates/universe amd64 Packages [1,351 kB]\n",
            "Get:16 http://security.ubuntu.com/ubuntu focal-security/universe amd64 Packages [1,056 kB]\n",
            "Get:17 http://archive.ubuntu.com/ubuntu focal-updates/main amd64 Packages [3,252 kB]\n",
            "Get:18 http://ppa.launchpad.net/c2d4u.team/c2d4u4.0+/ubuntu focal/main amd64 Packages [1,222 kB]\n",
            "Get:19 http://ppa.launchpad.net/deadsnakes/ppa/ubuntu focal/main amd64 Packages [29.5 kB]\n",
            "Fetched 12.7 MB in 5s (2,748 kB/s)\n",
            "Reading package lists... Done\n"
          ]
        }
      ]
    },
    {
      "cell_type": "code",
      "source": [
        "!sudo apt install pdfgrep"
      ],
      "metadata": {
        "colab": {
          "base_uri": "https://localhost:8080/"
        },
        "id": "pANApLsgaTmc",
        "outputId": "753e2d9e-f2fa-4a46-bff5-dc2f9880ed7e"
      },
      "execution_count": 2,
      "outputs": [
        {
          "output_type": "stream",
          "name": "stdout",
          "text": [
            "Reading package lists... Done\n",
            "Building dependency tree       \n",
            "Reading state information... Done\n",
            "The following additional packages will be installed:\n",
            "  libpoppler-cpp0v5\n",
            "The following NEW packages will be installed:\n",
            "  libpoppler-cpp0v5 pdfgrep\n",
            "0 upgraded, 2 newly installed, 0 to remove and 49 not upgraded.\n",
            "Need to get 73.3 kB of archives.\n",
            "After this operation, 262 kB of additional disk space will be used.\n",
            "Get:1 http://archive.ubuntu.com/ubuntu focal-updates/main amd64 libpoppler-cpp0v5 amd64 0.86.1-0ubuntu1.1 [35.6 kB]\n",
            "Get:2 http://archive.ubuntu.com/ubuntu focal/universe amd64 pdfgrep amd64 2.1.2-1build1 [37.7 kB]\n",
            "Fetched 73.3 kB in 1s (101 kB/s)\n",
            "debconf: unable to initialize frontend: Dialog\n",
            "debconf: (No usable dialog-like program is installed, so the dialog based frontend cannot be used. at /usr/share/perl5/Debconf/FrontEnd/Dialog.pm line 76, <> line 2.)\n",
            "debconf: falling back to frontend: Readline\n",
            "debconf: unable to initialize frontend: Readline\n",
            "debconf: (This frontend requires a controlling tty.)\n",
            "debconf: falling back to frontend: Teletype\n",
            "dpkg-preconfigure: unable to re-open stdin: \n",
            "Selecting previously unselected package libpoppler-cpp0v5:amd64.\n",
            "(Reading database ... 122542 files and directories currently installed.)\n",
            "Preparing to unpack .../libpoppler-cpp0v5_0.86.1-0ubuntu1.1_amd64.deb ...\n",
            "Unpacking libpoppler-cpp0v5:amd64 (0.86.1-0ubuntu1.1) ...\n",
            "Selecting previously unselected package pdfgrep.\n",
            "Preparing to unpack .../pdfgrep_2.1.2-1build1_amd64.deb ...\n",
            "Unpacking pdfgrep (2.1.2-1build1) ...\n",
            "Setting up libpoppler-cpp0v5:amd64 (0.86.1-0ubuntu1.1) ...\n",
            "Setting up pdfgrep (2.1.2-1build1) ...\n",
            "Processing triggers for man-db (2.9.1-1) ...\n",
            "Processing triggers for libc-bin (2.31-0ubuntu9.9) ...\n"
          ]
        }
      ]
    },
    {
      "cell_type": "code",
      "source": [
        "!pdfgrep --version"
      ],
      "metadata": {
        "colab": {
          "base_uri": "https://localhost:8080/"
        },
        "id": "qRE8JN7faF4P",
        "outputId": "bf9e92a6-e3e9-430c-b2f9-a8ddbf77563a"
      },
      "execution_count": 3,
      "outputs": [
        {
          "output_type": "stream",
          "name": "stdout",
          "text": [
            "This is pdfgrep version 2.1.2.\n",
            "\n",
            "Using poppler version 0.86.1\n",
            "Using libpcre version 8.39 2016-06-14\n"
          ]
        }
      ]
    },
    {
      "cell_type": "markdown",
      "source": [
        "## **Searching for a Term/Phrase**"
      ],
      "metadata": {
        "id": "JqV60G0qb3Vs"
      }
    },
    {
      "cell_type": "code",
      "source": [
        "%%bash\n",
        "term=\"conditional probability distribution\"\n",
        "echo $term"
      ],
      "metadata": {
        "colab": {
          "base_uri": "https://localhost:8080/"
        },
        "id": "DupyqzsRjhi7",
        "outputId": "c54620de-b371-48fa-d8d2-9c4ea8ad0cda"
      },
      "execution_count": 20,
      "outputs": [
        {
          "output_type": "stream",
          "name": "stdout",
          "text": [
            "conditional probability distribution\n"
          ]
        }
      ]
    },
    {
      "cell_type": "code",
      "source": [
        "!pdfgrep \"conditional probability distribution\" \"/content/Course Notes for Bayesian Models for Machine Learning.pdf\""
      ],
      "metadata": {
        "colab": {
          "base_uri": "https://localhost:8080/"
        },
        "id": "EiXx5Sdpi6By",
        "outputId": "d152261a-4e7b-4b6c-d808-1156798f5f1e"
      },
      "execution_count": 21,
      "outputs": [
        {
          "output_type": "stream",
          "name": "stdout",
          "text": [
            "                            P (A|B) : \u001b[01;31m\u001b[Kconditional probability distribution\u001b[m\u001b[K\n"
          ]
        }
      ]
    },
    {
      "cell_type": "markdown",
      "source": [
        "## **Search for Pages Containing the Term/Phrase**"
      ],
      "metadata": {
        "id": "lZUo-orQfCp0"
      }
    },
    {
      "cell_type": "code",
      "source": [
        "!pdfgrep -p \"conditional probability distribution\" \"/content/Course Notes for Bayesian Models for Machine Learning.pdf\""
      ],
      "metadata": {
        "colab": {
          "base_uri": "https://localhost:8080/"
        },
        "id": "d3uT0TCvbsAU",
        "outputId": "dc8fe649-bfe6-466b-b7c2-e7c3de3e1444"
      },
      "execution_count": 10,
      "outputs": [
        {
          "output_type": "stream",
          "name": "stdout",
          "text": [
            "\u001b[32m\u001b[K4\u001b[m\u001b[K\u001b[36m\u001b[K:\u001b[m\u001b[K1\n"
          ]
        }
      ]
    },
    {
      "cell_type": "markdown",
      "source": [
        "## **Return Count of Term/Phrase in the File**"
      ],
      "metadata": {
        "id": "cCJcTzBUk-3K"
      }
    },
    {
      "cell_type": "code",
      "source": [
        "!pdfgrep -c \"Gaussian mixture model\" \"/content/Course Notes for Bayesian Models for Machine Learning.pdf\""
      ],
      "metadata": {
        "colab": {
          "base_uri": "https://localhost:8080/"
        },
        "id": "XdOpYOrnlP-7",
        "outputId": "21bdc660-c6fa-4ef5-e854-5971d2327332"
      },
      "execution_count": 29,
      "outputs": [
        {
          "output_type": "stream",
          "name": "stdout",
          "text": [
            "9\n"
          ]
        }
      ]
    },
    {
      "cell_type": "markdown",
      "source": [
        "## **Case Insensitive Search**"
      ],
      "metadata": {
        "id": "oCBmLQInkwVy"
      }
    },
    {
      "cell_type": "code",
      "source": [
        "!pdfgrep -i \"Posterior Calculation\" \"/content/Course Notes for Bayesian Models for Machine Learning.pdf\""
      ],
      "metadata": {
        "colab": {
          "base_uri": "https://localhost:8080/"
        },
        "id": "rmOBW6sBct7z",
        "outputId": "de93a42a-fe16-4556-a891-493179329e9d"
      },
      "execution_count": 30,
      "outputs": [
        {
          "output_type": "stream",
          "name": "stdout",
          "text": [
            "• \u001b[01;31m\u001b[KPosterior calculation\u001b[m\u001b[K: Earlier, we saw how we could calculate the posterior distribution of this\n",
            "   \u001b[01;31m\u001b[KPosterior calculation\u001b[m\u001b[K: We use Bayes rule to try to calculate the posterior,\n",
            "         priors are assumed on the model, \u001b[01;31m\u001b[Kposterior calculation\u001b[m\u001b[K using Bayes rule still factors into\n",
            "• \u001b[01;31m\u001b[KPosterior calculation\u001b[m\u001b[K: Since we can’t calculate p(π, µ, Λ, c|x) we use a variational approximation\n"
          ]
        }
      ]
    },
    {
      "cell_type": "markdown",
      "source": [
        "## **Searching a Password Protected PDF**"
      ],
      "metadata": {
        "id": "2o8yr86IngOr"
      }
    },
    {
      "cell_type": "code",
      "source": [
        "!pdfgrep -c --password \"abcdef\" \"Gaussian mixture model\" \"/content/Course Notes for Bayesian Models for Machine Learning (SECURE).pdf\""
      ],
      "metadata": {
        "colab": {
          "base_uri": "https://localhost:8080/"
        },
        "id": "dEQTqlecngVT",
        "outputId": "2495d0dd-9375-43e4-cfe1-948848b5df7c"
      },
      "execution_count": 34,
      "outputs": [
        {
          "output_type": "stream",
          "name": "stdout",
          "text": [
            "9\n"
          ]
        }
      ]
    },
    {
      "cell_type": "markdown",
      "source": [
        "# **References and Additional Learning**"
      ],
      "metadata": {
        "id": "rkPLf7frcxZr"
      }
    },
    {
      "cell_type": "markdown",
      "source": [
        "## **Website**\n",
        "\n",
        "- **[pdfgrep Documentation](https://pdfgrep.org/doc.html)**\n",
        "\n",
        "- **[pdfgrep](https://gitlab.com/pdfgrep/pdfgrep) from GitLab**"
      ],
      "metadata": {
        "id": "emvROF5dc1C7"
      }
    },
    {
      "cell_type": "markdown",
      "source": [
        "# **Connect**\n",
        "- **Feel free to connect with Adrian on [YouTube](https://www.youtube.com/channel/UCPuDxI3xb_ryUUMfkm0jsRA), [LinkedIn](https://www.linkedin.com/in/adrian-dolinay-frm-96a289106/), [Twitter](https://twitter.com/DolinayG), [GitHub](https://github.com/ad17171717), [Medium](https://adriandolinay.medium.com/) and [Odysee](https://odysee.com/@adriandolinay:0). Happy coding!**"
      ],
      "metadata": {
        "id": "PUwbG_BocuFj"
      }
    }
  ]
}
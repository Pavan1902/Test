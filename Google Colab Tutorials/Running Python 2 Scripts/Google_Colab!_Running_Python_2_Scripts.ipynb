{
  "nbformat": 4,
  "nbformat_minor": 0,
  "metadata": {
    "colab": {
      "provenance": [],
      "authorship_tag": "ABX9TyMpiu4d2U46UhsjpnX7CllW",
      "include_colab_link": true
    },
    "kernelspec": {
      "name": "python3",
      "display_name": "Python 3"
    },
    "language_info": {
      "name": "python"
    }
  },
  "cells": [
    {
      "cell_type": "markdown",
      "metadata": {
        "id": "view-in-github",
        "colab_type": "text"
      },
      "source": [
        "<a href=\"https://colab.research.google.com/github/ad17171717/YouTube-Tutorials/blob/main/Google%20Colab%20Tutorials/Running%20Python%202%20Scripts/Google_Colab!_Running_Python_2_Scripts.ipynb\" target=\"_parent\"><img src=\"https://colab.research.google.com/assets/colab-badge.svg\" alt=\"Open In Colab\"/></a>"
      ]
    },
    {
      "cell_type": "markdown",
      "source": [
        "# **Installing Python 2 in the Colab Session**"
      ],
      "metadata": {
        "id": "IwWnXV-rn5hW"
      }
    },
    {
      "cell_type": "code",
      "source": [
        "#retrieve the latest version of the package list\n",
        "!sudo apt update"
      ],
      "metadata": {
        "id": "rlSPc1a3n-e-"
      },
      "execution_count": null,
      "outputs": []
    },
    {
      "cell_type": "code",
      "source": [
        "!sudo apt install python2"
      ],
      "metadata": {
        "id": "v7g9XEdcmL10"
      },
      "execution_count": null,
      "outputs": []
    },
    {
      "cell_type": "code",
      "source": [
        "#checking that Python 2 is installed in the Colab session\n",
        "!python2 --version"
      ],
      "metadata": {
        "colab": {
          "base_uri": "https://localhost:8080/"
        },
        "id": "4y4oJlmjmO7t",
        "outputId": "a4ce22ca-6ceb-43ca-b396-c8d0e14fa31a"
      },
      "execution_count": 3,
      "outputs": [
        {
          "output_type": "stream",
          "name": "stdout",
          "text": [
            "Python 2.7.18\n"
          ]
        }
      ]
    },
    {
      "cell_type": "markdown",
      "source": [
        "# **Running a Python 2 Script**"
      ],
      "metadata": {
        "id": "AGRXo3LBoAX2"
      }
    },
    {
      "cell_type": "code",
      "source": [
        "#a Python 2 script can be executed using the \"python2\" command\n",
        "!python2 /content/python_2_script.py"
      ],
      "metadata": {
        "colab": {
          "base_uri": "https://localhost:8080/"
        },
        "id": "V0Wb3niGmRUc",
        "outputId": "9a13ccd5-85f1-41ef-bd34-dfc0070d0ad6"
      },
      "execution_count": 4,
      "outputs": [
        {
          "output_type": "stream",
          "name": "stdout",
          "text": [
            "Hello World\n",
            "2\n",
            "<type 'type'>\n"
          ]
        }
      ]
    },
    {
      "cell_type": "code",
      "source": [
        "#we receive an error if we try to run the script with Python 3\n",
        "!python3 /content/python_2_script.py"
      ],
      "metadata": {
        "colab": {
          "base_uri": "https://localhost:8080/"
        },
        "id": "eOkCcwaW6dxN",
        "outputId": "5129f761-bd09-437c-9752-e30a0afde146"
      },
      "execution_count": 5,
      "outputs": [
        {
          "output_type": "stream",
          "name": "stdout",
          "text": [
            "  File \"/content/python_2_script.py\", line 2\n",
            "    print 'Hello World'\n",
            "    ^^^^^^^^^^^^^^^^^^^\n",
            "SyntaxError: Missing parentheses in call to 'print'. Did you mean print(...)?\n"
          ]
        }
      ]
    },
    {
      "cell_type": "markdown",
      "source": [
        "# **References and Additional Learning**"
      ],
      "metadata": {
        "id": "_ic834zK4tUk"
      }
    },
    {
      "cell_type": "markdown",
      "source": [
        "## **Documentation**\n",
        "\n",
        "- **[Python 2.7.18 documentation](https://docs.python.org/2.7/)**\n",
        "\n",
        "- **[What’s New In Python 3.0](https://docs.python.org/3/whatsnew/3.0.html) from Python.org**"
      ],
      "metadata": {
        "id": "VfCJbwWO5ZD0"
      }
    },
    {
      "cell_type": "markdown",
      "source": [
        "# **Connect**\n",
        "- **Feel free to connect with Adrian on [YouTube](https://www.youtube.com/channel/UCPuDxI3xb_ryUUMfkm0jsRA), [LinkedIn](https://www.linkedin.com/in/adrian-dolinay-frm-96a289106/), [X](https://twitter.com/DolinayG), [GitHub](https://github.com/ad17171717), [Medium](https://adriandolinay.medium.com/) and [Odysee](https://odysee.com/@adriandolinay:0). Happy coding!**"
      ],
      "metadata": {
        "id": "CKwJiDp74ueT"
      }
    }
  ]
}
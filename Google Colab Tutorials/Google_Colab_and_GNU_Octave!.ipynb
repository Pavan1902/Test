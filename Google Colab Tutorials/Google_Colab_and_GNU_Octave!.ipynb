{
  "nbformat": 4,
  "nbformat_minor": 0,
  "metadata": {
    "colab": {
      "provenance": [],
      "gpuType": "T4",
      "authorship_tag": "ABX9TyPgdl9xCaKkHgh/kAcsPyzg",
      "include_colab_link": true
    },
    "kernelspec": {
      "name": "python3",
      "display_name": "Python 3"
    },
    "language_info": {
      "name": "python"
    }
  },
  "cells": [
    {
      "cell_type": "markdown",
      "metadata": {
        "id": "view-in-github",
        "colab_type": "text"
      },
      "source": [
        "<a href=\"https://colab.research.google.com/github/ad17171717/YouTube-Tutorials/blob/main/Google%20Colab%20Tutorials/Google_Colab_and_GNU_Octave!.ipynb\" target=\"_parent\"><img src=\"https://colab.research.google.com/assets/colab-badge.svg\" alt=\"Open In Colab\"/></a>"
      ]
    },
    {
      "cell_type": "markdown",
      "source": [
        "# **GNU Octave**\n",
        "\n",
        "**GNU Octave is an open source, high-level interpreted language. Octave is primarly used for numerical computations. The language provides capabilities for the numerical solution of linear and nonlinear problems, and for performing other numerical experiments.**"
      ],
      "metadata": {
        "id": "9eLv61JiRlD-"
      }
    },
    {
      "cell_type": "markdown",
      "source": [
        "<sup>Source: [GNU Octave Wiki](https://wiki.octave.org/GNU_Octave_Wiki)</sup>"
      ],
      "metadata": {
        "id": "XAL5Rvd7FPsz"
      }
    },
    {
      "cell_type": "markdown",
      "source": [
        "## **Installing GNU Octave into a Colab Session**"
      ],
      "metadata": {
        "id": "JcCqpXOdRkL-"
      }
    },
    {
      "cell_type": "code",
      "source": [
        "from IPython import display"
      ],
      "metadata": {
        "id": "OyMHnKqmaNnI"
      },
      "execution_count": 1,
      "outputs": []
    },
    {
      "cell_type": "code",
      "source": [
        "!sudo apt-get update\n",
        "!sudo apt-get install octave\n",
        "\n",
        "display.clear_output()"
      ],
      "metadata": {
        "id": "GIjoN9doRi0n"
      },
      "execution_count": 2,
      "outputs": []
    },
    {
      "cell_type": "code",
      "source": [
        "#check that octave is installed\n",
        "!octave --version"
      ],
      "metadata": {
        "colab": {
          "base_uri": "https://localhost:8080/"
        },
        "id": "Re1w26LXO_3c",
        "outputId": "8ee5c5ae-15f5-4fa2-83ac-cbf7867fc21c"
      },
      "execution_count": 3,
      "outputs": [
        {
          "output_type": "stream",
          "name": "stdout",
          "text": [
            "octave: X11 DISPLAY environment variable not set\n",
            "octave: disabling GUI features\n",
            "GNU Octave, version 6.4.0\n",
            "Copyright (C) 2021 The Octave Project Developers.\n",
            "This is free software; see the source code for copying conditions.\n",
            "There is ABSOLUTELY NO WARRANTY; not even for MERCHANTABILITY or\n",
            "FITNESS FOR A PARTICULAR PURPOSE.\n",
            "\n",
            "Octave was configured for \"x86_64-pc-linux-gnu\".\n",
            "\n",
            "Additional information about Octave is available at https://www.octave.org.\n",
            "\n",
            "Please contribute if you find this software useful.\n",
            "For more information, visit https://www.octave.org/get-involved.html\n",
            "\n",
            "Read https://www.octave.org/bugs.html to learn how to submit bug reports.\n"
          ]
        }
      ]
    },
    {
      "cell_type": "markdown",
      "source": [
        "## **Simple Mathematical Operation**"
      ],
      "metadata": {
        "id": "1_NA2snJPwYW"
      }
    },
    {
      "cell_type": "code",
      "source": [
        "#magic command to write a cell to a file\n",
        "%%writefile multiply.m\n",
        "x = 10;\n",
        "y = 5;\n",
        "z = 1;\n",
        "\n",
        "display(x*y-1);"
      ],
      "metadata": {
        "colab": {
          "base_uri": "https://localhost:8080/"
        },
        "id": "EmhyWMXlPRt0",
        "outputId": "944e59ac-73b5-49c8-8601-b9d69bb4778e"
      },
      "execution_count": 4,
      "outputs": [
        {
          "output_type": "stream",
          "name": "stdout",
          "text": [
            "Writing multiply.m\n"
          ]
        }
      ]
    },
    {
      "cell_type": "code",
      "source": [
        "#we run octave by calling it as a command and executing the m-file with the code\n",
        "!octave multiply.m"
      ],
      "metadata": {
        "colab": {
          "base_uri": "https://localhost:8080/"
        },
        "id": "lDAJIDLiPr3T",
        "outputId": "c6a315bf-4dfd-4536-87e5-5606dfb87f4a"
      },
      "execution_count": 5,
      "outputs": [
        {
          "output_type": "stream",
          "name": "stdout",
          "text": [
            "octave: X11 DISPLAY environment variable not set\n",
            "octave: disabling GUI features\n",
            "49\n"
          ]
        }
      ]
    },
    {
      "cell_type": "markdown",
      "source": [
        "## **Linear Algebra**"
      ],
      "metadata": {
        "id": "1zQxQhmUp0oE"
      }
    },
    {
      "cell_type": "code",
      "source": [
        "%%writefile lin_alg.m\n",
        "#3x1 matrix\n",
        "A = [8 6 4];\n",
        "#1x3 matrix\n",
        "B = [8; 6; 4];\n",
        "\n",
        "#dot product\n",
        "display(dot(A,B));"
      ],
      "metadata": {
        "colab": {
          "base_uri": "https://localhost:8080/"
        },
        "id": "p7Ywjz4hp2sM",
        "outputId": "60acc412-6a1a-47de-f508-9e18a88d7c54"
      },
      "execution_count": 6,
      "outputs": [
        {
          "output_type": "stream",
          "name": "stdout",
          "text": [
            "Writing lin_alg.m\n"
          ]
        }
      ]
    },
    {
      "cell_type": "code",
      "source": [
        "!octave lin_alg.m"
      ],
      "metadata": {
        "colab": {
          "base_uri": "https://localhost:8080/"
        },
        "id": "FZ-g7tiHr3FE",
        "outputId": "4f695fef-cba0-4d84-f167-ae156d52805a"
      },
      "execution_count": 7,
      "outputs": [
        {
          "output_type": "stream",
          "name": "stdout",
          "text": [
            "octave: X11 DISPLAY environment variable not set\n",
            "octave: disabling GUI features\n",
            "116\n"
          ]
        }
      ]
    },
    {
      "cell_type": "markdown",
      "source": [
        "## **Generating a Plot**"
      ],
      "metadata": {
        "id": "-T7COCvjQ6W-"
      }
    },
    {
      "cell_type": "code",
      "source": [
        "%%writefile sin_plot.m\n",
        "# Create an evenly-spaced vector from -10..10\n",
        "x = -10:0.1:10;\n",
        "# y is also a vector\n",
        "y = sin (x);\n",
        "plot (x, y);\n",
        "title (\"Simple 2-D Plot\");\n",
        "xlabel (\"x\");\n",
        "ylabel (\"sin (x)\")\n",
        "#Can print to image or PDF\n",
        "print -dpng sin_plot.png;"
      ],
      "metadata": {
        "colab": {
          "base_uri": "https://localhost:8080/"
        },
        "id": "tglF0VSbPtzc",
        "outputId": "dec55eee-b100-4889-b917-4f5099bd15fb"
      },
      "execution_count": 8,
      "outputs": [
        {
          "output_type": "stream",
          "name": "stdout",
          "text": [
            "Writing sin_plot.m\n"
          ]
        }
      ]
    },
    {
      "cell_type": "markdown",
      "source": [
        "<sup>Source: [GNU Octave Documentation](https://octave.org/) from Octave.org</sup>"
      ],
      "metadata": {
        "id": "CedmFzROSJfn"
      }
    },
    {
      "cell_type": "code",
      "source": [
        "!octave sin_plot.m"
      ],
      "metadata": {
        "colab": {
          "base_uri": "https://localhost:8080/"
        },
        "id": "1IF4_yfdQMaF",
        "outputId": "0e98b7d8-5eb9-4a38-a292-ea7e5d58c2d2"
      },
      "execution_count": 9,
      "outputs": [
        {
          "output_type": "stream",
          "name": "stdout",
          "text": [
            "octave: X11 DISPLAY environment variable not set\n",
            "octave: disabling GUI features\n",
            "warning: using the gnuplot graphics toolkit is discouraged\n",
            "\n",
            "The gnuplot graphics toolkit is not actively maintained and has a number\n",
            "of limitations that are ulikely to be fixed.  Communication with gnuplot\n",
            "uses a one-directional pipe and limited information is passed back to the\n",
            "Octave interpreter so most changes made interactively in the plot window\n",
            "will not be reflected in the graphics properties managed by Octave.  For\n",
            "example, if the plot window is closed with a mouse click, Octave will not\n",
            "be notified and will not update it's internal list of open figure windows.\n",
            "We recommend using the qt toolkit instead.\n",
            "                                                                               \n",
            "                                                                               \n",
            "          |------------------------Simple 2-D Plot--------------------------|  \n",
            "       1 +|+              **              +   ***          +       ***   +-+|  \n",
            "         +|              *+ *             +  **  *         +      ** **    +|  \n",
            "          |             *   **               *   **              **   *     |  \n",
            "          |             *    *              *     *              *     *    |  \n",
            "     0.5 *|+           *      *             *      *            **     * +-+|  \n",
            "         *|            *      *            *       *            *       *   |  \n",
            "          |           *       **           *       **           *       *   |  \n",
            "          |           *        *           *        *          *        **  |  \n",
            "       0 +|*          *        *          *         *          *         *-+|  \n",
            "          |*         *          *         *          *        *          *  |  \n",
            "          |**        *          *        *           *        *           * |  \n",
            "          | *       *           **       *           **       *           * |  \n",
            "          | *       *            *       *            *      *            **|  \n",
            "    -0.5 +|+ *     **            *      *             *      *           +-*|  \n",
            "          |  *     *              *     *              *    *               |  \n",
            "          |   *   **              **   *               **   *               |  \n",
            "         +|-----------------------------------------------------------------|  \n",
            "      -1 +-+   ***        +         ***   +              ***             +-+   \n",
            "        -10              -5               0                5              10   \n",
            "                                          x                                    \n",
            "                                                                               \n"
          ]
        }
      ]
    },
    {
      "cell_type": "code",
      "source": [
        "display.Image('sin_plot.png')"
      ],
      "metadata": {
        "colab": {
          "base_uri": "https://localhost:8080/",
          "height": 671
        },
        "id": "AGq4rL9DQT0k",
        "outputId": "388258a6-8595-4ae8-d833-0bfe8042dd54"
      },
      "execution_count": 10,
      "outputs": [
        {
          "output_type": "execute_result",
          "data": {
            "image/png": "[encoded data removed]",
            "text/plain": [
              "<IPython.core.display.Image object>"
            ]
          },
          "metadata": {},
          "execution_count": 10
        }
      ]
    },
    {
      "cell_type": "markdown",
      "source": [
        "# **References and Additional Learning**"
      ],
      "metadata": {
        "id": "GRGw_V4qSVSW"
      }
    },
    {
      "cell_type": "markdown",
      "source": [
        "## **Textbooks**\n",
        "\n",
        "- **[Introduction to GNU Octave: A brief tutorial for linear algebra and calculus students (FREE!)](https://www.wcc.vccs.edu/sites/default/files/Introduction-to-GNU-Octave.pdf) by Jason Lachniet**\n",
        "\n",
        "- **[The GNU Octave 4.0 Reference Manual (FREE!)](https://docs.octave.org/octave.pdf) by John W. Eaton, David Bateman, Søren Hauberg and Rik Wehbring**"
      ],
      "metadata": {
        "id": "kE449VGIGtOT"
      }
    },
    {
      "cell_type": "markdown",
      "source": [
        "## **Websites**\n",
        "\n",
        "- **[GNU Octave Documentation](https://octave.org/) from Octave.org**\n",
        "\n",
        "- **[GNU Octave Wiki](https://wiki.octave.org/GNU_Octave_Wiki)**"
      ],
      "metadata": {
        "id": "bYaBPUawSVfG"
      }
    },
    {
      "cell_type": "markdown",
      "source": [
        "# **Connect**\n",
        "- **Feel free to connect with Adrian on [YouTube](https://www.youtube.com/channel/UCPuDxI3xb_ryUUMfkm0jsRA), [LinkedIn](https://www.linkedin.com/in/adrian-dolinay-frm-96a289106/), [Twitter](https://twitter.com/DolinayG), [GitHub](https://github.com/ad17171717), [Medium](https://adriandolinay.medium.com/) and [Odysee](https://odysee.com/@adriandolinay:0). Happy coding!**"
      ],
      "metadata": {
        "id": "S5bf4HL0SW62"
      }
    }
  ]
}
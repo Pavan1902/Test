{
  "nbformat": 4,
  "nbformat_minor": 0,
  "metadata": {
    "colab": {
      "name": "Google Colab - Exporting to a Markdown File!.ipynb",
      "provenance": [],
      "collapsed_sections": []
    },
    "kernelspec": {
      "name": "python3",
      "display_name": "Python 3"
    },
    "language_info": {
      "name": "python"
    }
  },
  "cells": [
    {
      "cell_type": "code",
      "source": [
        "!pip install https://github.com/aaren/notedown/tarball/master"
      ],
      "metadata": {
        "id": "KlpTvmgxUJDh"
      },
      "execution_count": null,
      "outputs": []
    },
    {
      "cell_type": "code",
      "source": [
        "#export to Markdown without cell outputs\n",
        "!notedown /content/notebook_here.ipynb --to markdown --strip > md_without_outputs.md"
      ],
      "metadata": {
        "id": "oGuke0qeaDTO"
      },
      "execution_count": null,
      "outputs": []
    },
    {
      "cell_type": "code",
      "source": [
        "#export to Markdown with cell outputs\n",
        "!notedown /content/notebook_here.ipynb --to markdown > md_with_outputs.md"
      ],
      "metadata": {
        "id": "J43Ah2lNUmUA"
      },
      "execution_count": null,
      "outputs": []
    },
    {
      "cell_type": "markdown",
      "source": [
        "# **References and Additional Learning**"
      ],
      "metadata": {
        "id": "xbq3FGokbigG"
      }
    },
    {
      "cell_type": "markdown",
      "source": [
        "## **Textbook**\n",
        "\n",
        "- **[bookdown: Authoring Books and Technical Documents with R Markdown (FREE!)](https://bookdown.org/yihui/bookdown/)**"
      ],
      "metadata": {
        "id": "Fgi5JkGXeRV7"
      }
    },
    {
      "cell_type": "markdown",
      "source": [
        "## **Websites**\n",
        "\n",
        "- **[Jekyll Website](https://jekyllrb.com/)**\n",
        "\n",
        "- **[Why Use Markdown?](https://www.markdownguide.org/getting-started/#why-use-markdown) from Markdown Guide**"
      ],
      "metadata": {
        "id": "5Zpg00PKbprm"
      }
    },
    {
      "cell_type": "markdown",
      "source": [
        "# **Connect**\n",
        "- **Feel free to connect with Adrian on [YouTube](https://www.youtube.com/channel/UCPuDxI3xb_ryUUMfkm0jsRA), [LinkedIn](https://www.linkedin.com/in/adrian-dolinay-frm-96a289106/), [Twitter](https://twitter.com/DolinayG), [GitHub](https://github.com/ad17171717) and [Odysee](https://odysee.com/@adriandolinay:0). Happy coding!**"
      ],
      "metadata": {
        "id": "bBvjDDwebxEK"
      }
    }
  ]
}
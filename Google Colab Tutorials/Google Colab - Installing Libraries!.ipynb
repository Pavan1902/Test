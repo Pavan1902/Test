{
  "nbformat": 4,
  "nbformat_minor": 0,
  "metadata": {
    "colab": {
      "provenance": []
    },
    "kernelspec": {
      "name": "python3",
      "display_name": "Python 3"
    },
    "language_info": {
      "name": "python"
    },
    "accelerator": "GPU",
    "gpuClass": "standard"
  },
  "cells": [
    {
      "cell_type": "code",
      "source": [
        "!pip freeze"
      ],
      "metadata": {
        "id": "VJY0hSyXnPdu"
      },
      "execution_count": null,
      "outputs": []
    },
    {
      "cell_type": "markdown",
      "source": [
        "# **Installing Libraries**\n",
        "\n",
        "**To import a library that is not in Colaboratory by default, they must first be installed using `!pip install` or `!apt-get install`.**"
      ],
      "metadata": {
        "id": "8N_aVaw2TkA1"
      }
    },
    {
      "cell_type": "markdown",
      "source": [
        "<sup/>Source: [Snippets: Importing libraries](https://colab.research.google.com/notebooks/snippets/importing_libraries.ipynb#scrollTo=GQ18Kd5F3uKe) from Colab Research<sup/>"
      ],
      "metadata": {
        "id": "yPLbyBK6TWck"
      }
    },
    {
      "cell_type": "code",
      "source": [
        "try:\n",
        "  import yfinance\n",
        "except:\n",
        "  print('Package not found')"
      ],
      "metadata": {
        "id": "Mc4hOJnl83el"
      },
      "execution_count": null,
      "outputs": []
    },
    {
      "cell_type": "code",
      "source": [
        "!pip install yfinance"
      ],
      "metadata": {
        "id": "_-kNRKS983hf"
      },
      "execution_count": null,
      "outputs": []
    },
    {
      "cell_type": "code",
      "source": [
        "import yfinance"
      ],
      "metadata": {
        "id": "lpFxsk5L83kt"
      },
      "execution_count": null,
      "outputs": []
    },
    {
      "cell_type": "code",
      "source": [
        "!apt-get install ghostscript"
      ],
      "metadata": {
        "id": "F0TTxUkw83ot"
      },
      "execution_count": null,
      "outputs": []
    },
    {
      "cell_type": "code",
      "source": [
        "!gs --version"
      ],
      "metadata": {
        "id": "6BsLSLPt83vm"
      },
      "execution_count": null,
      "outputs": []
    },
    {
      "cell_type": "markdown",
      "source": [
        "# **Install using `requirements.txt` File**"
      ],
      "metadata": {
        "id": "wV7aFX_Ra0oa"
      }
    },
    {
      "cell_type": "code",
      "source": [
        "!pip install -r /content/spacy_requirements.txt"
      ],
      "metadata": {
        "id": "6vN1u7Jr6p1U"
      },
      "execution_count": null,
      "outputs": []
    },
    {
      "cell_type": "markdown",
      "source": [
        "# **Install using Git**"
      ],
      "metadata": {
        "id": "T8JVi5PtcokT"
      }
    },
    {
      "cell_type": "code",
      "source": [
        "!git clone https://github.com/explosion/spaCy"
      ],
      "metadata": {
        "id": "2YNMHN-i6r0d"
      },
      "execution_count": null,
      "outputs": []
    },
    {
      "cell_type": "code",
      "source": [
        "%cd spaCy"
      ],
      "metadata": {
        "id": "71-G8M5M6r32"
      },
      "execution_count": null,
      "outputs": []
    },
    {
      "cell_type": "code",
      "source": [
        "!pip install ."
      ],
      "metadata": {
        "id": "SrdDouXl6r6v"
      },
      "execution_count": null,
      "outputs": []
    },
    {
      "cell_type": "code",
      "source": [
        "%cd /content"
      ],
      "metadata": {
        "id": "jvWxKyX46r9t"
      },
      "execution_count": null,
      "outputs": []
    },
    {
      "cell_type": "code",
      "source": [
        "import spacy"
      ],
      "metadata": {
        "id": "_RHJ5YbbBG-f"
      },
      "execution_count": null,
      "outputs": []
    },
    {
      "cell_type": "markdown",
      "source": [
        "# **Permanently Install Libraries**"
      ],
      "metadata": {
        "id": "KKO-9l3AkfWc"
      }
    },
    {
      "cell_type": "markdown",
      "source": [
        "<sup/>Source: [How do I install a library permanently in Colab?]() from StackOverflow.com<sup/>"
      ],
      "metadata": {
        "id": "4JJKJylz5Za1"
      }
    },
    {
      "cell_type": "code",
      "source": [
        "import os\n",
        "import sys\n",
        "from google.colab import drive\n",
        "drive.mount('/content/drive')"
      ],
      "metadata": {
        "id": "ZGTbY7VKDX_f"
      },
      "execution_count": null,
      "outputs": []
    },
    {
      "cell_type": "code",
      "source": [
        "!mkdir '/content/drive/My Drive/Packages'"
      ],
      "metadata": {
        "id": "nu5kFyJZDhbu"
      },
      "execution_count": null,
      "outputs": []
    },
    {
      "cell_type": "code",
      "source": [
        "package_path = '/content/packages'\n",
        "os.symlink('/content/drive/My Drive/Packages', package_path)\n",
        "sys.path.insert(0,package_path)"
      ],
      "metadata": {
        "id": "s1rAaQlnDI31"
      },
      "execution_count": null,
      "outputs": []
    },
    {
      "cell_type": "code",
      "source": [
        "!pip install --target=$package_path pyperclip"
      ],
      "metadata": {
        "id": "VAU9bgJYDI8n"
      },
      "execution_count": null,
      "outputs": []
    },
    {
      "cell_type": "code",
      "source": [
        "import pyperclip"
      ],
      "metadata": {
        "id": "eeQztWjQDJCH"
      },
      "execution_count": null,
      "outputs": []
    },
    {
      "cell_type": "markdown",
      "source": [
        "# **References and Additional Learning**"
      ],
      "metadata": {
        "id": "H-FMaVU6UHB7"
      }
    },
    {
      "cell_type": "markdown",
      "source": [
        "## **Websites**\n",
        "\n",
        "- **[How do I install a library permanently in Colab?]() from StackOverflow.com**\n",
        "\n",
        "- **[Snippets: Importing libraries](https://colab.research.google.com/notebooks/snippets/importing_libraries.ipynb#scrollTo=GQ18Kd5F3uKe) from Colab Research**"
      ],
      "metadata": {
        "id": "HcerwiPfT10r"
      }
    },
    {
      "cell_type": "markdown",
      "source": [
        "# **Connect**\n",
        "**Feel free to connect with Adrian on [YouTube](https://www.youtube.com/channel/UCPuDxI3xb_ryUUMfkm0jsRA), [LinkedIn](https://www.linkedin.com/in/adrian-dolinay-frm-96a289106/), [Twitter](https://twitter.com/DolinayG), [GitHub](https://github.com/ad17171717) and [Odysee](https://odysee.com/@adriandolinay:0). Happy coding!**"
      ],
      "metadata": {
        "id": "s1QK4U_LT58z"
      }
    }
  ]
}
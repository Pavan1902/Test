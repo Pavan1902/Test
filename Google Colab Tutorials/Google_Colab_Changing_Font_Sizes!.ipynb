{
  "nbformat": 4,
  "nbformat_minor": 0,
  "metadata": {
    "colab": {
      "name": "Google Colab - Changing Font Sizes!.ipynb",
      "provenance": [],
      "collapsed_sections": []
    },
    "kernelspec": {
      "name": "python3",
      "display_name": "Python 3"
    },
    "language_info": {
      "name": "python"
    }
  },
  "cells": [
    {
      "cell_type": "code",
      "execution_count": null,
      "metadata": {
        "id": "7qAf5ED-Cu2z"
      },
      "outputs": [],
      "source": [
        ""
      ]
    },
    {
      "cell_type": "markdown",
      "source": [
        "<sup><sup/>\n",
        "Source: [Font size does not change output (Google Colab)](https://github.com/googlecolab/colabtools/issues/2493) from GitHub"
      ],
      "metadata": {
        "id": "_5Zp_l_nMNDn"
      }
    },
    {
      "cell_type": "code",
      "source": [
        "[i for i in range(5)]"
      ],
      "metadata": {
        "id": "ccQvo8CFEEW-"
      },
      "execution_count": null,
      "outputs": []
    },
    {
      "cell_type": "markdown",
      "source": [
        "# **References and Additional Learning**"
      ],
      "metadata": {
        "id": "BINACNhGMvch"
      }
    },
    {
      "cell_type": "markdown",
      "source": [
        "## **Website**\n",
        "\n",
        "- **[Font size does not change output (Google Colab)](https://github.com/googlecolab/colabtools/issues/2493) from GitHub**"
      ],
      "metadata": {
        "id": "ucr3JzbrL95Y"
      }
    },
    {
      "cell_type": "markdown",
      "source": [
        "# **Connect**\n",
        "- **Feel free to connect with Adrian on [YouTube](https://www.youtube.com/channel/UCPuDxI3xb_ryUUMfkm0jsRA), [LinkedIn](https://www.linkedin.com/in/adrian-dolinay-frm-96a289106/), [Twitter](https://twitter.com/DolinayG), [GitHub](https://github.com/ad17171717) and [Odysee](https://odysee.com/@adriandolinay:0). Happy coding!**"
      ],
      "metadata": {
        "id": "12JeCBC5MeWg"
      }
    }
  ]
}
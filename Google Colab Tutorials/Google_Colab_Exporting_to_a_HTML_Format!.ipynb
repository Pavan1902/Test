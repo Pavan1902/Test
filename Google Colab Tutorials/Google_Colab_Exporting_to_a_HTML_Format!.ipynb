{
  "nbformat": 4,
  "nbformat_minor": 0,
  "metadata": {
    "colab": {
      "provenance": [],
      "authorship_tag": "ABX9TyP2ompOTe0lLQm1oE/wICUG",
      "include_colab_link": true
    },
    "kernelspec": {
      "name": "python3",
      "display_name": "Python 3"
    },
    "language_info": {
      "name": "python"
    }
  },
  "cells": [
    {
      "cell_type": "markdown",
      "metadata": {
        "id": "view-in-github",
        "colab_type": "text"
      },
      "source": [
        "<a href=\"https://colab.research.google.com/github/ad17171717/YouTube-Tutorials/blob/main/Google%20Colab%20Tutorials/Google_Colab_Exporting_to_a_HTML_Format!.ipynb\" target=\"_parent\"><img src=\"https://colab.research.google.com/assets/colab-badge.svg\" alt=\"Open In Colab\"/></a>"
      ]
    },
    {
      "cell_type": "markdown",
      "source": [
        "# **nbconvert**\n",
        "\n",
        "**The `nbconvert` tool allows you to convert a Jupyter `.ipynb` notebook file into another static format such as: HTML, LaTeX, PDF, Markdown and more.**"
      ],
      "metadata": {
        "id": "UqqyBEsZsaSm"
      }
    },
    {
      "cell_type": "code",
      "source": [
        "!jupyter nbconvert --execute --to html \"/content/Finance_with_Python!_Net_Present_Value_(NPV)_full.ipynb\""
      ],
      "metadata": {
        "id": "w1xC48U4qU20",
        "colab": {
          "base_uri": "https://localhost:8080/"
        },
        "outputId": "7c230e1b-24b3-4587-afa5-d82ab4dad158"
      },
      "execution_count": 2,
      "outputs": [
        {
          "output_type": "stream",
          "name": "stdout",
          "text": [
            "[NbConvertApp] Converting notebook /content/Finance_with_Python!_Net_Present_Value_(NPV)_full.ipynb to html\n",
            "[NbConvertApp] Writing 822888 bytes to /content/Finance_with_Python!_Net_Present_Value_(NPV)_full.html\n"
          ]
        }
      ]
    },
    {
      "cell_type": "markdown",
      "source": [
        "# **References and Additional Learning**"
      ],
      "metadata": {
        "id": "H4y9v2ygrEQF"
      }
    },
    {
      "cell_type": "markdown",
      "source": [
        "## **Website**\n",
        "\n",
        "- **[Convert Notebooks to other formats](https://nbconvert.readthedocs.io/en/latest/) from nbconvert Documentation**"
      ],
      "metadata": {
        "id": "Qnj6Oqk9rFBd"
      }
    },
    {
      "cell_type": "markdown",
      "source": [
        "# **Connect**\n",
        "- **Feel free to connect with Adrian on [YouTube](https://www.youtube.com/channel/UCPuDxI3xb_ryUUMfkm0jsRA), [LinkedIn](https://www.linkedin.com/in/adrian-dolinay-frm-96a289106/), [Twitter](https://twitter.com/DolinayG), [GitHub](https://github.com/ad17171717), [Medium](https://adriandolinay.medium.com/) and [Odysee](https://odysee.com/@adriandolinay:0). Happy coding!**"
      ],
      "metadata": {
        "id": "P-CA3p_sq9Sl"
      }
    }
  ]
}
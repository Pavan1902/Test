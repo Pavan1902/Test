{
  "cells": [
    {
      "cell_type": "markdown",
      "metadata": {
        "id": "view-in-github",
        "colab_type": "text"
      },
      "source": [
        "<a href=\"https://colab.research.google.com/github/ad17171717/YouTube-Tutorials/blob/main/Google%20Colab%20Tutorials/Google_Colab!_Deleting_Files.ipynb\" target=\"_parent\"><img src=\"https://colab.research.google.com/assets/colab-badge.svg\" alt=\"Open In Colab\"/></a>"
      ]
    },
    {
      "cell_type": "code",
      "source": [
        "import shutil\n",
        "import os"
      ],
      "metadata": {
        "id": "-iAad4vBg4Tq"
      },
      "execution_count": 1,
      "outputs": []
    },
    {
      "cell_type": "code",
      "source": [
        "#create copies of folders, empty directories and directories to delete\n",
        "\n",
        "#files\n",
        "!cp /content/sample_data/README.md /content/readme_1.md\n",
        "!cp /content/sample_data/README.md /content/readme_2.md\n",
        "\n",
        "#empty directories\n",
        "!mkdir method_1 method_2\n",
        "\n",
        "#copy directories with files\n",
        "!cp -r /content/sample_data /content/sample_data_1\n",
        "!cp -r /content/sample_data /content/sample_data_2"
      ],
      "metadata": {
        "id": "yVWK1xhJ-CH3"
      },
      "execution_count": 2,
      "outputs": []
    },
    {
      "cell_type": "markdown",
      "source": [
        "# **Method 1: `rm` Linux Command**"
      ],
      "metadata": {
        "id": "fW1_YdJsKyae"
      }
    },
    {
      "cell_type": "code",
      "source": [
        "#deleting a single file\n",
        "!rm /content/readme_1.md"
      ],
      "metadata": {
        "id": "cLvJ7U-0K1VQ"
      },
      "execution_count": 3,
      "outputs": []
    },
    {
      "cell_type": "code",
      "source": [
        "#deleting an empty directory\n",
        "!rm -d /content/method_1"
      ],
      "metadata": {
        "id": "KMlT9nwmLjD8"
      },
      "execution_count": 4,
      "outputs": []
    },
    {
      "cell_type": "code",
      "source": [
        "#deleting files conditionally\n",
        "%%bash\n",
        "directory=\"/content/sample_data_1\"\n",
        "\n",
        "for file in \"$directory\"/*; do\n",
        "  if [[ \"$file\" == *\"csv\"* ]]; then\n",
        "    rm \"$file\"\n",
        "  fi\n",
        "done"
      ],
      "metadata": {
        "id": "vbi8JNyn1y7l"
      },
      "execution_count": 5,
      "outputs": []
    },
    {
      "cell_type": "code",
      "source": [
        "#deleting a directory with files\n",
        "!rm -rf /content/sample_data_1"
      ],
      "metadata": {
        "id": "WCA7HGsW_VRE"
      },
      "execution_count": 6,
      "outputs": []
    },
    {
      "cell_type": "markdown",
      "source": [
        "# **Method 2: Python**"
      ],
      "metadata": {
        "id": "3PpSIYLBK_PA"
      }
    },
    {
      "cell_type": "code",
      "source": [
        "#deleting a single file\n",
        "os.remove('/content/readme_2.md')"
      ],
      "metadata": {
        "id": "7loLYxMiLDq5"
      },
      "execution_count": 7,
      "outputs": []
    },
    {
      "cell_type": "code",
      "source": [
        "#deleting an empty directory\n",
        "os.rmdir('/content/method_2')"
      ],
      "metadata": {
        "id": "0AHquCPNNcS2"
      },
      "execution_count": 8,
      "outputs": []
    },
    {
      "cell_type": "code",
      "source": [
        "#deleting files conditionally\n",
        "source_directory = '/content/sample_data_2'\n",
        "\n",
        "for file in os.listdir(source_directory):\n",
        "  if 'csv' not in file:\n",
        "    os.remove(f'{source_directory}/{file}')"
      ],
      "metadata": {
        "id": "ajP4_2fi76k9"
      },
      "execution_count": 9,
      "outputs": []
    },
    {
      "cell_type": "code",
      "source": [
        "#deleting a directory with files\n",
        "shutil.rmtree"
      ],
      "metadata": {
        "id": "9BwzQG6uAmRz",
        "colab": {
          "base_uri": "https://localhost:8080/"
        },
        "outputId": "9c0637d6-956c-4dd1-a3f9-b77e9886a4a9"
      },
      "execution_count": 10,
      "outputs": [
        {
          "output_type": "execute_result",
          "data": {
            "text/plain": [
              "<function shutil.rmtree(path, ignore_errors=False, onerror=None)>"
            ]
          },
          "metadata": {},
          "execution_count": 10
        }
      ]
    },
    {
      "cell_type": "markdown",
      "source": [
        "# **References and Additional Learning**"
      ],
      "metadata": {
        "id": "mmVp4PSAf7w-"
      }
    },
    {
      "cell_type": "markdown",
      "source": [
        "## **Documentation**\n",
        "\n",
        "- **[`os` Documentation](https://docs.python.org/3/library/os.html) from Python.org**\n",
        "\n",
        "- **[`rm` Linux manual page](https://man7.org/linux/man-pages/man1/rm.1.html) from man7.org**\n",
        "\n",
        "- **[`shutil` Documentation](https://docs.python.org/3/library/shutil.html#module-shutil) from Python.org**"
      ],
      "metadata": {
        "id": "eOKhTR_HRDaU"
      }
    },
    {
      "cell_type": "markdown",
      "source": [
        "# **Connect**\n",
        "- **Feel free to connect with Adrian on [YouTube](https://www.youtube.com/channel/UCPuDxI3xb_ryUUMfkm0jsRA), [LinkedIn](https://www.linkedin.com/in/adrian-dolinay-frm-96a289106/), [Twitter](https://twitter.com/DolinayG), [GitHub](https://github.com/ad17171717), [Medium](https://adriandolinay.medium.com/) and [Odysee](https://odysee.com/@adriandolinay:0). Happy coding!**"
      ],
      "metadata": {
        "id": "YBaP_63dLF_D"
      }
    }
  ],
  "metadata": {
    "colab": {
      "provenance": [],
      "authorship_tag": "ABX9TyM8unn+10fxH7zhpVK+Mv6U",
      "include_colab_link": true
    },
    "kernelspec": {
      "display_name": "Python 3",
      "name": "python3"
    },
    "language_info": {
      "name": "python"
    }
  },
  "nbformat": 4,
  "nbformat_minor": 0
}
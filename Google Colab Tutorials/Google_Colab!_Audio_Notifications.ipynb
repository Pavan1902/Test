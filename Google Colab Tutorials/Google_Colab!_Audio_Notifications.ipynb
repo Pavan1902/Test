{
  "nbformat": 4,
  "nbformat_minor": 0,
  "metadata": {
    "colab": {
      "provenance": [],
      "authorship_tag": "ABX9TyNDt9roSeacDMv5PR7CKrzT",
      "include_colab_link": true
    },
    "kernelspec": {
      "name": "python3",
      "display_name": "Python 3"
    },
    "language_info": {
      "name": "python"
    }
  },
  "cells": [
    {
      "cell_type": "markdown",
      "metadata": {
        "id": "view-in-github",
        "colab_type": "text"
      },
      "source": [
        "<a href=\"https://colab.research.google.com/github/ad17171717/YouTube-Tutorials/blob/main/Google%20Colab%20Tutorials/Google_Colab!_Audio_Notifications.ipynb\" target=\"_parent\"><img src=\"https://colab.research.google.com/assets/colab-badge.svg\" alt=\"Open In Colab\"/></a>"
      ]
    },
    {
      "cell_type": "code",
      "source": [
        "from IPython.display import Audio"
      ],
      "metadata": {
        "id": "yK4EEWSbOHXM"
      },
      "execution_count": null,
      "outputs": []
    },
    {
      "cell_type": "markdown",
      "source": [
        "# **Audio Notification**\n",
        "\n",
        "**Notebook to set up an audio notification once a code snippet finishes running.**"
      ],
      "metadata": {
        "id": "POiEIF95dzVB"
      }
    },
    {
      "cell_type": "code",
      "source": [
        "#download audio into the content directory\n",
        "!wget https://upload.wikimedia.org/wikipedia/commons/b/bd/Bachgasse_Schulglocke_Paganinnni_2021_01.ogg"
      ],
      "metadata": {
        "colab": {
          "base_uri": "https://localhost:8080/"
        },
        "id": "fLhHPy_0a-i4",
        "outputId": "e2fa91e6-471f-41c6-989c-dff20a64694d"
      },
      "execution_count": null,
      "outputs": [
        {
          "output_type": "stream",
          "name": "stdout",
          "text": [
            "--2023-11-26 16:37:16--  https://upload.wikimedia.org/wikipedia/commons/b/bd/Bachgasse_Schulglocke_Paganinnni_2021_01.ogg\n",
            "Resolving upload.wikimedia.org (upload.wikimedia.org)... 198.35.26.112, 2620:0:863:ed1a::2:b\n",
            "Connecting to upload.wikimedia.org (upload.wikimedia.org)|198.35.26.112|:443... connected.\n",
            "HTTP request sent, awaiting response... 200 OK\n",
            "Length: 930320 (909K) [application/ogg]\n",
            "Saving to: ‘Bachgasse_Schulglocke_Paganinnni_2021_01.ogg.1’\n",
            "\n",
            "Bachgasse_Schulgloc 100%[===================>] 908.52K  --.-KB/s    in 0.1s    \n",
            "\n",
            "2023-11-26 16:37:16 (6.57 MB/s) - ‘Bachgasse_Schulglocke_Paganinnni_2021_01.ogg.1’ saved [930320/930320]\n",
            "\n"
          ]
        }
      ]
    },
    {
      "cell_type": "code",
      "source": [
        "for i in range(10000):\n",
        "  print(i)\n",
        "\n",
        "Audio('/content/Bachgasse_Schulglocke_Paganinnni_2021_01.ogg', autoplay=True)"
      ],
      "metadata": {
        "id": "ovfxTLgCaN7u"
      },
      "execution_count": null,
      "outputs": []
    },
    {
      "cell_type": "markdown",
      "source": [
        "# **References and Additional Learning**"
      ],
      "metadata": {
        "id": "6GNtl4hSeaq7"
      }
    },
    {
      "cell_type": "markdown",
      "source": [
        "## **Documentation**\n",
        "\n",
        "- **[Audio Files](https://commons.wikimedia.org/wiki/Main_Page) from WikiMedia.org**\n",
        "\n",
        "- **[IPython `display`](https://ipython.org/ipython-doc/3/api/generated/IPython.display.html) from IPython.org**"
      ],
      "metadata": {
        "id": "8Q2DlAjKewhj"
      }
    },
    {
      "cell_type": "markdown",
      "source": [
        "# **Connect**\n",
        "- **Feel free to connect with Adrian on [YouTube](https://www.youtube.com/channel/UCPuDxI3xb_ryUUMfkm0jsRA), [LinkedIn](https://www.linkedin.com/in/adrian-dolinay-frm-96a289106/), [Twitter](https://twitter.com/DolinayG), [GitHub](https://github.com/ad17171717), [Medium](https://adriandolinay.medium.com/) and [Odysee](https://odysee.com/@adriandolinay:0). Happy coding!**"
      ],
      "metadata": {
        "id": "nHDUXInEea_L"
      }
    }
  ]
}